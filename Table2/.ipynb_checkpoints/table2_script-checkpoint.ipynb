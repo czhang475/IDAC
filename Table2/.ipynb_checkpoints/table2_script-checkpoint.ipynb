{
 "cells": [
  {
   "cell_type": "code",
   "execution_count": 1,
   "metadata": {},
   "outputs": [],
   "source": [
    "import numpy as np\n",
    "import pandas as pd\n",
    "from pandas import DataFrame as df\n",
    "from openeye.oechem import *\n",
    "from openeye.oeiupac import *"
   ]
  },
  {
   "cell_type": "code",
   "execution_count": 2,
   "metadata": {},
   "outputs": [],
   "source": [
    "#Returns True if inputted function is a float\n",
    "def is_number(s):\n",
    "    if type(s) == tuple:\n",
    "        return False\n",
    "    try:\n",
    "        float(s)\n",
    "        return True\n",
    "    except ValueError:\n",
    "        return False\n",
    "    \n",
    "#Returns index of any values in a column that are not floats\n",
    "def check_value(column):\n",
    "    problem_index = []\n",
    "    for i,entry in enumerate(column):\n",
    "        if is_number(entry) == False:\n",
    "            problem_index.append(i)\n",
    "    return problem_index\n",
    "\n",
    "\n",
    "#Cleans a column of temperature values \n",
    "#operations in the function are made by inspection\n",
    "def clean_temp(value):\n",
    "    if value[0].isdigit() == False: #fixes terms with characters out in front (i.e. .373.15)\n",
    "        value = value[1:]\n",
    "    value = value.replace(',','.')\n",
    "    value = value.replace('l','1')\n",
    "    value = value.replace('I','1')\n",
    "    value = value.replace('i','1')\n",
    "    value = value.replace(' ', '')\n",
    "    value = value.replace('A', '.1')\n",
    "    value = value.replace('t', '1')\n",
    "    return value\n",
    "\n",
    "#Cleans a column of measured values \n",
    "def clean_measure(value):\n",
    "    value = value.replace(\" \", \"\")\n",
    "    value = value.replace(\",\", \".\")\n",
    "    value = value.replace('l', \"1\")\n",
    "    value = value.replace('I', \"1\")\n",
    "    value = value.replace('O', '0')\n",
    "    value = value.replace(\"x10\",\"e\")\n",
    "    value = value.replace(\"×10\", \"e\")\n",
    "    value = value.replace(\"s10\", \"e\")\n",
    "    value = value.replace(\"10s\", \"5\")\n",
    "    value = value.replace('es', \"e5\")\n",
    "    value = value.replace('i', '1')\n",
    "    value = value.replace('>', \"\")\n",
    "    value = value.replace('¢', \"c\")\n",
    "    value = value.replace('-.', \"\")\n",
    "    value = value.replace('g', '9')\n",
    "    value = value.replace('/.', 'e')\n",
    "    value = value.replace('/,', 'e')\n",
    "    value = value.replace('/', 'e')\n",
    "    value = value.replace('103', '3')\n",
    "    value = value.replace('104', '4')\n",
    "    value = value.replace('105', '5')\n",
    "    value = value.replace('106', '6')\n",
    "    value = value.replace('107', '7')\n",
    "    value = value.replace('10T', '7')\n",
    "    value = value.replace('T', '7')\n",
    "    value = value.replace('_', 'e')\n",
    "    return value\n",
    "\n",
    "def findOccur(s, ch):\n",
    "    return [i for i, letter in enumerate(s) if letter == ch]\n",
    "\n",
    "#Finds the maximum value of a list of lists\n",
    "def max_value(inputlist):\n",
    "    maxs = []\n",
    "    for sublist in inputlist:\n",
    "        maxs.append(max(sublist))\n",
    "    return max(maxs)\n",
    "\n",
    "#Finds the minimum value of a list of lists\n",
    "def min_value(inputlist):\n",
    "    mins = []\n",
    "    for sublist in inputlist:\n",
    "        mins.append(min(sublist))\n",
    "    return min(mins)\n",
    "\n",
    "\n",
    "#If an entry has an uncertainty, return the \n",
    "def split_uncertain(value):\n",
    "    chars = set('+-_±')\n",
    "    all_index = []\n",
    "    \n",
    "    for c in chars:\n",
    "        if len(findOccur(value,c)) == 0:\n",
    "            pass\n",
    "        else:\n",
    "            all_index.append(findOccur(value,c))\n",
    "            \n",
    "    if len(all_index) == 0:\n",
    "        return value\n",
    "    \n",
    "    else:   \n",
    "        max_i = max_value(all_index)\n",
    "        min_i = min_value(all_index)\n",
    "    \n",
    "        return value[:min_i], value[(max_i+1):]\n",
    "\n",
    "\n",
    "def extractvalue(measured):\n",
    "    if type(measured) == str:\n",
    "        return measured\n",
    "    else:\n",
    "        return measured[0]\n",
    "\n",
    "def extractuncertain(measured):\n",
    "    if type(measured) == str:\n",
    "        return '0'\n",
    "    else:\n",
    "        return measured[1]\n",
    "\n",
    "def endswitha(value):\n",
    "    if value[-1] == 'a':\n",
    "        return True\n",
    "    else:\n",
    "        return False    \n",
    "\n",
    "def endswithb(value):\n",
    "    if value[-1] == 'b':\n",
    "        return True\n",
    "    else:\n",
    "        return False\n",
    "\n",
    "def endswithc(value):\n",
    "    if value[-1] == 'c':\n",
    "        return True\n",
    "    else:\n",
    "        return False\n",
    "    \n",
    "def removeend(string):\n",
    "    return string[:-1]\n",
    "    \n",
    "def check_names(names):\n",
    "    #Code adapted from Pharmsci 175/275\n",
    "    bad_names = []\n",
    "    for name in names:\n",
    "    #Create a new OEMol\n",
    "        mol_from_name = OEMol()\n",
    "        if OEParseIUPACName(mol_from_name, name) == True:\n",
    "            pass\n",
    "        else:\n",
    "            bad_names.append(name)\n",
    "    return bad_names\n",
    "\n",
    "def method():\n",
    "    '''\n",
    "    GCR: Gas-liquid chromatography with gas phase correction\n",
    "    GC: Gas-liquid chromatography with no gas phase correction\n",
    "    EBUL: Differential ebulliometry\n",
    "    DP: Dew-point method\n",
    "    NSGC: Non-steady-state gas chromatography\n",
    "    RGC: Relative gas-liquid chromatography\n",
    "    HS: Headspace chromatography\n",
    "    GS: Gas-stripping\n",
    "    STAT: Differential static cell equilibrium\n",
    "    LLC: Liquid-liquid chromatography\n",
    "    KHW: Hexadecane-water partition cofficient indirect method\n",
    "    KGW: Estimation from gas-water partition coefficients from solubility measurements\n",
    "    EXT: Extrapolated VLE\n",
    "    '''\n",
    "    return "
   ]
  },
  {
   "cell_type": "code",
   "execution_count": 3,
   "metadata": {},
   "outputs": [],
   "source": [
    "table = pd.read_csv('table2.csv', delimiter = ',',  encoding='latin-1')\n",
    "table = table.drop(columns = ['Unnamed: 4', 'Unnamed: 5', 'Unnamed: 6', 'Unnamed: 7', 'Unnamed: 8'])\n",
    "table = table[pd.notnull(table['Solvent'])]\n",
    "table = table[pd.notnull(table['Temp'])]\n",
    "table = table[pd.notnull(table['Measured'])]\n",
    "table = table.reset_index(drop = True)\n",
    "table2 = table"
   ]
  },
  {
   "cell_type": "code",
   "execution_count": 4,
   "metadata": {},
   "outputs": [],
   "source": [
    "#Many solvent names had an additional footnote\n",
    "table.loc[table.Solvent.apply(endswitha) == True, 'Notes'] = 'This compound can also be found in Table 1'\n",
    "table.loc[table.Solvent.apply(endswitha) == True, 'Solvent'] = table.Solvent.apply(removeend)\n"
   ]
  },
  {
   "cell_type": "code",
   "execution_count": 5,
   "metadata": {},
   "outputs": [],
   "source": [
    "b= check_names(table.Solvent.unique()) #function from OpenEye package"
   ]
  },
  {
   "cell_type": "code",
   "execution_count": 6,
   "metadata": {},
   "outputs": [],
   "source": [
    "#Entries 98, 103 were purposely skipped\n",
    "table.Solvent = table.Solvent.replace({\n",
    "    b[0]: 'Isobutane', b[1]: '2-Methylhexane', b[2]: 'Cycloheptane', \n",
    "    b[3]: 'Methylcyclohexane', b[4]: 'Cyclooctane', b[5]: 'Cis-1,2-dimethyl cyclohexane',\n",
    "    b[6]: 'Pentylcyclopentane', b[7]: '2-Methylpropene', b[8]: '3-Methyl-1-butene',\n",
    "    b[9]: '2-Methyl-2-butene', b[10]: '2-Methyl-1-pentene', b[11]: '4-Methyl-1-pentene',\n",
    "    b[12]: '2,3-dimethyl-1-butene', b[13]: '2-Heptene', b[14]: '2-methyl-1,3-butadiene',\n",
    "    b[15]: '1-Pentyne', b[16]: '1,8-Nonanediyne', b[17]: 'p-Methyl styrene',\n",
    "    b[18]: '1,2,3-Trimethylbenzene', b[19]: 'Tert-butylbenzene', b[20]: '1-Ethylnapthalene', \n",
    "    b[21]: '11~{H}-benzo[a]fluorene', b[22]: '11~{H}-benzo[b]fluorene', b[23]: '1,2-Benzanthracene', \n",
    "    b[24]: '7,12-dimethylbenzo[a]anthracene', b[25]: 'Benzo[a]pyrene', b[26]: '3,4-Benzopyrene', \n",
    "    b[27]: '3-Methylcholanthrene', b[28]: 'Benzo[ghi]perylene', b[29]: 'Trichlorofluoroethane', \n",
    "    b[30]: 'Dichlorodifluoroethane', b[31]: 'Chlorotrifluoromethane', b[32]: 'Nitrotrichloromethane', \n",
    "    b[33]: 'Dichlorofluoromethane', b[34]: 'Chlorodifluoromethane', b[35]: 'Difluoromethane', \n",
    "    b[36]: 'Chloromethane', b[37]: 'Hexachloroethane', b[38]: 'Chloropentafluoroethane', \n",
    "    b[39]: 'Tetrafluoroethene', b[40]: 'Pentachloroethane', b[41]: '1-Bromo-2-chloroethane', \n",
    "    b[42]: 'Cis-1,2-dichloroethene', b[43]: '3-Chloro-1-propene', b[44]: '1,2,3-Trichloropropane', \n",
    "    b[45]: '1,2-Dibromopropane', b[46]: '1,3-Dichloropropane', b[47]: '2-Iodopropane', \n",
    "    b[48]: 'Octafluorocyclobutane', b[49]: '1-Chloro-2-methylpropane', b[50]: '2-Chloro-2-methylbutane', \n",
    "    b[51]: 'm-Dichlorobenzene', b[52]: 'o-Dichlorobenzene', b[53]: '1,2,3-Trichlorobenzene', \n",
    "    b[54]: '1,2,4-Trichlorobenzene', b[55]: '1,2,3,4-Tetrachlorobenzene', b[56]: '1,2,4,5-Tetrachlorobenzene', \n",
    "    b[57]: 'Pentachlorobenzene', b[58]: 'm-Difluorobenzene', b[59]: 'p-Difluorobenzene', \n",
    "    b[60]: '1-Pentanol', b[61]: '2-Methyl-1-butanol', b[62]: '2,2-Dimethyl-1-propanol', \n",
    "    b[63]: '3-Hexanol', b[64]: '2-Methyl-2-pentanol', b[65]: '2-Methyl-3-pentanol', \n",
    "    b[66]: '4-Methyl-2-pentanol', b[67]: '3-Methyl-2-pentanol', b[68]: '3-Methyl-3-pentanol', \n",
    "    b[69]: '2,2-Dimethyl-1-butanol', b[70]: '2,3-Dimethyl-2-butanol', b[71]: '3,3-Dimethyl-2-butanol', \n",
    "    b[72]: '2-Methyl-4-pentene-3-ol', b[73]: '2-Methyl-2-hexanol', b[74]: '3-Methyl-3-hexanol', \n",
    "    b[75]: '2,3-Dimethyl-2-pentanol', b[76]: '2,4-Dimethyl-2-pentanol', b[77]: '2,2-Dimethyl-3-pentanol', \n",
    "    b[78]: '2,3-Dimethyl-3-pentanol', b[79]: '2,4-Dimethyl-3-pentanol', b[80]: '3-Ethyl-3-Pentanol', \n",
    "    b[81]: '2,2,3-Trimethyl-3-pentanol', b[82]: '1-Nonanol', b[83]: '1-Dodecanol', \n",
    "    b[84]: '1-Tetradecanol', b[85]: '1-Hexadecanol', b[86]: '1-Heptadecanol', \n",
    "    b[87]: '1,3-Nonanediol', b[88]: '1,4-Dimethyl-2,4-octanediol', b[89]: '2,4-Dimethyl-2,4-nonanediol', \n",
    "    b[90]: '2-Propyl-1,3-heptanediol', b[91]: '2-Methyl-3-pentanone', b[92]: '3-Methyl-2-pentanone', \n",
    "    b[93]: '4-Methyl-2-pentanone', b[94]: '3,3-Dimethyl-2-butanone', b[95]: '2,4-Dimethyl-3-pentanone', \n",
    "    b[96]: '5-Methyl-2-hexanone', b[97]: '2,6-Dimethyl-4-heptanone', b[98]: 'Vinyl acetate',\n",
    "    b[99]: 'Ethyl propenoate', b[100]: 'Ethyl propionate', b[101]: 'Propyl butyrate', \n",
    "    b[102]: 'Isopropyl butyrate', b[103]: '~{tert}-butyl hypochlorite', b[104]: 'Sec-butyl methyl ether', \n",
    "    b[105]: 'Sec-butyl methyl, 2-methyl ether', b[106]: '1-propan-2-yloxypropane', b[107]: 'Nonanal', \n",
    "    b[108]: '1-Ethyl piperidine', b[109]: '3-Ethyl-4-methylpyridine', b[110]: '1-Propyl piperidine', \n",
    "    b[111]: '2-Amino toluene', b[112]: '2-Nitropropane', b[113]: '2-Nitro-1-methoxybenzene', \n",
    "    b[114]: 'Carbon bisulfide'\n",
    "    \n",
    "})"
   ]
  },
  {
   "cell_type": "code",
   "execution_count": 7,
   "metadata": {},
   "outputs": [
    {
     "data": {
      "text/plain": [
       "True"
      ]
     },
     "execution_count": 7,
     "metadata": {},
     "output_type": "execute_result"
    }
   ],
   "source": [
    "mol_from_name = OEMol()\n",
    "name = '11~{H}-benzo[b]fluorene'\n",
    "OEParseIUPACName(mol_from_name, name)"
   ]
  },
  {
   "cell_type": "code",
   "execution_count": 8,
   "metadata": {},
   "outputs": [
    {
     "data": {
      "text/html": [
       "<div>\n",
       "<style scoped>\n",
       "    .dataframe tbody tr th:only-of-type {\n",
       "        vertical-align: middle;\n",
       "    }\n",
       "\n",
       "    .dataframe tbody tr th {\n",
       "        vertical-align: top;\n",
       "    }\n",
       "\n",
       "    .dataframe thead th {\n",
       "        text-align: right;\n",
       "    }\n",
       "</style>\n",
       "<table border=\"1\" class=\"dataframe\">\n",
       "  <thead>\n",
       "    <tr style=\"text-align: right;\">\n",
       "      <th></th>\n",
       "      <th>Solvent</th>\n",
       "      <th>Temp</th>\n",
       "      <th>Measured</th>\n",
       "      <th>Ref</th>\n",
       "      <th>Notes</th>\n",
       "    </tr>\n",
       "  </thead>\n",
       "  <tbody>\n",
       "    <tr>\n",
       "      <th>102</th>\n",
       "      <td>1,8-Nonanediyne</td>\n",
       "      <td>298.15</td>\n",
       "      <td>53400</td>\n",
       "      <td>5</td>\n",
       "      <td>NaN</td>\n",
       "    </tr>\n",
       "  </tbody>\n",
       "</table>\n",
       "</div>"
      ],
      "text/plain": [
       "             Solvent    Temp Measured Ref Notes\n",
       "102  1,8-Nonanediyne  298.15    53400   5   NaN"
      ]
     },
     "execution_count": 8,
     "metadata": {},
     "output_type": "execute_result"
    }
   ],
   "source": [
    "table.loc[table.Solvent == '1,8-Nonanediyne']"
   ]
  },
  {
   "cell_type": "code",
   "execution_count": 9,
   "metadata": {},
   "outputs": [
    {
     "data": {
      "text/plain": [
       "['1,8-Nonanediyne',\n",
       " '1,2-Benzanthracene',\n",
       " '3,4-Benzopyrene',\n",
       " 'Benzo[ghi]perylene',\n",
       " 'Sec-butyl methyl, 2-methyl ether']"
      ]
     },
     "execution_count": 9,
     "metadata": {},
     "output_type": "execute_result"
    }
   ],
   "source": [
    "bad_names = check_names(table.Solvent.unique())\n",
    "bad_names #couple names to fix"
   ]
  },
  {
   "cell_type": "code",
   "execution_count": 10,
   "metadata": {},
   "outputs": [],
   "source": [
    "#Fixing References\n",
    "table['Ref'] = table['Ref'].replace({\n",
    "    \"15'\": '15', \"t6\": '16', \"I0,12\": '10,12',\"~ 3\": '2,3'})"
   ]
  },
  {
   "cell_type": "markdown",
   "metadata": {},
   "source": [
    "### Cleaning Temperature Values"
   ]
  },
  {
   "cell_type": "code",
   "execution_count": 11,
   "metadata": {},
   "outputs": [
    {
     "name": "stdout",
     "output_type": "stream",
     "text": [
      "0\n"
     ]
    }
   ],
   "source": [
    "#Saves index of all rows with messed up temperature values\n",
    "temp_probs = check_value(table['Temp'])\n",
    "\n",
    "#Apply temperature cleaning function on all rows with bad temperature values\n",
    "table.loc[table.Temp.apply(is_number) == False, 'Temp'] = table.Temp.apply(clean_temp)\n",
    "\n",
    "#Manually changing one value\n",
    "table.iloc[244,:].Temp = '298.15'\n",
    "\n",
    "temp_probs = check_value(table['Temp'])\n",
    "print(len(temp_probs))"
   ]
  },
  {
   "cell_type": "markdown",
   "metadata": {},
   "source": [
    "### Cleaning Measured Values"
   ]
  },
  {
   "cell_type": "code",
   "execution_count": 12,
   "metadata": {},
   "outputs": [
    {
     "name": "stdout",
     "output_type": "stream",
     "text": [
      "76\n"
     ]
    }
   ],
   "source": [
    "table.loc[table.Measured.apply(is_number) == False, 'Measured'] = table.Measured.apply(clean_measure)\n",
    "measure_probs = check_value(table['Measured'])\n",
    "print(len(measure_probs))\n"
   ]
  },
  {
   "cell_type": "code",
   "execution_count": 13,
   "metadata": {},
   "outputs": [],
   "source": [
    "table.iloc[6,:].Measured = '9.09e4'\n",
    "table.iloc[9,:].Measured = '7.42e4'\n",
    "table.iloc[25,:].Measured = '2.33e6'\n",
    "table.iloc[36,:].Measured = '9.08e6'\n",
    "table.iloc[46,:].Measured = '6.21e7'\n",
    "table.iloc[47,:].Measured = '1.52e8'\n",
    "table.iloc[48,:].Measured = '1.58e8'\n",
    "table.iloc[49,:].Measured = '3.43e8'\n",
    "table.iloc[53,:].Measured = '8.13e4'\n",
    "table.iloc[61,:].Measured = '2.02e2'\n",
    "table.iloc[62,:].Measured = '1.04e3'\n",
    "table.iloc[64,:].Measured = '4.79e3'\n",
    "table.iloc[65,:].Measured = '5.07e3'\n",
    "table.iloc[67,:].Measured = '2.63e4'\n",
    "table.iloc[68,:].Measured = '1.92e4'\n",
    "table.iloc[69,:].Measured = '2.50e4'\n",
    "table.iloc[79,:].Measured = '2.31e6'\n",
    "table.iloc[81,:].Measured = '4.09e3'\n",
    "table.iloc[86,:].Measured = '1.21e5'\n",
    "table.iloc[122,:].Measured = '3.676e4'\n",
    "table.iloc[123,:].Measured = '3.484e4'\n",
    "table.iloc[126,:].Measured = '3.006e4'\n",
    "table.iloc[135,:].Measured = '3.518e4'\n",
    "table.iloc[137,:].Measured = '3.750e4'\n",
    "table.iloc[145,:].Measured = '9.250e4'\n",
    "table.iloc[149,:].Measured = '1.181e5'\n",
    "table.iloc[152,:].Measured = '1.449e5'\n",
    "table.iloc[156,:].Measured = '1.134e5'\n",
    "table.iloc[163,:].Measured = '1.121e5'\n",
    "table.iloc[169,:].Measured = '4.24e5'\n",
    "table.iloc[170,:].Measured = '2.53e5'\n",
    "table.iloc[171,:].Measured = '2.14e6'\n",
    "table.iloc[172,:].Measured = '6.83e4'\n",
    "table.iloc[173,:].Measured = '6.42e4b'\n",
    "table.iloc[181,:].Measured = '4.69e5'\n",
    "table.iloc[182,:].Measured = '6.53e5b'\n",
    "table.iloc[185,:].Measured = '4.33e5b'\n",
    "table.iloc[187,:].Measured = '4.33e5b'\n",
    "table.iloc[190,:].Measured = '5.93e5b'\n",
    "table.iloc[191,:].Measured = '1.76e6'\n",
    "table.iloc[192,:].Measured = '1.50e6b'\n",
    "table.iloc[193,:].Measured = '1.84e6'\n",
    "table.iloc[194,:].Measured = '1.72e6b'\n",
    "table.iloc[195,:].Measured = '2.35e6'\n",
    "table.iloc[196,:].Measured = '4.17e6b'\n",
    "table.iloc[197,:].Measured = '1.14e7b'\n",
    "table.iloc[198,:].Measured = '5.77e6b'\n",
    "table.iloc[199,:].Measured = '4.17e6'\n",
    "table.iloc[200,:].Measured = '3.87e6b'\n",
    "table.iloc[201,:].Measured = '6.02e6b'\n",
    "table.iloc[202,:].Measured = '6.73e6b'\n",
    "table.iloc[203,:].Measured = '1.60e7b'\n",
    "table.iloc[204,:].Measured = '3.41e7b'\n",
    "table.iloc[205,:].Measured = '5.65e6b'\n",
    "table.iloc[206,:].Measured = '1.43e7b'\n",
    "table.iloc[207,:].Measured = '4.24e7b'\n",
    "table.iloc[208,:].Measured = '5.41e7'\n",
    "table.iloc[209,:].Measured = '2.60e7b'\n",
    "table.iloc[210,:].Measured = '1.15e8b'\n",
    "table.iloc[211,:].Measured = '3.75e8'\n",
    "table.iloc[212,:].Measured = '1.21e8b'\n",
    "table.iloc[213,:].Measured = '1.61e8b'\n",
    "table.iloc[214,:].Measured = '1.89e8b'\n",
    "table.iloc[215,:].Measured = '9.82e6b'\n",
    "table.iloc[232,:].Measured = '1.64e5'\n",
    "table.iloc[273,:].Measured = '1.02e5'\n",
    "table.iloc[276,:].Measured = '2.77e6'\n",
    "table.iloc[278,:].Measured = '2.011e7'\n",
    "table.iloc[279,:].Measured = '2.472e7'\n",
    "table.iloc[309,:].Measured = '1.765e5'\n",
    "table.iloc[310,:].Measured = '3.876e6'\n",
    "table.iloc[312,:].Measured = '1.43e8'\n",
    "table.iloc[313,:].Measured = '3.85e8'\n",
    "table.iloc[314,:].Measured = '1.79e9'\n",
    "table.iloc[315,:].Measured = '1.43e10'\n",
    "table.iloc[323,:].Measured = '361'"
   ]
  },
  {
   "cell_type": "code",
   "execution_count": 14,
   "metadata": {},
   "outputs": [
    {
     "name": "stdout",
     "output_type": "stream",
     "text": [
      "0\n"
     ]
    }
   ],
   "source": [
    "#Deals with values that have footnotes attached\n",
    "table.loc[table.Measured.apply(endswithb) == True, 'Notes'] = 'See Mackay and Shiu(1977) for fugacity ratio calculation'\n",
    "table.loc[table['Notes'] == 'See Mackay and Shiu(1977) for fugacity ratio calculation', 'Measured'] = table.Measured.apply(removeend)\n",
    "measure_probs = check_value(table['Measured'])\n",
    "print(len(measure_probs))\n"
   ]
  },
  {
   "cell_type": "code",
   "execution_count": 15,
   "metadata": {},
   "outputs": [],
   "source": [
    "table.iloc[7,:].Measured = '1.04e5'\n",
    "table.iloc[51,:].Measured = '2.558e9'\n",
    "table.iloc[60,:].Measured = '1.99e2'\n",
    "table.iloc[78,:].Measured = '3.63e5'\n",
    "table.iloc[90,:].Measured = '1.03e5'\n",
    "table.iloc[94,:].Measured = '1.04e2'\n",
    "table.iloc[95,:].Measured = '5.83e2'\n",
    "table.iloc[96,:].Measured = '2.41e3'"
   ]
  },
  {
   "cell_type": "code",
   "execution_count": 16,
   "metadata": {},
   "outputs": [],
   "source": [
    "#table.to_excel(\"table2_cleaned.xlsx\")"
   ]
  }
 ],
 "metadata": {
  "kernelspec": {
   "display_name": "Python 3",
   "language": "python",
   "name": "python3"
  },
  "language_info": {
   "codemirror_mode": {
    "name": "ipython",
    "version": 3
   },
   "file_extension": ".py",
   "mimetype": "text/x-python",
   "name": "python",
   "nbconvert_exporter": "python",
   "pygments_lexer": "ipython3",
   "version": "3.6.4"
  }
 },
 "nbformat": 4,
 "nbformat_minor": 2
}
