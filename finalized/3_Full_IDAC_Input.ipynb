{
 "cells": [
  {
   "cell_type": "code",
   "execution_count": 3,
   "metadata": {},
   "outputs": [],
   "source": [
    "import numpy as np\n",
    "import pandas as pd\n",
    "import pickle\n",
    "import oenotebook as oenb\n",
    "from openeye.oechem import *\n",
    "from openmoltools.openeye import *\n",
    "from openeye.oeiupac import *\n",
    "\n",
    "#from extraction import main\n",
    "from test_extract import main"
   ]
  },
  {
   "cell_type": "markdown",
   "metadata": {},
   "source": [
    "### Part 1: Checking SD Tags of Orion Output Data"
   ]
  },
  {
   "cell_type": "code",
   "execution_count": 4,
   "metadata": {},
   "outputs": [
    {
     "data": {
      "text/plain": [
       "'formic acid'"
      ]
     },
     "execution_count": 4,
     "metadata": {},
     "output_type": "execute_result"
    }
   ],
   "source": [
    "#Use output .oeb file and the following lines to create OEMol object with SD Tags\n",
    "input_file = 'output/results/IDAC_solvation_success.oeb'\n",
    "its = oechem.oemolistream(input_file)\n",
    "molecule = oechem.OEMol()\n",
    "oechem.OEReadMolecule(its, molecule)\n",
    "\n",
    "tag_name = 'name'\n",
    "#Check if a Certain SD Tag exists and its value\n",
    "oechem.OEGetSDData(molecule, tag_name)"
   ]
  },
  {
   "cell_type": "code",
   "execution_count": 5,
   "metadata": {},
   "outputs": [],
   "source": [
    "def DumpSDData(mol):\n",
    "    print(\"SD data of {}:\".format(mol.GetTitle()))\n",
    "    #Loop over SD Data\n",
    "    for dp in oechem.OEGetSDDataPairs(mol):\n",
    "        print(dp.GetTag())"
   ]
  },
  {
   "cell_type": "code",
   "execution_count": 6,
   "metadata": {},
   "outputs": [],
   "source": [
    "##Use imported function to convert .oeb input into a .csv\n",
    "# main('output/results/IDAC_solvation_success.oeb', 'output/results/IDAC_solvation_success.csv')\n",
    "# main('output/results/IDAC_solvation_fail.oeb', 'output/results/IDAC_solvation_fail.csv')\n",
    "# main('output/results/IDAC_ssolv_success.oeb', 'output/results/IDAC_ssolv_success.csv')\n",
    "# main('output/results/IDAC_ssolv_fail.oeb', 'output/results/IDAC_ssolv_fail.csv')"
   ]
  },
  {
   "cell_type": "code",
   "execution_count": 7,
   "metadata": {},
   "outputs": [],
   "source": [
    "def counting(table):\n",
    "    i = 0\n",
    "    for key in table:\n",
    "        i += len(table[key])\n",
    "    return i"
   ]
  },
  {
   "cell_type": "code",
   "execution_count": 8,
   "metadata": {},
   "outputs": [],
   "source": [
    "#Read in output files from Orion\n",
    "solv_success = pd.read_csv('output/results/IDAC_solvation_success.csv')\n",
    "solv_fail = pd.read_csv('output/results/IDAC_solvation_fail.csv')\n",
    "\n",
    "#Remove leading whitespace in column names\n",
    "solv_success.columns = [x.lstrip() for x in list(solv_success.columns)]\n",
    "solv_fail.columns = [x.lstrip() for x in list(solv_fail.columns)]\n",
    "\n",
    "ssolv_success = pd.read_csv('output/results/IDAC_ssolv_success.csv')\n",
    "ssolv_fail = pd.read_csv('output/results/IDAC_ssolv_fail.csv')\n",
    "\n",
    "#Remove leading whitespace in column names\n",
    "ssolv_success.columns = [x.lstrip() for x in list(ssolv_success.columns)]\n",
    "ssolv_fail.columns = [x.lstrip() for x in list(ssolv_fail.columns)]"
   ]
  },
  {
   "cell_type": "code",
   "execution_count": 9,
   "metadata": {},
   "outputs": [],
   "source": [
    "#Combined list of solvation and self-solvation calculation outputs\n",
    "combined_solv = solv_fail.append(solv_success)\n",
    "combined_ssolv = ssolv_fail.append(ssolv_success)"
   ]
  },
  {
   "cell_type": "code",
   "execution_count": 10,
   "metadata": {},
   "outputs": [],
   "source": [
    "#Import pickled dictionary to assess which entries are missing\n",
    "temp_dict = pickle.load(open('temp_dict.p', 'rb'))\n",
    "ref_table = pickle.load(open('input/final_table.p', 'rb'))\n",
    "solv_table = pickle.load(open('input/final_solv.pkl', 'rb'))\n",
    "ssolv_table = pickle.load(open('input/final_ssolv.pkl', 'rb'))"
   ]
  },
  {
   "cell_type": "code",
   "execution_count": 11,
   "metadata": {},
   "outputs": [],
   "source": [
    "#Create dictionaries with all compounds and the temperatures they were calculated at\n",
    "solv_dict = {}\n",
    "for name in combined_solv.Molecule.unique():\n",
    "    subset = combined_solv[combined_solv.Molecule == name]\n",
    "    solv_dict[name] = [x for x in subset['Temperature(K)']]\n",
    "\n",
    "ssolv_dict = {}\n",
    "for name in combined_ssolv.Molecule.unique():\n",
    "    subset = combined_ssolv[combined_ssolv.Molecule == name]\n",
    "    ssolv_dict[name] = [x for x in subset['Temperature(K)']]"
   ]
  },
  {
   "cell_type": "code",
   "execution_count": 12,
   "metadata": {},
   "outputs": [],
   "source": [
    "#Convert compound names to smiles to compare between dictionaries \n",
    "smiles = {}\n",
    "for name in temp_dict:\n",
    "    mol_from_name = OEMol()\n",
    "    OEParseIUPACName(mol_from_name, name)\n",
    "    smiles[name] = OECreateCanSmiString(mol_from_name)\n",
    "\n",
    "smiles_solv = {}\n",
    "for name in solv_dict:\n",
    "    mol_from_name = OEMol()\n",
    "    OEParseIUPACName(mol_from_name, name)\n",
    "    smiles_solv[name] = OECreateCanSmiString(mol_from_name)\n",
    "    \n",
    "smiles_ssolv = {}\n",
    "for name in ssolv_dict:\n",
    "    mol_from_name = OEMol()\n",
    "    OEParseIUPACName(mol_from_name, name)\n",
    "    smiles_ssolv[name] = OECreateCanSmiString(mol_from_name)"
   ]
  },
  {
   "cell_type": "code",
   "execution_count": 13,
   "metadata": {},
   "outputs": [],
   "source": [
    "#Create dictionaries with keys as SMILES strings for comparison\n",
    "total_dict = {}\n",
    "for name in temp_dict:\n",
    "    total_dict[smiles[name]] = temp_dict[name]\n",
    "    \n",
    "new_solv_dict = {}\n",
    "for name in solv_dict:\n",
    "    new_solv_dict[smiles_solv[name]] = solv_dict[name]\n",
    "\n",
    "new_ssolv_dict = {}\n",
    "for name in ssolv_dict:\n",
    "    new_ssolv_dict[smiles_ssolv[name]] = ssolv_dict[name]"
   ]
  },
  {
   "cell_type": "code",
   "execution_count": 14,
   "metadata": {},
   "outputs": [
    {
     "name": "stdout",
     "output_type": "stream",
     "text": [
      "Temp_dict: 240\n",
      "Solvation_dict: 237\n",
      "Self-Solvation_dict: 213\n"
     ]
    }
   ],
   "source": [
    "print('Temp_dict:', counting(total_dict))\n",
    "print('Solvation_dict:', counting(new_solv_dict))\n",
    "print('Self-Solvation_dict:', counting(new_ssolv_dict))"
   ]
  },
  {
   "cell_type": "markdown",
   "metadata": {},
   "source": [
    "### Searching for Dropped Values within Keys"
   ]
  },
  {
   "cell_type": "code",
   "execution_count": 15,
   "metadata": {},
   "outputs": [],
   "source": [
    "dropped_solv = {}\n",
    "for key in new_solv_dict:\n",
    "    if sorted(total_dict[key]) != sorted(new_solv_dict[key]):\n",
    "        dropped_solv[key] = list(set(total_dict[key]) ^ set(new_solv_dict[key]))\n",
    "        \n",
    "dropped_ssolv = {}        \n",
    "for key in new_ssolv_dict:\n",
    "    if sorted(total_dict[key]) != sorted(new_ssolv_dict[key]):\n",
    "        dropped_ssolv[key] = list(set(total_dict[key]) ^ set(new_ssolv_dict[key]))"
   ]
  },
  {
   "cell_type": "code",
   "execution_count": 16,
   "metadata": {},
   "outputs": [
    {
     "name": "stdout",
     "output_type": "stream",
     "text": [
      "1\n",
      "10\n"
     ]
    }
   ],
   "source": [
    "print(counting(dropped_solv))\n",
    "print(counting(dropped_ssolv))"
   ]
  },
  {
   "cell_type": "markdown",
   "metadata": {},
   "source": [
    "### Searching for Dropped Keys"
   ]
  },
  {
   "cell_type": "code",
   "execution_count": 17,
   "metadata": {},
   "outputs": [],
   "source": [
    "original_smiles = set([key for key in total_dict])\n",
    "solv_smiles = set([key for key in new_solv_dict])\n",
    "ssolv_smiles = set([key for key in new_ssolv_dict])\n",
    "\n",
    "solv_difference = list(original_smiles ^ solv_smiles)\n",
    "ssolv_difference = list(original_smiles ^ ssolv_smiles)\n",
    "\n",
    "bob = []\n",
    "for smile in solv_difference:\n",
    "    dropped_solv[smile] = total_dict[smile]\n",
    "\n",
    "for smile in ssolv_difference:\n",
    "    dropped_ssolv[smile] = total_dict[smile]"
   ]
  },
  {
   "cell_type": "code",
   "execution_count": 18,
   "metadata": {},
   "outputs": [
    {
     "name": "stdout",
     "output_type": "stream",
     "text": [
      "3\n",
      "27\n"
     ]
    }
   ],
   "source": [
    "print(counting(dropped_solv))\n",
    "print(counting(dropped_ssolv))"
   ]
  },
  {
   "cell_type": "markdown",
   "metadata": {},
   "source": [
    "### Printing Dropped Calculations"
   ]
  },
  {
   "cell_type": "code",
   "execution_count": 19,
   "metadata": {},
   "outputs": [],
   "source": [
    "solv_rip = pd.DataFrame()\n",
    "for key in dropped_solv:\n",
    "    subset = solv_table[solv_table['solute_SMILES'] == key]\n",
    "    for temp in dropped_solv[key]:\n",
    "        solv_rip = solv_rip.append(subset[subset.temperature == temp])"
   ]
  },
  {
   "cell_type": "code",
   "execution_count": 20,
   "metadata": {},
   "outputs": [],
   "source": [
    "ssolv_rip = pd.DataFrame()\n",
    "for key in dropped_ssolv:\n",
    "    subset = ssolv_table[ssolv_table.solvents == key]\n",
    "    for temp in dropped_ssolv[key]:\n",
    "        ssolv_rip = ssolv_rip.append(subset[subset.temperature == temp])"
   ]
  },
  {
   "cell_type": "code",
   "execution_count": 21,
   "metadata": {},
   "outputs": [],
   "source": [
    "pd.DataFrame.to_pickle(solv_rip, 'error/dropped_solv.pkl')\n",
    "pd.DataFrame.to_pickle(ssolv_rip, 'error/dropped_ssolv.pkl')"
   ]
  },
  {
   "cell_type": "markdown",
   "metadata": {},
   "source": [
    "### Adjusting Size of Solvation and Self-Solvation Sets"
   ]
  },
  {
   "cell_type": "code",
   "execution_count": 22,
   "metadata": {},
   "outputs": [
    {
     "data": {
      "text/plain": [
       "184"
      ]
     },
     "execution_count": 22,
     "metadata": {},
     "output_type": "execute_result"
    }
   ],
   "source": [
    "solv_success.head()\n",
    "len(solv_success)"
   ]
  },
  {
   "cell_type": "code",
   "execution_count": 23,
   "metadata": {},
   "outputs": [
    {
     "data": {
      "text/plain": [
       "175"
      ]
     },
     "execution_count": 23,
     "metadata": {},
     "output_type": "execute_result"
    }
   ],
   "source": [
    "ssolv_success.head()\n",
    "len(ssolv_success)"
   ]
  },
  {
   "cell_type": "code",
   "execution_count": 24,
   "metadata": {},
   "outputs": [],
   "source": [
    "#Generate lists of all compounds and the calculated temperatures for solv and self-solv\n",
    "solv_yes = []\n",
    "for name in solv_success.Molecule.unique():\n",
    "    subset = solv_success[solv_success.Molecule == name]\n",
    "    for temp in subset['Temperature(K)']:\n",
    "        solv_yes.append(str(name) + ';' + str(temp))\n",
    "        \n",
    "ssolv_yes = []\n",
    "for name in ssolv_success.Molecule.unique():\n",
    "    subset = ssolv_success[ssolv_success.Molecule == name]\n",
    "    for temp in subset['Temperature(K)']:\n",
    "        ssolv_yes.append(str(name) + ';' + str(temp))"
   ]
  },
  {
   "cell_type": "code",
   "execution_count": 25,
   "metadata": {},
   "outputs": [
    {
     "name": "stdout",
     "output_type": "stream",
     "text": [
      "79\n",
      "140\n",
      "140\n"
     ]
    }
   ],
   "source": [
    "A = set(solv_yes)\n",
    "B = set(ssolv_yes)\n",
    "\n",
    "diff = A^B\n",
    "print(len(diff))\n",
    "print(len(A-diff))\n",
    "print(len(B-diff))"
   ]
  },
  {
   "cell_type": "markdown",
   "metadata": {},
   "source": [
    "### Remove the Calculations without Both Solvation and Self-Solvation"
   ]
  },
  {
   "cell_type": "code",
   "execution_count": 26,
   "metadata": {},
   "outputs": [],
   "source": [
    "adjusted_solv = list(A-diff)\n",
    "adjusted_ssolv = list(B-diff)"
   ]
  },
  {
   "cell_type": "code",
   "execution_count": 27,
   "metadata": {},
   "outputs": [],
   "source": [
    "new_solv = pd.DataFrame()\n",
    "for entry in adjusted_solv:\n",
    "    subset = solv_success[solv_success.Molecule == entry.split(';')[0]]\n",
    "    new_solv = new_solv.append(subset[subset['Temperature(K)'] == float(entry.split(';')[1])])"
   ]
  },
  {
   "cell_type": "code",
   "execution_count": 28,
   "metadata": {},
   "outputs": [
    {
     "name": "stdout",
     "output_type": "stream",
     "text": [
      "140\n"
     ]
    },
    {
     "data": {
      "text/html": [
       "<div>\n",
       "<style scoped>\n",
       "    .dataframe tbody tr th:only-of-type {\n",
       "        vertical-align: middle;\n",
       "    }\n",
       "\n",
       "    .dataframe tbody tr th {\n",
       "        vertical-align: top;\n",
       "    }\n",
       "\n",
       "    .dataframe thead th {\n",
       "        text-align: right;\n",
       "    }\n",
       "</style>\n",
       "<table border=\"1\" class=\"dataframe\">\n",
       "  <thead>\n",
       "    <tr style=\"text-align: right;\">\n",
       "      <th></th>\n",
       "      <th>Molecule</th>\n",
       "      <th>Temperature(K)</th>\n",
       "      <th>Pressure(atm)</th>\n",
       "      <th>Solvents(smiles)</th>\n",
       "      <th>Molar_fractions</th>\n",
       "      <th>FE(kcal/mol)</th>\n",
       "      <th>DFE(kcal/mol)</th>\n",
       "      <th>Density_Start(g/ml)</th>\n",
       "      <th>DDensity_Start(g/ml)</th>\n",
       "      <th>Density_Final(g/ml)</th>\n",
       "      <th>DDensity_Final(g/ml)</th>\n",
       "      <th>IDAC_expt</th>\n",
       "    </tr>\n",
       "  </thead>\n",
       "  <tbody>\n",
       "    <tr>\n",
       "      <th>141</th>\n",
       "      <td>o-xylene</td>\n",
       "      <td>308.15</td>\n",
       "      <td>1.0</td>\n",
       "      <td>[H]O[H]</td>\n",
       "      <td>1.0</td>\n",
       "      <td>-1.026401</td>\n",
       "      <td>0.088860</td>\n",
       "      <td>0.977928</td>\n",
       "      <td>0.010226</td>\n",
       "      <td>0.969540</td>\n",
       "      <td>0.010518</td>\n",
       "      <td>29850.000</td>\n",
       "    </tr>\n",
       "    <tr>\n",
       "      <th>63</th>\n",
       "      <td>tetrahydrofuran</td>\n",
       "      <td>338.05</td>\n",
       "      <td>1.0</td>\n",
       "      <td>[H]O[H]</td>\n",
       "      <td>1.0</td>\n",
       "      <td>-1.465516</td>\n",
       "      <td>0.073407</td>\n",
       "      <td>0.952899</td>\n",
       "      <td>0.011317</td>\n",
       "      <td>0.935907</td>\n",
       "      <td>0.015147</td>\n",
       "      <td>9.400</td>\n",
       "    </tr>\n",
       "    <tr>\n",
       "      <th>171</th>\n",
       "      <td>hexan-2-one</td>\n",
       "      <td>298.15</td>\n",
       "      <td>1.0</td>\n",
       "      <td>[H]O[H]</td>\n",
       "      <td>1.0</td>\n",
       "      <td>-3.177169</td>\n",
       "      <td>0.095033</td>\n",
       "      <td>0.992495</td>\n",
       "      <td>0.008310</td>\n",
       "      <td>0.980627</td>\n",
       "      <td>0.009097</td>\n",
       "      <td>355.700</td>\n",
       "    </tr>\n",
       "    <tr>\n",
       "      <th>17</th>\n",
       "      <td>2-[2-(2-hydroxyethoxy)ethoxy]ethanol</td>\n",
       "      <td>378.15</td>\n",
       "      <td>1.0</td>\n",
       "      <td>[H]O[H]</td>\n",
       "      <td>1.0</td>\n",
       "      <td>-6.448490</td>\n",
       "      <td>0.272052</td>\n",
       "      <td>0.898001</td>\n",
       "      <td>0.011821</td>\n",
       "      <td>0.895903</td>\n",
       "      <td>0.016699</td>\n",
       "      <td>0.807</td>\n",
       "    </tr>\n",
       "    <tr>\n",
       "      <th>12</th>\n",
       "      <td>butan-1-amine</td>\n",
       "      <td>293.15</td>\n",
       "      <td>1.0</td>\n",
       "      <td>[H]O[H]</td>\n",
       "      <td>1.0</td>\n",
       "      <td>-2.419833</td>\n",
       "      <td>0.087518</td>\n",
       "      <td>0.992998</td>\n",
       "      <td>0.011627</td>\n",
       "      <td>0.987103</td>\n",
       "      <td>0.010507</td>\n",
       "      <td>4.000</td>\n",
       "    </tr>\n",
       "  </tbody>\n",
       "</table>\n",
       "</div>"
      ],
      "text/plain": [
       "                                 Molecule  Temperature(K)  Pressure(atm)  \\\n",
       "141                              o-xylene          308.15            1.0   \n",
       "63                        tetrahydrofuran          338.05            1.0   \n",
       "171                           hexan-2-one          298.15            1.0   \n",
       "17   2-[2-(2-hydroxyethoxy)ethoxy]ethanol          378.15            1.0   \n",
       "12                          butan-1-amine          293.15            1.0   \n",
       "\n",
       "    Solvents(smiles)  Molar_fractions  FE(kcal/mol)  DFE(kcal/mol)  \\\n",
       "141          [H]O[H]              1.0     -1.026401       0.088860   \n",
       "63           [H]O[H]              1.0     -1.465516       0.073407   \n",
       "171          [H]O[H]              1.0     -3.177169       0.095033   \n",
       "17           [H]O[H]              1.0     -6.448490       0.272052   \n",
       "12           [H]O[H]              1.0     -2.419833       0.087518   \n",
       "\n",
       "     Density_Start(g/ml)  DDensity_Start(g/ml)  Density_Final(g/ml)  \\\n",
       "141             0.977928              0.010226             0.969540   \n",
       "63              0.952899              0.011317             0.935907   \n",
       "171             0.992495              0.008310             0.980627   \n",
       "17              0.898001              0.011821             0.895903   \n",
       "12              0.992998              0.011627             0.987103   \n",
       "\n",
       "     DDensity_Final(g/ml)  IDAC_expt  \n",
       "141              0.010518  29850.000  \n",
       "63               0.015147      9.400  \n",
       "171              0.009097    355.700  \n",
       "17               0.016699      0.807  \n",
       "12               0.010507      4.000  "
      ]
     },
     "execution_count": 28,
     "metadata": {},
     "output_type": "execute_result"
    }
   ],
   "source": [
    "print(len(new_solv))\n",
    "new_solv.head()"
   ]
  },
  {
   "cell_type": "code",
   "execution_count": 29,
   "metadata": {},
   "outputs": [],
   "source": [
    "new_ssolv = pd.DataFrame()\n",
    "for entry in adjusted_ssolv:\n",
    "    subset = ssolv_success[ssolv_success.Molecule == entry.split(';')[0]]\n",
    "    new_ssolv = new_ssolv.append(subset[subset['Temperature(K)'] == float(entry.split(';')[1])])\n",
    "    \n",
    "new_ssolv['Solvents(smiles)'] = [x.lstrip() for x in new_ssolv['Solvents(smiles)']]"
   ]
  },
  {
   "cell_type": "code",
   "execution_count": 30,
   "metadata": {},
   "outputs": [
    {
     "name": "stdout",
     "output_type": "stream",
     "text": [
      "140\n"
     ]
    },
    {
     "data": {
      "text/html": [
       "<div>\n",
       "<style scoped>\n",
       "    .dataframe tbody tr th:only-of-type {\n",
       "        vertical-align: middle;\n",
       "    }\n",
       "\n",
       "    .dataframe tbody tr th {\n",
       "        vertical-align: top;\n",
       "    }\n",
       "\n",
       "    .dataframe thead th {\n",
       "        text-align: right;\n",
       "    }\n",
       "</style>\n",
       "<table border=\"1\" class=\"dataframe\">\n",
       "  <thead>\n",
       "    <tr style=\"text-align: right;\">\n",
       "      <th></th>\n",
       "      <th>Molecule</th>\n",
       "      <th>Temperature(K)</th>\n",
       "      <th>Pressure(atm)</th>\n",
       "      <th>Solvents(smiles)</th>\n",
       "      <th>Molar_fractions</th>\n",
       "      <th>FE(kcal/mol)</th>\n",
       "      <th>DFE(kcal/mol)</th>\n",
       "      <th>Density_Start(g/ml)</th>\n",
       "      <th>DDensity_Start(g/ml)</th>\n",
       "      <th>Density_Final(g/ml)</th>\n",
       "      <th>DDensity_Final(g/ml)</th>\n",
       "      <th>IDAC_expt</th>\n",
       "    </tr>\n",
       "  </thead>\n",
       "  <tbody>\n",
       "    <tr>\n",
       "      <th>135</th>\n",
       "      <td>o-xylene</td>\n",
       "      <td>308.15</td>\n",
       "      <td>1.0</td>\n",
       "      <td>Cc1ccccc1C</td>\n",
       "      <td>1.0</td>\n",
       "      <td>-5.693364</td>\n",
       "      <td>0.104985</td>\n",
       "      <td>0.837511</td>\n",
       "      <td>0.010715</td>\n",
       "      <td>0.831558</td>\n",
       "      <td>0.009716</td>\n",
       "      <td>29850.000</td>\n",
       "    </tr>\n",
       "    <tr>\n",
       "      <th>76</th>\n",
       "      <td>tetrahydrofuran</td>\n",
       "      <td>338.05</td>\n",
       "      <td>1.0</td>\n",
       "      <td>C1CCOC1</td>\n",
       "      <td>1.0</td>\n",
       "      <td>-3.910854</td>\n",
       "      <td>0.104257</td>\n",
       "      <td>0.851238</td>\n",
       "      <td>0.011389</td>\n",
       "      <td>0.842281</td>\n",
       "      <td>0.013976</td>\n",
       "      <td>9.400</td>\n",
       "    </tr>\n",
       "    <tr>\n",
       "      <th>56</th>\n",
       "      <td>hexan-2-one</td>\n",
       "      <td>298.15</td>\n",
       "      <td>1.0</td>\n",
       "      <td>CCCCC(=O)C</td>\n",
       "      <td>1.0</td>\n",
       "      <td>-6.264420</td>\n",
       "      <td>0.138696</td>\n",
       "      <td>0.790474</td>\n",
       "      <td>0.011176</td>\n",
       "      <td>0.785346</td>\n",
       "      <td>0.010374</td>\n",
       "      <td>355.700</td>\n",
       "    </tr>\n",
       "    <tr>\n",
       "      <th>60</th>\n",
       "      <td>2-[2-(2-hydroxyethoxy)ethoxy]ethanol</td>\n",
       "      <td>378.15</td>\n",
       "      <td>1.0</td>\n",
       "      <td>C(COCCOCCO)O</td>\n",
       "      <td>1.0</td>\n",
       "      <td>-7.390926</td>\n",
       "      <td>0.357555</td>\n",
       "      <td>1.075257</td>\n",
       "      <td>0.012691</td>\n",
       "      <td>1.069301</td>\n",
       "      <td>0.012923</td>\n",
       "      <td>0.807</td>\n",
       "    </tr>\n",
       "    <tr>\n",
       "      <th>173</th>\n",
       "      <td>butan-1-amine</td>\n",
       "      <td>293.15</td>\n",
       "      <td>1.0</td>\n",
       "      <td>CCCCN</td>\n",
       "      <td>1.0</td>\n",
       "      <td>-3.446458</td>\n",
       "      <td>0.127553</td>\n",
       "      <td>0.760285</td>\n",
       "      <td>0.008548</td>\n",
       "      <td>0.759044</td>\n",
       "      <td>0.010394</td>\n",
       "      <td>4.000</td>\n",
       "    </tr>\n",
       "  </tbody>\n",
       "</table>\n",
       "</div>"
      ],
      "text/plain": [
       "                                 Molecule  Temperature(K)  Pressure(atm)  \\\n",
       "135                              o-xylene          308.15            1.0   \n",
       "76                        tetrahydrofuran          338.05            1.0   \n",
       "56                            hexan-2-one          298.15            1.0   \n",
       "60   2-[2-(2-hydroxyethoxy)ethoxy]ethanol          378.15            1.0   \n",
       "173                         butan-1-amine          293.15            1.0   \n",
       "\n",
       "    Solvents(smiles)  Molar_fractions  FE(kcal/mol)  DFE(kcal/mol)  \\\n",
       "135       Cc1ccccc1C              1.0     -5.693364       0.104985   \n",
       "76           C1CCOC1              1.0     -3.910854       0.104257   \n",
       "56        CCCCC(=O)C              1.0     -6.264420       0.138696   \n",
       "60      C(COCCOCCO)O              1.0     -7.390926       0.357555   \n",
       "173            CCCCN              1.0     -3.446458       0.127553   \n",
       "\n",
       "     Density_Start(g/ml)  DDensity_Start(g/ml)  Density_Final(g/ml)  \\\n",
       "135             0.837511              0.010715             0.831558   \n",
       "76              0.851238              0.011389             0.842281   \n",
       "56              0.790474              0.011176             0.785346   \n",
       "60              1.075257              0.012691             1.069301   \n",
       "173             0.760285              0.008548             0.759044   \n",
       "\n",
       "     DDensity_Final(g/ml)  IDAC_expt  \n",
       "135              0.009716  29850.000  \n",
       "76               0.013976      9.400  \n",
       "56               0.010374    355.700  \n",
       "60               0.012923      0.807  \n",
       "173              0.010394      4.000  "
      ]
     },
     "execution_count": 30,
     "metadata": {},
     "output_type": "execute_result"
    }
   ],
   "source": [
    "print(len(new_ssolv))\n",
    "new_ssolv.head()"
   ]
  },
  {
   "cell_type": "code",
   "execution_count": 31,
   "metadata": {},
   "outputs": [
    {
     "data": {
      "text/html": [
       "<div>\n",
       "<style scoped>\n",
       "    .dataframe tbody tr th:only-of-type {\n",
       "        vertical-align: middle;\n",
       "    }\n",
       "\n",
       "    .dataframe tbody tr th {\n",
       "        vertical-align: top;\n",
       "    }\n",
       "\n",
       "    .dataframe thead th {\n",
       "        text-align: right;\n",
       "    }\n",
       "</style>\n",
       "<table border=\"1\" class=\"dataframe\">\n",
       "  <thead>\n",
       "    <tr style=\"text-align: right;\">\n",
       "      <th></th>\n",
       "      <th>Solute</th>\n",
       "      <th>SMILES</th>\n",
       "      <th>Temp</th>\n",
       "      <th>Measured</th>\n",
       "      <th>Uncertain</th>\n",
       "      <th>Method</th>\n",
       "      <th>Ref.</th>\n",
       "      <th>Notes</th>\n",
       "    </tr>\n",
       "  </thead>\n",
       "  <tbody>\n",
       "    <tr>\n",
       "      <th>923</th>\n",
       "      <td>1,2,4-trimethylbenzene</td>\n",
       "      <td>Cc1ccc(c(c1)C)C</td>\n",
       "      <td>288.15</td>\n",
       "      <td>127600.0</td>\n",
       "      <td>0.0</td>\n",
       "      <td>NaN</td>\n",
       "      <td>7</td>\n",
       "      <td>NaN</td>\n",
       "    </tr>\n",
       "    <tr>\n",
       "      <th>924</th>\n",
       "      <td>1,2,4-trimethylbenzene</td>\n",
       "      <td>Cc1ccc(c(c1)C)C</td>\n",
       "      <td>298.15</td>\n",
       "      <td>115000.0</td>\n",
       "      <td>0.0</td>\n",
       "      <td>NaN</td>\n",
       "      <td>9,12</td>\n",
       "      <td>NaN</td>\n",
       "    </tr>\n",
       "    <tr>\n",
       "      <th>926</th>\n",
       "      <td>1,2,4-trimethylbenzene</td>\n",
       "      <td>Cc1ccc(c(c1)C)C</td>\n",
       "      <td>308.15</td>\n",
       "      <td>107400.0</td>\n",
       "      <td>0.0</td>\n",
       "      <td>NaN</td>\n",
       "      <td>7</td>\n",
       "      <td>NaN</td>\n",
       "    </tr>\n",
       "    <tr>\n",
       "      <th>927</th>\n",
       "      <td>1,2,4-trimethylbenzene</td>\n",
       "      <td>Cc1ccc(c(c1)C)C</td>\n",
       "      <td>318.15</td>\n",
       "      <td>96340.0</td>\n",
       "      <td>0.0</td>\n",
       "      <td>NaN</td>\n",
       "      <td>7</td>\n",
       "      <td>NaN</td>\n",
       "    </tr>\n",
       "    <tr>\n",
       "      <th>487</th>\n",
       "      <td>1,2-butanediol</td>\n",
       "      <td>CCC(CO)O</td>\n",
       "      <td>299.15</td>\n",
       "      <td>2.0</td>\n",
       "      <td>0.2</td>\n",
       "      <td>DP</td>\n",
       "      <td>62</td>\n",
       "      <td>NaN</td>\n",
       "    </tr>\n",
       "  </tbody>\n",
       "</table>\n",
       "</div>"
      ],
      "text/plain": [
       "                     Solute           SMILES    Temp  Measured Uncertain  \\\n",
       "923  1,2,4-trimethylbenzene  Cc1ccc(c(c1)C)C  288.15  127600.0       0.0   \n",
       "924  1,2,4-trimethylbenzene  Cc1ccc(c(c1)C)C  298.15  115000.0       0.0   \n",
       "926  1,2,4-trimethylbenzene  Cc1ccc(c(c1)C)C  308.15  107400.0       0.0   \n",
       "927  1,2,4-trimethylbenzene  Cc1ccc(c(c1)C)C  318.15   96340.0       0.0   \n",
       "487          1,2-butanediol         CCC(CO)O  299.15       2.0       0.2   \n",
       "\n",
       "    Method  Ref. Notes  \n",
       "923    NaN     7   NaN  \n",
       "924    NaN  9,12   NaN  \n",
       "926    NaN     7   NaN  \n",
       "927    NaN     7   NaN  \n",
       "487     DP    62   NaN  "
      ]
     },
     "execution_count": 31,
     "metadata": {},
     "output_type": "execute_result"
    }
   ],
   "source": [
    "ref_table.head()"
   ]
  },
  {
   "cell_type": "code",
   "execution_count": 32,
   "metadata": {},
   "outputs": [],
   "source": [
    "##Re-insert experimental errors from IDAC paper\n",
    "error_exp = []\n",
    "for smile,temp in zip(new_ssolv['Solvents(smiles)'], new_ssolv['Temperature(K)']):\n",
    "    subset = ref_table[ref_table['SMILES'] == smile]\n",
    "    subset = subset[subset['Temp'] == temp]\n",
    "    error_exp.append(float(subset['Uncertain'].item()))"
   ]
  },
  {
   "cell_type": "code",
   "execution_count": 33,
   "metadata": {},
   "outputs": [
    {
     "data": {
      "text/plain": [
       "array([ 0.  ,  0.1 , 30.  ,  0.3 ,  0.2 ,  0.5 , 25.  ,  0.09,  0.03])"
      ]
     },
     "execution_count": 33,
     "metadata": {},
     "output_type": "execute_result"
    }
   ],
   "source": [
    "new_ssolv['Uncertain_exp'] = error_exp\n",
    "uncertain = new_ssolv['Uncertain_exp']\n",
    "uncertain.unique()"
   ]
  },
  {
   "cell_type": "code",
   "execution_count": 34,
   "metadata": {},
   "outputs": [
    {
     "data": {
      "text/html": [
       "<div>\n",
       "<style scoped>\n",
       "    .dataframe tbody tr th:only-of-type {\n",
       "        vertical-align: middle;\n",
       "    }\n",
       "\n",
       "    .dataframe tbody tr th {\n",
       "        vertical-align: top;\n",
       "    }\n",
       "\n",
       "    .dataframe thead th {\n",
       "        text-align: right;\n",
       "    }\n",
       "</style>\n",
       "<table border=\"1\" class=\"dataframe\">\n",
       "  <thead>\n",
       "    <tr style=\"text-align: right;\">\n",
       "      <th></th>\n",
       "      <th>Molecule</th>\n",
       "      <th>Temperature(K)</th>\n",
       "      <th>Pressure(atm)</th>\n",
       "      <th>Solvents(smiles)</th>\n",
       "      <th>Molar_fractions</th>\n",
       "      <th>FE(kcal/mol)</th>\n",
       "      <th>DFE(kcal/mol)</th>\n",
       "      <th>Density_Start(g/ml)</th>\n",
       "      <th>DDensity_Start(g/ml)</th>\n",
       "      <th>Density_Final(g/ml)</th>\n",
       "      <th>DDensity_Final(g/ml)</th>\n",
       "      <th>IDAC_expt</th>\n",
       "      <th>Uncertain_exp</th>\n",
       "    </tr>\n",
       "  </thead>\n",
       "  <tbody>\n",
       "    <tr>\n",
       "      <th>116</th>\n",
       "      <td>1,3-dichloroprop-1-ene</td>\n",
       "      <td>293.15</td>\n",
       "      <td>1.0</td>\n",
       "      <td>C(C=CCl)Cl</td>\n",
       "      <td>1.0</td>\n",
       "      <td>-4.573972</td>\n",
       "      <td>0.087441</td>\n",
       "      <td>1.156206</td>\n",
       "      <td>0.018709</td>\n",
       "      <td>1.143907</td>\n",
       "      <td>0.02212</td>\n",
       "      <td>1360.0</td>\n",
       "      <td>30.0</td>\n",
       "    </tr>\n",
       "  </tbody>\n",
       "</table>\n",
       "</div>"
      ],
      "text/plain": [
       "                   Molecule  Temperature(K)  Pressure(atm) Solvents(smiles)  \\\n",
       "116  1,3-dichloroprop-1-ene          293.15            1.0       C(C=CCl)Cl   \n",
       "\n",
       "     Molar_fractions  FE(kcal/mol)  DFE(kcal/mol)  Density_Start(g/ml)  \\\n",
       "116              1.0     -4.573972       0.087441             1.156206   \n",
       "\n",
       "     DDensity_Start(g/ml)  Density_Final(g/ml)  DDensity_Final(g/ml)  \\\n",
       "116              0.018709             1.143907               0.02212   \n",
       "\n",
       "     IDAC_expt  Uncertain_exp  \n",
       "116     1360.0           30.0  "
      ]
     },
     "execution_count": 34,
     "metadata": {},
     "output_type": "execute_result"
    }
   ],
   "source": [
    "new_ssolv[new_ssolv['Uncertain_exp'] == 30.]"
   ]
  },
  {
   "cell_type": "code",
   "execution_count": 35,
   "metadata": {},
   "outputs": [],
   "source": [
    "ratios = []\n",
    "len(new_ssolv[new_ssolv['Uncertain_exp'] == 0.])\n",
    "for index, compound in enumerate(new_ssolv['Molecule']):\n",
    "    subset = new_ssolv[new_ssolv['Molecule'] == compound]\n",
    "    for i in range(len(subset)):\n",
    "        if list(subset['Uncertain_exp'])[i] == 0:\n",
    "            ratios.append('0' + ';' + str(compound))\n",
    "        else:\n",
    "            ratios.append(str(list(subset['Uncertain_exp'])[i]/list(subset['IDAC_expt'])[i]) + ';' + str(compound))"
   ]
  },
  {
   "cell_type": "markdown",
   "metadata": {},
   "source": [
    "### Part 2: Calculating IDAC from Orion Output Data"
   ]
  },
  {
   "cell_type": "markdown",
   "metadata": {},
   "source": [
    "Using the following formula: $$\\gamma_{i}^{\\infty} = exp\\bigg(\\frac{\\Delta G_{i}^{solv} - \\Delta G_{i}^{self-solv}}{k_{B}T} \\bigg) \\cdot \\frac{\\rho_{molar}^{solvent}}{\\rho_{molar}^{pure-solute}} $$"
   ]
  },
  {
   "cell_type": "code",
   "execution_count": 37,
   "metadata": {},
   "outputs": [],
   "source": [
    "def calc_idac(temperature, G_solvation, G_self_solvation, top_density, bottom_density):\n",
    "    '''\n",
    "    top_density: final density in solvation\n",
    "    bottom_density: final density in self-solvation\n",
    "    '''\n",
    "    IDAC_calc = []\n",
    "    k = 0.0019872041 #units in kcal/mol*K\n",
    "    for i in range(len(temperature)):\n",
    "        value = np.exp((G_solvation[i] - G_self_solvation[i])/(k*temperature[i])) * (top_density[i]/bottom_density[i])\n",
    "        IDAC_calc.append('{:.2f}'.format(value))\n",
    "    return IDAC_calc"
   ]
  },
  {
   "cell_type": "code",
   "execution_count": 38,
   "metadata": {},
   "outputs": [],
   "source": [
    "def exp_error(temperature, IDAC_exp, error):\n",
    "    error_exp = []\n",
    "    k = 0.0019872041\n",
    "    for i in range(len(temperature)):\n",
    "        value = ((k*temperature[i])/IDAC_exp[i])**2 * error[i]**2\n",
    "        error_exp.append('{:.5f}'.format(value))\n",
    "    return error_exp"
   ]
  },
  {
   "cell_type": "code",
   "execution_count": 39,
   "metadata": {},
   "outputs": [],
   "source": [
    "def calc_error(temperature, solv_error, ssolv_error, top_density, bottom_density, top_density_error, bottom_density_error):\n",
    "    error_calc = []\n",
    "    k = 0.0019872041\n",
    "    for i in range(len(temperature)):\n",
    "        value = solv_error[i]**2 + ssolv_error[i]**2 + ((k*temperature[i])/top_density[i])**2 * top_density_error[i]**2 + ((k*temperature[i])/bottom_density[i])**2 * bottom_density_error[i]**2\n",
    "        error_calc.append('{:.2f}'.format(value))\n",
    "    return error_calc"
   ]
  },
  {
   "cell_type": "code",
   "execution_count": 40,
   "metadata": {},
   "outputs": [],
   "source": [
    "def calculate_IDAC(solvation, self_solvation):\n",
    "    table = pd.DataFrame(columns = ['Name', 'Temp', 'IDAC_calc', 'IDAC_expt'])\n",
    "    table['Name'] = solvation['Molecule']\n",
    "    table['Temp'] = solvation['Temperature(K)']\n",
    "    table['IDAC_calc'] = calc_idac([x for x in table['Temp']],\n",
    "                                   [x for x in solvation['FE(kcal/mol)']],\n",
    "                                   [x for x in self_solvation['FE(kcal/mol)']], \n",
    "                                   [x for x in solvation['Density_Final(g/ml)']],\n",
    "                                   [x for x in self_solvation['Density_Final(g/ml)']])\n",
    "    table['IDAC_expt'] = [str(x) for x in solvation['IDAC_expt']]\n",
    "    table['kT*ln(IDAC_calc)_Error'] = calc_error([x for x in table['Temp']],\n",
    "                                                 [x for x in solvation['DFE(kcal/mol)']],\n",
    "                                                 [x for x in self_solvation['DFE(kcal/mol)']],\n",
    "                                                 [x for x in solvation['Density_Final(g/ml)']],\n",
    "                                                 [x for x in self_solvation['Density_Final(g/ml)']],\n",
    "                                                 [x for x in solvation['DDensity_Final(g/ml)']],\n",
    "                                                 [x for x in self_solvation['DDensity_Final(g/ml)']])\n",
    "    \n",
    "    table['kT*ln(IDAC_exp)_Error'] = exp_error([x for x in self_solvation['Temperature(K)']],\n",
    "                                               [x for x in self_solvation['IDAC_expt']],\n",
    "                                               [x for x in self_solvation['Uncertain_exp']])\n",
    "    return table"
   ]
  },
  {
   "cell_type": "code",
   "execution_count": 41,
   "metadata": {},
   "outputs": [],
   "source": [
    "new_solv.columns = [x.lstrip() for x in list(new_solv.columns)]\n",
    "new_ssolv.columns = [x.lstrip() for x in list(new_ssolv.columns)]"
   ]
  },
  {
   "cell_type": "code",
   "execution_count": 42,
   "metadata": {},
   "outputs": [],
   "source": [
    "final = calculate_IDAC(new_solv, new_ssolv)"
   ]
  },
  {
   "cell_type": "code",
   "execution_count": 43,
   "metadata": {},
   "outputs": [],
   "source": [
    "final['kT*ln(IDAC_calc)_Error'] = [float(x) for x in final['kT*ln(IDAC_calc)_Error']]\n",
    "final['kT*ln(IDAC_exp)_Error'] = [float(x) for x in final['kT*ln(IDAC_exp)_Error']]"
   ]
  },
  {
   "cell_type": "code",
   "execution_count": 44,
   "metadata": {},
   "outputs": [
    {
     "data": {
      "text/html": [
       "<div>\n",
       "<style scoped>\n",
       "    .dataframe tbody tr th:only-of-type {\n",
       "        vertical-align: middle;\n",
       "    }\n",
       "\n",
       "    .dataframe tbody tr th {\n",
       "        vertical-align: top;\n",
       "    }\n",
       "\n",
       "    .dataframe thead th {\n",
       "        text-align: right;\n",
       "    }\n",
       "</style>\n",
       "<table border=\"1\" class=\"dataframe\">\n",
       "  <thead>\n",
       "    <tr style=\"text-align: right;\">\n",
       "      <th></th>\n",
       "      <th>Name</th>\n",
       "      <th>Temp</th>\n",
       "      <th>IDAC_calc</th>\n",
       "      <th>IDAC_expt</th>\n",
       "      <th>kT*ln(IDAC_calc)_Error</th>\n",
       "      <th>kT*ln(IDAC_exp)_Error</th>\n",
       "    </tr>\n",
       "  </thead>\n",
       "  <tbody>\n",
       "    <tr>\n",
       "      <th>159</th>\n",
       "      <td>tributyl phosphate</td>\n",
       "      <td>298.15</td>\n",
       "      <td>0.00</td>\n",
       "      <td>2.34</td>\n",
       "      <td>0.03</td>\n",
       "      <td>0.0</td>\n",
       "    </tr>\n",
       "  </tbody>\n",
       "</table>\n",
       "</div>"
      ],
      "text/plain": [
       "                   Name    Temp IDAC_calc IDAC_expt  kT*ln(IDAC_calc)_Error  \\\n",
       "159  tributyl phosphate  298.15      0.00      2.34                    0.03   \n",
       "\n",
       "     kT*ln(IDAC_exp)_Error  \n",
       "159                    0.0  "
      ]
     },
     "execution_count": 44,
     "metadata": {},
     "output_type": "execute_result"
    }
   ],
   "source": [
    "final[final['IDAC_calc'] == '0.00'] "
   ]
  },
  {
   "cell_type": "code",
   "execution_count": 45,
   "metadata": {},
   "outputs": [],
   "source": [
    "#Drop the entries with calculated IDAC values of 0\n",
    "final = final[final['IDAC_calc'] != '0.00']\n",
    "final = final.reset_index(drop = True)"
   ]
  },
  {
   "cell_type": "code",
   "execution_count": 46,
   "metadata": {},
   "outputs": [
    {
     "data": {
      "text/html": [
       "<div>\n",
       "<style scoped>\n",
       "    .dataframe tbody tr th:only-of-type {\n",
       "        vertical-align: middle;\n",
       "    }\n",
       "\n",
       "    .dataframe tbody tr th {\n",
       "        vertical-align: top;\n",
       "    }\n",
       "\n",
       "    .dataframe thead th {\n",
       "        text-align: right;\n",
       "    }\n",
       "</style>\n",
       "<table border=\"1\" class=\"dataframe\">\n",
       "  <thead>\n",
       "    <tr style=\"text-align: right;\">\n",
       "      <th></th>\n",
       "      <th>Name</th>\n",
       "      <th>Temp</th>\n",
       "      <th>IDAC_calc</th>\n",
       "      <th>IDAC_expt</th>\n",
       "      <th>kT*ln(IDAC_calc)_Error</th>\n",
       "      <th>kT*ln(IDAC_exp)_Error</th>\n",
       "    </tr>\n",
       "  </thead>\n",
       "  <tbody>\n",
       "    <tr>\n",
       "      <th>33</th>\n",
       "      <td>1,2,4-trimethylbenzene</td>\n",
       "      <td>288.15</td>\n",
       "      <td>9806.35</td>\n",
       "      <td>127600.0</td>\n",
       "      <td>0.02</td>\n",
       "      <td>0.0</td>\n",
       "    </tr>\n",
       "    <tr>\n",
       "      <th>65</th>\n",
       "      <td>1,2,4-trimethylbenzene</td>\n",
       "      <td>298.15</td>\n",
       "      <td>10763.78</td>\n",
       "      <td>115000.0</td>\n",
       "      <td>0.02</td>\n",
       "      <td>0.0</td>\n",
       "    </tr>\n",
       "    <tr>\n",
       "      <th>138</th>\n",
       "      <td>1,2,4-trimethylbenzene</td>\n",
       "      <td>318.15</td>\n",
       "      <td>10386.48</td>\n",
       "      <td>96340.0</td>\n",
       "      <td>0.02</td>\n",
       "      <td>0.0</td>\n",
       "    </tr>\n",
       "    <tr>\n",
       "      <th>131</th>\n",
       "      <td>1,2-dichloroethylene</td>\n",
       "      <td>285.15</td>\n",
       "      <td>975.72</td>\n",
       "      <td>385.6</td>\n",
       "      <td>0.01</td>\n",
       "      <td>0.0</td>\n",
       "    </tr>\n",
       "    <tr>\n",
       "      <th>118</th>\n",
       "      <td>1,2-dichloroethylene</td>\n",
       "      <td>293.15</td>\n",
       "      <td>1183.72</td>\n",
       "      <td>215.5</td>\n",
       "      <td>0.01</td>\n",
       "      <td>0.0</td>\n",
       "    </tr>\n",
       "  </tbody>\n",
       "</table>\n",
       "</div>"
      ],
      "text/plain": [
       "                       Name    Temp IDAC_calc IDAC_expt  \\\n",
       "33   1,2,4-trimethylbenzene  288.15   9806.35  127600.0   \n",
       "65   1,2,4-trimethylbenzene  298.15  10763.78  115000.0   \n",
       "138  1,2,4-trimethylbenzene  318.15  10386.48   96340.0   \n",
       "131    1,2-dichloroethylene  285.15    975.72     385.6   \n",
       "118    1,2-dichloroethylene  293.15   1183.72     215.5   \n",
       "\n",
       "     kT*ln(IDAC_calc)_Error  kT*ln(IDAC_exp)_Error  \n",
       "33                     0.02                    0.0  \n",
       "65                     0.02                    0.0  \n",
       "138                    0.02                    0.0  \n",
       "131                    0.01                    0.0  \n",
       "118                    0.01                    0.0  "
      ]
     },
     "execution_count": 46,
     "metadata": {},
     "output_type": "execute_result"
    }
   ],
   "source": [
    "final.sort_values(by = ['Name', 'Temp']).head()"
   ]
  },
  {
   "cell_type": "code",
   "execution_count": 47,
   "metadata": {},
   "outputs": [],
   "source": [
    "pd.DataFrame.to_pickle(final, 'output/IDAC_FINAL.pkl')"
   ]
  },
  {
   "cell_type": "markdown",
   "metadata": {},
   "source": [
    "### old stuff"
   ]
  },
  {
   "cell_type": "code",
   "execution_count": 47,
   "metadata": {},
   "outputs": [],
   "source": [
    "results = oenb.read_file_to_dataframe(\"output/results_final.oeb.gz\")"
   ]
  },
  {
   "cell_type": "code",
   "execution_count": 48,
   "metadata": {},
   "outputs": [],
   "source": [
    "smile = 'CCCCOC(=O)C'\n",
    "sub_group = results[results['Solute SMILES'] == smile]"
   ]
  },
  {
   "cell_type": "code",
   "execution_count": 49,
   "metadata": {},
   "outputs": [
    {
     "data": {
      "text/html": [
       "<div>\n",
       "<style scoped>\n",
       "    .dataframe tbody tr th:only-of-type {\n",
       "        vertical-align: middle;\n",
       "    }\n",
       "\n",
       "    .dataframe tbody tr th {\n",
       "        vertical-align: top;\n",
       "    }\n",
       "\n",
       "    .dataframe thead th {\n",
       "        text-align: right;\n",
       "    }\n",
       "</style>\n",
       "<table border=\"1\" class=\"dataframe\">\n",
       "  <thead>\n",
       "    <tr style=\"text-align: right;\">\n",
       "      <th></th>\n",
       "      <th>Molecule</th>\n",
       "      <th>DG_self_solv (kcal/mol)</th>\n",
       "      <th>dDG_self_solv (kcal/mol)</th>\n",
       "      <th>expt IDAC, error</th>\n",
       "      <th>dDG_solv (kcal/mol)</th>\n",
       "      <th>DG_solv (kcal/mol)</th>\n",
       "      <th>kT log(gamma)_calc, error (kcal/mol)</th>\n",
       "      <th>expt IDAC</th>\n",
       "      <th>Temperature (K)</th>\n",
       "      <th>Solvent SMILES</th>\n",
       "      <th>kT log(gamma)_calc (kcal/mol)</th>\n",
       "      <th>kT log(gamma)_expt (kcal/mol)</th>\n",
       "      <th>Solute SMILES</th>\n",
       "      <th>kT log(gamma)_expt, error (kcal/mol)</th>\n",
       "      <th>Solvent name</th>\n",
       "    </tr>\n",
       "  </thead>\n",
       "  <tbody>\n",
       "    <tr>\n",
       "      <th>211</th>\n",
       "      <td>&lt;oechem.OEMol; proxy of &lt;Swig Object of type '...</td>\n",
       "      <td>-6.93106</td>\n",
       "      <td>0.19023</td>\n",
       "      <td>3</td>\n",
       "      <td>0.12814</td>\n",
       "      <td>-3.929219</td>\n",
       "      <td>0.222547</td>\n",
       "      <td>613.0</td>\n",
       "      <td>273.35</td>\n",
       "      <td>[H]O[H]</td>\n",
       "      <td>2.913815</td>\n",
       "      <td>3.48414</td>\n",
       "      <td>CCCCOC(=O)C</td>\n",
       "      <td>0.004894</td>\n",
       "      <td>water</td>\n",
       "    </tr>\n",
       "  </tbody>\n",
       "</table>\n",
       "</div>"
      ],
      "text/plain": [
       "                                              Molecule  \\\n",
       "211  <oechem.OEMol; proxy of <Swig Object of type '...   \n",
       "\n",
       "     DG_self_solv (kcal/mol)  dDG_self_solv (kcal/mol) expt IDAC, error  \\\n",
       "211                 -6.93106                   0.19023                3   \n",
       "\n",
       "     dDG_solv (kcal/mol)  DG_solv (kcal/mol)  \\\n",
       "211              0.12814           -3.929219   \n",
       "\n",
       "     kT log(gamma)_calc, error (kcal/mol)  expt IDAC  Temperature (K)  \\\n",
       "211                              0.222547      613.0           273.35   \n",
       "\n",
       "    Solvent SMILES  kT log(gamma)_calc (kcal/mol)  \\\n",
       "211        [H]O[H]                       2.913815   \n",
       "\n",
       "     kT log(gamma)_expt (kcal/mol) Solute SMILES  \\\n",
       "211                        3.48414   CCCCOC(=O)C   \n",
       "\n",
       "     kT log(gamma)_expt, error (kcal/mol) Solvent name  \n",
       "211                              0.004894        water  "
      ]
     },
     "execution_count": 49,
     "metadata": {},
     "output_type": "execute_result"
    }
   ],
   "source": [
    "sub_group[sub_group['Solvent name'] == 'water']"
   ]
  },
  {
   "cell_type": "code",
   "execution_count": 50,
   "metadata": {},
   "outputs": [],
   "source": [
    "calc_idac = np.exp((2.913815)/(0.0019872041*273.35))"
   ]
  },
  {
   "cell_type": "code",
   "execution_count": 51,
   "metadata": {},
   "outputs": [
    {
     "data": {
      "text/html": [
       "<div>\n",
       "<style scoped>\n",
       "    .dataframe tbody tr th:only-of-type {\n",
       "        vertical-align: middle;\n",
       "    }\n",
       "\n",
       "    .dataframe tbody tr th {\n",
       "        vertical-align: top;\n",
       "    }\n",
       "\n",
       "    .dataframe thead th {\n",
       "        text-align: right;\n",
       "    }\n",
       "</style>\n",
       "<table border=\"1\" class=\"dataframe\">\n",
       "  <thead>\n",
       "    <tr style=\"text-align: right;\">\n",
       "      <th></th>\n",
       "      <th>Name</th>\n",
       "      <th>Temperature (K)</th>\n",
       "      <th>$\\Delta G_{sol}$ (kcal/mol)</th>\n",
       "      <th>$\\Delta G_{selfsolv}$ (kcal/mol)</th>\n",
       "      <th>IDAC_calc</th>\n",
       "      <th>IDAC_exp</th>\n",
       "    </tr>\n",
       "  </thead>\n",
       "  <tbody>\n",
       "    <tr>\n",
       "      <th>0</th>\n",
       "      <td>Chris</td>\n",
       "      <td>298.15</td>\n",
       "      <td>-3.293</td>\n",
       "      <td>-6.239</td>\n",
       "      <td>161.2</td>\n",
       "      <td>814.0</td>\n",
       "    </tr>\n",
       "    <tr>\n",
       "      <th>1</th>\n",
       "      <td>Guilherme</td>\n",
       "      <td>273.35</td>\n",
       "      <td>-3.929</td>\n",
       "      <td>-6.931</td>\n",
       "      <td>213.6</td>\n",
       "      <td>613.0</td>\n",
       "    </tr>\n",
       "  </tbody>\n",
       "</table>\n",
       "</div>"
      ],
      "text/plain": [
       "        Name  Temperature (K)  $\\Delta G_{sol}$ (kcal/mol)  \\\n",
       "0      Chris           298.15                       -3.293   \n",
       "1  Guilherme           273.35                       -3.929   \n",
       "\n",
       "   $\\Delta G_{selfsolv}$ (kcal/mol)  IDAC_calc  IDAC_exp  \n",
       "0                            -6.239      161.2     814.0  \n",
       "1                            -6.931      213.6     613.0  "
      ]
     },
     "execution_count": 51,
     "metadata": {},
     "output_type": "execute_result"
    }
   ],
   "source": [
    "col = ['Name', 'Temperature (K)', '$\\Delta G_{sol}$ (kcal/mol)', '$\\Delta G_{selfsolv}$ (kcal/mol)', 'IDAC_calc', 'IDAC_exp']\n",
    "compare = pd.DataFrame(columns = col)\n",
    "compare.append(pd.DataFrame([['Chris', 298.15, -3.293, -6.239, 161.2, 814.00], ['Guilherme', 273.35, -3.929, -6.931, 213.6, 613]], columns = col))"
   ]
  }
 ],
 "metadata": {
  "kernelspec": {
   "display_name": "Python 3",
   "language": "python",
   "name": "python3"
  },
  "language_info": {
   "codemirror_mode": {
    "name": "ipython",
    "version": 3
   },
   "file_extension": ".py",
   "mimetype": "text/x-python",
   "name": "python",
   "nbconvert_exporter": "python",
   "pygments_lexer": "ipython3",
   "version": "3.6.8"
  }
 },
 "nbformat": 4,
 "nbformat_minor": 2
}
