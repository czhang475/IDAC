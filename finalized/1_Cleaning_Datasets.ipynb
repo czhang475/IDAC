{
 "cells": [
  {
   "cell_type": "code",
   "execution_count": 1,
   "metadata": {},
   "outputs": [],
   "source": [
    "import numpy as np\n",
    "import pandas as pd\n",
    "import oenotebook as oenb\n",
    "from openeye.oechem import *\n",
    "from openmoltools.openeye import *\n",
    "from openeye.oeiupac import *"
   ]
  },
  {
   "cell_type": "markdown",
   "metadata": {},
   "source": [
    "## 1. Read in Cleaned Table"
   ]
  },
  {
   "cell_type": "code",
   "execution_count": 2,
   "metadata": {},
   "outputs": [
    {
     "name": "stdout",
     "output_type": "stream",
     "text": [
      "419\n"
     ]
    },
    {
     "data": {
      "text/html": [
       "<div>\n",
       "<style scoped>\n",
       "    .dataframe tbody tr th:only-of-type {\n",
       "        vertical-align: middle;\n",
       "    }\n",
       "\n",
       "    .dataframe tbody tr th {\n",
       "        vertical-align: top;\n",
       "    }\n",
       "\n",
       "    .dataframe thead th {\n",
       "        text-align: right;\n",
       "    }\n",
       "</style>\n",
       "<table border=\"1\" class=\"dataframe\">\n",
       "  <thead>\n",
       "    <tr style=\"text-align: right;\">\n",
       "      <th></th>\n",
       "      <th>Solute</th>\n",
       "      <th>SMILES</th>\n",
       "      <th>Temp</th>\n",
       "      <th>Measured</th>\n",
       "      <th>Uncertain</th>\n",
       "      <th>Method</th>\n",
       "      <th>Ref.</th>\n",
       "      <th>Notes</th>\n",
       "    </tr>\n",
       "  </thead>\n",
       "  <tbody>\n",
       "    <tr>\n",
       "      <th>0</th>\n",
       "      <td>pentane</td>\n",
       "      <td>CCCCC</td>\n",
       "      <td>293.15</td>\n",
       "      <td>945.0</td>\n",
       "      <td>0</td>\n",
       "      <td>GC</td>\n",
       "      <td>47</td>\n",
       "      <td>NaN</td>\n",
       "    </tr>\n",
       "    <tr>\n",
       "      <th>1</th>\n",
       "      <td>pentane</td>\n",
       "      <td>CCCCC</td>\n",
       "      <td>303.15</td>\n",
       "      <td>796.0</td>\n",
       "      <td>0</td>\n",
       "      <td>GC</td>\n",
       "      <td>47</td>\n",
       "      <td>NaN</td>\n",
       "    </tr>\n",
       "    <tr>\n",
       "      <th>2</th>\n",
       "      <td>pentane</td>\n",
       "      <td>CCCCC</td>\n",
       "      <td>313.15</td>\n",
       "      <td>517.0</td>\n",
       "      <td>0</td>\n",
       "      <td>GC</td>\n",
       "      <td>47</td>\n",
       "      <td>NaN</td>\n",
       "    </tr>\n",
       "    <tr>\n",
       "      <th>3</th>\n",
       "      <td>hexane</td>\n",
       "      <td>CCCCCC</td>\n",
       "      <td>293.15</td>\n",
       "      <td>2940.0</td>\n",
       "      <td>0</td>\n",
       "      <td>GC</td>\n",
       "      <td>47</td>\n",
       "      <td>NaN</td>\n",
       "    </tr>\n",
       "    <tr>\n",
       "      <th>4</th>\n",
       "      <td>hexane</td>\n",
       "      <td>CCCCCC</td>\n",
       "      <td>298.15</td>\n",
       "      <td>40000.0</td>\n",
       "      <td>0</td>\n",
       "      <td>--</td>\n",
       "      <td>10</td>\n",
       "      <td>NaN</td>\n",
       "    </tr>\n",
       "  </tbody>\n",
       "</table>\n",
       "</div>"
      ],
      "text/plain": [
       "    Solute  SMILES    Temp  Measured Uncertain Method Ref. Notes\n",
       "0  pentane   CCCCC  293.15     945.0         0     GC   47   NaN\n",
       "1  pentane   CCCCC  303.15     796.0         0     GC   47   NaN\n",
       "2  pentane   CCCCC  313.15     517.0         0     GC   47   NaN\n",
       "3   hexane  CCCCCC  293.15    2940.0         0     GC   47   NaN\n",
       "4   hexane  CCCCCC  298.15   40000.0         0     --   10   NaN"
      ]
     },
     "execution_count": 2,
     "metadata": {},
     "output_type": "execute_result"
    }
   ],
   "source": [
    "table = pd.read_pickle('table_cleaned.pkl')\n",
    "print(len(table.Solute.unique()))\n",
    "table.head()"
   ]
  },
  {
   "cell_type": "markdown",
   "metadata": {},
   "source": [
    "## 2. Filter Compounds"
   ]
  },
  {
   "cell_type": "markdown",
   "metadata": {},
   "source": [
    "#### Part A: Compounds with Only One Entry"
   ]
  },
  {
   "cell_type": "code",
   "execution_count": 3,
   "metadata": {},
   "outputs": [],
   "source": [
    "def single_entry(table):\n",
    "    names = []\n",
    "    for name in table.Solute.unique():\n",
    "        subset = table[table.Solute == name]\n",
    "        if len(subset) == 1:\n",
    "            names.append(name)\n",
    "    return names"
   ]
  },
  {
   "cell_type": "code",
   "execution_count": 4,
   "metadata": {},
   "outputs": [
    {
     "name": "stdout",
     "output_type": "stream",
     "text": [
      "238\n"
     ]
    }
   ],
   "source": [
    "single_names = single_entry(table)\n",
    "print(len(single_names))"
   ]
  },
  {
   "cell_type": "code",
   "execution_count": 5,
   "metadata": {},
   "outputs": [],
   "source": [
    "single_index = []\n",
    "for name in single_names:\n",
    "    single_index.append(*list(table[table.Solute == name].index))"
   ]
  },
  {
   "cell_type": "code",
   "execution_count": 6,
   "metadata": {},
   "outputs": [
    {
     "name": "stdout",
     "output_type": "stream",
     "text": [
      "Old Table: 1374\n",
      "New Table: 1136\n"
     ]
    }
   ],
   "source": [
    "#Drops any compounds with only a single measurement value (hard to guage the accuracy)\n",
    "table2 = table.drop(single_index)\n",
    "print('Old Table:', len(table))\n",
    "print('New Table:', len(table2))"
   ]
  },
  {
   "cell_type": "markdown",
   "metadata": {},
   "source": [
    "#### Part B: Compounds with Measurements that are Duplicate in Table 1/2\n"
   ]
  },
  {
   "cell_type": "code",
   "execution_count": 7,
   "metadata": {},
   "outputs": [],
   "source": [
    "def duplicates_b(table):\n",
    "    doubles = table[table.Notes == 'This compound can also be found in Table 1']\n",
    "    names = list(doubles.Solute.unique())\n",
    "    return names"
   ]
  },
  {
   "cell_type": "code",
   "execution_count": 8,
   "metadata": {},
   "outputs": [
    {
     "name": "stdout",
     "output_type": "stream",
     "text": [
      "31\n"
     ]
    }
   ],
   "source": [
    "duplicate_names = duplicates_b(table2)\n",
    "print(len(duplicate_names))"
   ]
  },
  {
   "cell_type": "markdown",
   "metadata": {},
   "source": [
    "#### Part C: Compounds with Measurements that Span Various References \n",
    "Caveat this if different references give similar values within a set threshold (10% deviation?)"
   ]
  },
  {
   "cell_type": "code",
   "execution_count": 9,
   "metadata": {},
   "outputs": [],
   "source": [
    "def multiple_ref(table):\n",
    "    names = []\n",
    "    for name in table.Solute.unique():\n",
    "        group = table[table.Solute == name]\n",
    "        if len(group['Ref.'].unique()) > 1:\n",
    "            names.append(name)\n",
    "    return names"
   ]
  },
  {
   "cell_type": "code",
   "execution_count": 10,
   "metadata": {},
   "outputs": [
    {
     "name": "stdout",
     "output_type": "stream",
     "text": [
      "148\n"
     ]
    }
   ],
   "source": [
    "multiple_ref_names = multiple_ref(table2)\n",
    "print(len(multiple_ref_names))"
   ]
  },
  {
   "cell_type": "markdown",
   "metadata": {},
   "source": [
    "#### Part D: Compounds with Multiple Measurements at the Same Temperature"
   ]
  },
  {
   "cell_type": "code",
   "execution_count": 11,
   "metadata": {},
   "outputs": [],
   "source": [
    "def mult_temp(table):\n",
    "    names = []\n",
    "    for name in table.Solute.unique():\n",
    "        subset = table[table.Solute == name]\n",
    "        for temp in subset['Temp']:\n",
    "            if len(subset[subset.Temp == temp]) > 1:\n",
    "                names.append(name)\n",
    "    return list(set(names))"
   ]
  },
  {
   "cell_type": "code",
   "execution_count": 12,
   "metadata": {},
   "outputs": [
    {
     "name": "stdout",
     "output_type": "stream",
     "text": [
      "140\n"
     ]
    }
   ],
   "source": [
    "mult_temp_names = mult_temp(table2)\n",
    "print(len(mult_temp_names))"
   ]
  },
  {
   "cell_type": "markdown",
   "metadata": {},
   "source": [
    "#### Part E: Combine Lists from All Previous Parts to Get all Flagged Compounds"
   ]
  },
  {
   "cell_type": "code",
   "execution_count": 13,
   "metadata": {},
   "outputs": [
    {
     "name": "stdout",
     "output_type": "stream",
     "text": [
      "158\n"
     ]
    }
   ],
   "source": [
    "#List of flagged compounds\n",
    "flagged = sorted(list(set().union(duplicate_names, multiple_ref_names, mult_temp_names)))\n",
    "print(len(flagged))"
   ]
  },
  {
   "cell_type": "code",
   "execution_count": 14,
   "metadata": {},
   "outputs": [
    {
     "data": {
      "text/plain": [
       "23"
      ]
     },
     "execution_count": 14,
     "metadata": {},
     "output_type": "execute_result"
    }
   ],
   "source": [
    "#List of compounds that have passed all the various flags\n",
    "good_compounds = [x for x in table2.Solute.unique() if x not in flagged]\n",
    "len(good_compounds)"
   ]
  },
  {
   "cell_type": "markdown",
   "metadata": {},
   "source": [
    "## 3. Search in Flagged Compounds"
   ]
  },
  {
   "cell_type": "code",
   "execution_count": 15,
   "metadata": {},
   "outputs": [],
   "source": [
    "#Checks the difference in the max and min values at a given temperature \n",
    "def check_difference(temp, subset):\n",
    "    return 1-(min(subset[subset.Temp == temp].Measured)/max(subset[subset.Temp == temp].Measured))\n",
    "\n",
    "#Make dictionary of all flagged compounds and the internal variance at different temperatures (output: big_check)\n",
    "big_check = {} \n",
    "for name in flagged:\n",
    "    subset = table2[table2.Solute == name]\n",
    "    diff_list = []\n",
    "    for temp in subset['Temp'].unique():\n",
    "        diff_list.append(check_difference(temp, subset))\n",
    "    big_check[name] = diff_list"
   ]
  },
  {
   "cell_type": "code",
   "execution_count": 16,
   "metadata": {},
   "outputs": [],
   "source": [
    "#Recover potential compounds that have less than 10% variance for any temperatures (output: potential)\n",
    "potential = []\n",
    "for key in big_check:\n",
    "    if max(big_check[key]) <= 0.10:\n",
    "        potential.append(key)"
   ]
  },
  {
   "cell_type": "code",
   "execution_count": 17,
   "metadata": {},
   "outputs": [
    {
     "name": "stdout",
     "output_type": "stream",
     "text": [
      "95\n"
     ]
    }
   ],
   "source": [
    "#Separate out compounds that have large variance for a given temperature\n",
    "##The list 'flagged' is separated into 'potential' and 'discard'\n",
    "discard = [x for x in flagged if x not in potential]\n",
    "print(len(discard))\n",
    "\n",
    "#Don't really need this list, but it's here in case we want to keep track of what we discarded"
   ]
  },
  {
   "cell_type": "markdown",
   "metadata": {},
   "source": [
    "Note: Many of the compounds in the discard pile have measurements from multiple references. When evaluated individually, references have relatively reasonable measurements (typically monotonic trend). However, the filter eliminated these compounds because variance across references is too high. If filter were changed to a cutoff more generous than 10%, further compounds may also be recovered."
   ]
  },
  {
   "cell_type": "code",
   "execution_count": 18,
   "metadata": {},
   "outputs": [
    {
     "name": "stdout",
     "output_type": "stream",
     "text": [
      "32\n"
     ]
    }
   ],
   "source": [
    "#Find compounds with measurements at only one temperature; but from different references (output: flag_1_test)\n",
    "flag_1_test = []\n",
    "for name in potential:\n",
    "    subset = table2[table2.Solute == name]\n",
    "    if len(subset.Temp.unique()) < 2:\n",
    "        flag_1_test.append(name)\n",
    "\n",
    "#Reapply filter to determine how many compounds have <10% variance between references (output: accepted)\n",
    "accepted = []\n",
    "for name in flag_1_test:\n",
    "    sub = table2[table2.Solute == name]\n",
    "    temp = sub.Temp.unique()[0]\n",
    "    if check_difference(temp, sub) <= 0.10:\n",
    "        accepted.append(name)\n",
    "print(len(accepted))"
   ]
  },
  {
   "cell_type": "code",
   "execution_count": 19,
   "metadata": {},
   "outputs": [
    {
     "name": "stdout",
     "output_type": "stream",
     "text": [
      "31\n"
     ]
    }
   ],
   "source": [
    "#Reapply filter for compounds with multiple references at multiple temperatures (output: okay)\n",
    "##Note: within 'okay' are some compounds with non-monotonic trends \n",
    "flag_2_test = []\n",
    "for name in potential:\n",
    "    subset = table2[table2.Solute == name]\n",
    "    if len(subset.Temp.unique()) >= 2:\n",
    "        flag_2_test.append(name)\n",
    "len(flag_2_test)\n",
    "\n",
    "flag_2 = {}\n",
    "for name in flag_2_test:\n",
    "    subset = table2[table2.Solute == name]\n",
    "    diff_list = []\n",
    "    for temp in subset['Temp'].unique():\n",
    "        diff_list.append(check_difference(temp, subset))\n",
    "    flag_2[name] = diff_list\n",
    "\n",
    "okay = []\n",
    "for key in flag_2:\n",
    "    if max(flag_2[key]) <= 0.10:\n",
    "        okay.append(key)\n",
    "print(len(okay))"
   ]
  },
  {
   "cell_type": "markdown",
   "metadata": {},
   "source": [
    "### 3B. Combine List of Accepted and Recovered Compounds"
   ]
  },
  {
   "cell_type": "code",
   "execution_count": 20,
   "metadata": {},
   "outputs": [
    {
     "data": {
      "text/html": [
       "<div>\n",
       "<style scoped>\n",
       "    .dataframe tbody tr th:only-of-type {\n",
       "        vertical-align: middle;\n",
       "    }\n",
       "\n",
       "    .dataframe tbody tr th {\n",
       "        vertical-align: top;\n",
       "    }\n",
       "\n",
       "    .dataframe thead th {\n",
       "        text-align: right;\n",
       "    }\n",
       "</style>\n",
       "<table border=\"1\" class=\"dataframe\">\n",
       "  <thead>\n",
       "    <tr style=\"text-align: right;\">\n",
       "      <th></th>\n",
       "      <th>Solute</th>\n",
       "      <th>SMILES</th>\n",
       "      <th>Temp</th>\n",
       "      <th>Measured</th>\n",
       "      <th>Uncertain</th>\n",
       "      <th>Method</th>\n",
       "      <th>Ref.</th>\n",
       "      <th>Notes</th>\n",
       "    </tr>\n",
       "  </thead>\n",
       "  <tbody>\n",
       "    <tr>\n",
       "      <th>923</th>\n",
       "      <td>1,2,4-trimethylbenzene</td>\n",
       "      <td>Cc1ccc(c(c1)C)C</td>\n",
       "      <td>288.15</td>\n",
       "      <td>127600.0</td>\n",
       "      <td>0.0</td>\n",
       "      <td>NaN</td>\n",
       "      <td>7</td>\n",
       "      <td>NaN</td>\n",
       "    </tr>\n",
       "    <tr>\n",
       "      <th>924</th>\n",
       "      <td>1,2,4-trimethylbenzene</td>\n",
       "      <td>Cc1ccc(c(c1)C)C</td>\n",
       "      <td>298.15</td>\n",
       "      <td>115000.0</td>\n",
       "      <td>0.0</td>\n",
       "      <td>NaN</td>\n",
       "      <td>9,12</td>\n",
       "      <td>NaN</td>\n",
       "    </tr>\n",
       "    <tr>\n",
       "      <th>925</th>\n",
       "      <td>1,2,4-trimethylbenzene</td>\n",
       "      <td>Cc1ccc(c(c1)C)C</td>\n",
       "      <td>298.15</td>\n",
       "      <td>118100.0</td>\n",
       "      <td>0.0</td>\n",
       "      <td>NaN</td>\n",
       "      <td>7</td>\n",
       "      <td>NaN</td>\n",
       "    </tr>\n",
       "    <tr>\n",
       "      <th>926</th>\n",
       "      <td>1,2,4-trimethylbenzene</td>\n",
       "      <td>Cc1ccc(c(c1)C)C</td>\n",
       "      <td>308.15</td>\n",
       "      <td>107400.0</td>\n",
       "      <td>0.0</td>\n",
       "      <td>NaN</td>\n",
       "      <td>7</td>\n",
       "      <td>NaN</td>\n",
       "    </tr>\n",
       "    <tr>\n",
       "      <th>927</th>\n",
       "      <td>1,2,4-trimethylbenzene</td>\n",
       "      <td>Cc1ccc(c(c1)C)C</td>\n",
       "      <td>318.15</td>\n",
       "      <td>96340.0</td>\n",
       "      <td>0.0</td>\n",
       "      <td>NaN</td>\n",
       "      <td>7</td>\n",
       "      <td>NaN</td>\n",
       "    </tr>\n",
       "  </tbody>\n",
       "</table>\n",
       "</div>"
      ],
      "text/plain": [
       "                     Solute           SMILES    Temp  Measured Uncertain  \\\n",
       "923  1,2,4-trimethylbenzene  Cc1ccc(c(c1)C)C  288.15  127600.0       0.0   \n",
       "924  1,2,4-trimethylbenzene  Cc1ccc(c(c1)C)C  298.15  115000.0       0.0   \n",
       "925  1,2,4-trimethylbenzene  Cc1ccc(c(c1)C)C  298.15  118100.0       0.0   \n",
       "926  1,2,4-trimethylbenzene  Cc1ccc(c(c1)C)C  308.15  107400.0       0.0   \n",
       "927  1,2,4-trimethylbenzene  Cc1ccc(c(c1)C)C  318.15   96340.0       0.0   \n",
       "\n",
       "    Method  Ref. Notes  \n",
       "923    NaN     7   NaN  \n",
       "924    NaN  9,12   NaN  \n",
       "925    NaN     7   NaN  \n",
       "926    NaN     7   NaN  \n",
       "927    NaN     7   NaN  "
      ]
     },
     "execution_count": 20,
     "metadata": {},
     "output_type": "execute_result"
    }
   ],
   "source": [
    "#Compile list of all accepted compounds\n",
    "complete = sorted(list(set().union(good_compounds, accepted, okay)))\n",
    "compiled_table = pd.DataFrame()\n",
    "for name in complete:\n",
    "    compiled_table = compiled_table.append(table2[table2.Solute == name])\n",
    "compiled_table.head()"
   ]
  },
  {
   "cell_type": "code",
   "execution_count": 21,
   "metadata": {},
   "outputs": [],
   "source": [
    "comp_1 = compiled_table['Solute'].unique()[10]\n",
    "comp_2 = compiled_table['Solute'].unique()[11]"
   ]
  },
  {
   "cell_type": "code",
   "execution_count": 22,
   "metadata": {},
   "outputs": [
    {
     "data": {
      "text/html": [
       "<div>\n",
       "<style scoped>\n",
       "    .dataframe tbody tr th:only-of-type {\n",
       "        vertical-align: middle;\n",
       "    }\n",
       "\n",
       "    .dataframe tbody tr th {\n",
       "        vertical-align: top;\n",
       "    }\n",
       "\n",
       "    .dataframe thead th {\n",
       "        text-align: right;\n",
       "    }\n",
       "</style>\n",
       "<table border=\"1\" class=\"dataframe\">\n",
       "  <thead>\n",
       "    <tr style=\"text-align: right;\">\n",
       "      <th></th>\n",
       "      <th>Solute</th>\n",
       "      <th>SMILES</th>\n",
       "      <th>Temp</th>\n",
       "      <th>Measured</th>\n",
       "      <th>Uncertain</th>\n",
       "      <th>Method</th>\n",
       "      <th>Ref.</th>\n",
       "      <th>Notes</th>\n",
       "    </tr>\n",
       "  </thead>\n",
       "  <tbody>\n",
       "    <tr>\n",
       "      <th>255</th>\n",
       "      <td>1-bromopropane</td>\n",
       "      <td>CCCBr</td>\n",
       "      <td>298.15</td>\n",
       "      <td>2850.0</td>\n",
       "      <td>0</td>\n",
       "      <td>GS</td>\n",
       "      <td>38</td>\n",
       "      <td>NaN</td>\n",
       "    </tr>\n",
       "    <tr>\n",
       "      <th>256</th>\n",
       "      <td>1-bromopropane</td>\n",
       "      <td>CCCBr</td>\n",
       "      <td>298.15</td>\n",
       "      <td>2900.0</td>\n",
       "      <td>0</td>\n",
       "      <td>KGW</td>\n",
       "      <td>2</td>\n",
       "      <td>NaN</td>\n",
       "    </tr>\n",
       "    <tr>\n",
       "      <th>1032</th>\n",
       "      <td>1-bromopropane</td>\n",
       "      <td>CCCBr</td>\n",
       "      <td>303.15</td>\n",
       "      <td>2770.0</td>\n",
       "      <td>0.0</td>\n",
       "      <td>NaN</td>\n",
       "      <td>2,13</td>\n",
       "      <td>This compound can also be found in Table 1</td>\n",
       "    </tr>\n",
       "  </tbody>\n",
       "</table>\n",
       "</div>"
      ],
      "text/plain": [
       "              Solute SMILES    Temp  Measured Uncertain Method  Ref.  \\\n",
       "255   1-bromopropane  CCCBr  298.15    2850.0         0     GS    38   \n",
       "256   1-bromopropane  CCCBr  298.15    2900.0         0    KGW     2   \n",
       "1032  1-bromopropane  CCCBr  303.15    2770.0       0.0    NaN  2,13   \n",
       "\n",
       "                                           Notes  \n",
       "255                                          NaN  \n",
       "256                                          NaN  \n",
       "1032  This compound can also be found in Table 1  "
      ]
     },
     "execution_count": 22,
     "metadata": {},
     "output_type": "execute_result"
    }
   ],
   "source": [
    "compiled_table[compiled_table['Solute'] == comp_2]"
   ]
  },
  {
   "cell_type": "code",
   "execution_count": 23,
   "metadata": {},
   "outputs": [],
   "source": [
    "#pd.DataFrame.to_pickle(complete_table, 'input/1_complete_table.pkl')"
   ]
  },
  {
   "cell_type": "code",
   "execution_count": 24,
   "metadata": {},
   "outputs": [],
   "source": [
    "#Create dictionary that stores all temperatures with measured values for a given compound\n",
    "temp_dict = {}\n",
    "for name in complete:\n",
    "    subset = compiled_table[compiled_table.Solute == name]\n",
    "    temp_dict[name] = [x for x in sorted(subset.Temp.unique())]"
   ]
  },
  {
   "cell_type": "code",
   "execution_count": 25,
   "metadata": {},
   "outputs": [],
   "source": [
    "#Parse down temperature list for each compound to temperatures 5 degrees or more from each other\n",
    "new_temp_dict = {}\n",
    "for name in complete:\n",
    "    keep_temp = []\n",
    "    keep_temp.append(temp_dict[name][0])\n",
    "    reference = keep_temp[0]\n",
    "\n",
    "    for entry in temp_dict[name][1:]:\n",
    "        if entry >= reference + 5:\n",
    "            keep_temp.append(entry)\n",
    "            reference = entry\n",
    "        \n",
    "    new_temp_dict[name] = keep_temp"
   ]
  },
  {
   "cell_type": "markdown",
   "metadata": {},
   "source": [
    "## 4. Create Final Output Dataframe"
   ]
  },
  {
   "cell_type": "code",
   "execution_count": 24,
   "metadata": {},
   "outputs": [],
   "source": [
    "#Parse down the list of compounds with the newly generated temperature list\n",
    "final_table = pd.DataFrame()\n",
    "for name in new_temp_dict:\n",
    "    subset = compiled_table[compiled_table.Solute == name]\n",
    "    subset = subset.drop_duplicates(subset = 'Temp')\n",
    "    final_table = final_table.append(subset[subset.Temp.isin(new_temp_dict[name])])"
   ]
  },
  {
   "cell_type": "code",
   "execution_count": 25,
   "metadata": {},
   "outputs": [
    {
     "name": "stdout",
     "output_type": "stream",
     "text": [
      "322\n",
      "240\n"
     ]
    },
    {
     "data": {
      "text/html": [
       "<div>\n",
       "<style scoped>\n",
       "    .dataframe tbody tr th:only-of-type {\n",
       "        vertical-align: middle;\n",
       "    }\n",
       "\n",
       "    .dataframe tbody tr th {\n",
       "        vertical-align: top;\n",
       "    }\n",
       "\n",
       "    .dataframe thead th {\n",
       "        text-align: right;\n",
       "    }\n",
       "</style>\n",
       "<table border=\"1\" class=\"dataframe\">\n",
       "  <thead>\n",
       "    <tr style=\"text-align: right;\">\n",
       "      <th></th>\n",
       "      <th>Solute</th>\n",
       "      <th>SMILES</th>\n",
       "      <th>Temp</th>\n",
       "      <th>Measured</th>\n",
       "      <th>Uncertain</th>\n",
       "      <th>Method</th>\n",
       "      <th>Ref.</th>\n",
       "      <th>Notes</th>\n",
       "    </tr>\n",
       "  </thead>\n",
       "  <tbody>\n",
       "    <tr>\n",
       "      <th>923</th>\n",
       "      <td>1,2,4-trimethylbenzene</td>\n",
       "      <td>Cc1ccc(c(c1)C)C</td>\n",
       "      <td>288.15</td>\n",
       "      <td>127600.0</td>\n",
       "      <td>0.0</td>\n",
       "      <td>NaN</td>\n",
       "      <td>7</td>\n",
       "      <td>NaN</td>\n",
       "    </tr>\n",
       "    <tr>\n",
       "      <th>924</th>\n",
       "      <td>1,2,4-trimethylbenzene</td>\n",
       "      <td>Cc1ccc(c(c1)C)C</td>\n",
       "      <td>298.15</td>\n",
       "      <td>115000.0</td>\n",
       "      <td>0.0</td>\n",
       "      <td>NaN</td>\n",
       "      <td>9,12</td>\n",
       "      <td>NaN</td>\n",
       "    </tr>\n",
       "    <tr>\n",
       "      <th>926</th>\n",
       "      <td>1,2,4-trimethylbenzene</td>\n",
       "      <td>Cc1ccc(c(c1)C)C</td>\n",
       "      <td>308.15</td>\n",
       "      <td>107400.0</td>\n",
       "      <td>0.0</td>\n",
       "      <td>NaN</td>\n",
       "      <td>7</td>\n",
       "      <td>NaN</td>\n",
       "    </tr>\n",
       "    <tr>\n",
       "      <th>927</th>\n",
       "      <td>1,2,4-trimethylbenzene</td>\n",
       "      <td>Cc1ccc(c(c1)C)C</td>\n",
       "      <td>318.15</td>\n",
       "      <td>96340.0</td>\n",
       "      <td>0.0</td>\n",
       "      <td>NaN</td>\n",
       "      <td>7</td>\n",
       "      <td>NaN</td>\n",
       "    </tr>\n",
       "    <tr>\n",
       "      <th>487</th>\n",
       "      <td>1,2-butanediol</td>\n",
       "      <td>CCC(CO)O</td>\n",
       "      <td>299.15</td>\n",
       "      <td>2.0</td>\n",
       "      <td>0.2</td>\n",
       "      <td>DP</td>\n",
       "      <td>62</td>\n",
       "      <td>NaN</td>\n",
       "    </tr>\n",
       "  </tbody>\n",
       "</table>\n",
       "</div>"
      ],
      "text/plain": [
       "                     Solute           SMILES    Temp  Measured Uncertain  \\\n",
       "923  1,2,4-trimethylbenzene  Cc1ccc(c(c1)C)C  288.15  127600.0       0.0   \n",
       "924  1,2,4-trimethylbenzene  Cc1ccc(c(c1)C)C  298.15  115000.0       0.0   \n",
       "926  1,2,4-trimethylbenzene  Cc1ccc(c(c1)C)C  308.15  107400.0       0.0   \n",
       "927  1,2,4-trimethylbenzene  Cc1ccc(c(c1)C)C  318.15   96340.0       0.0   \n",
       "487          1,2-butanediol         CCC(CO)O  299.15       2.0       0.2   \n",
       "\n",
       "    Method  Ref. Notes  \n",
       "923    NaN     7   NaN  \n",
       "924    NaN  9,12   NaN  \n",
       "926    NaN     7   NaN  \n",
       "927    NaN     7   NaN  \n",
       "487     DP    62   NaN  "
      ]
     },
     "execution_count": 25,
     "metadata": {},
     "output_type": "execute_result"
    }
   ],
   "source": [
    "print(len(compiled_table))\n",
    "print(len(final_table))\n",
    "final_table.head()"
   ]
  },
  {
   "cell_type": "code",
   "execution_count": 26,
   "metadata": {},
   "outputs": [],
   "source": [
    "import pickle\n",
    "\n",
    "pickle.dump(final_table, open('input/final_table.p', 'wb'))\n",
    "pickle.dump(new_temp_dict, open('temp_dict.p', 'wb'))"
   ]
  },
  {
   "cell_type": "code",
   "execution_count": 27,
   "metadata": {},
   "outputs": [],
   "source": [
    "def make_tables(new_table, solvent_list, ref_table):\n",
    "    '''\n",
    "    Input:\n",
    "    new_table: name of table to be created\n",
    "    solvent_list: list of corresponding smiles for every compound in the table to be created\n",
    "    ref_table: table that contains all relevant information about the compounds\n",
    "    \n",
    "    Output:\n",
    "    Returns a table ready to be saved as an .oeb file and submitted to Orion for processing\n",
    "    '''\n",
    "    new_table[\"Molecule\"] = [smiles_to_oemol(x) for x in ref_table.SMILES]\n",
    "    new_table[\"solute_name\"] = [x for x in ref_table.Solute]\n",
    "    new_table[\"solvents\"] = solvent_list\n",
    "    new_table[\"temperature\"] = [x for x in ref_table.Temp]\n",
    "    new_table[\"density\"] = ['1.0' for x in ref_table.Solute]\n",
    "    new_table[\"molar_fractions\"] = ['1.0' for x in ref_table.Solute]\n",
    "    new_table[\"pressure\"] = ['1.0' for x in ref_table.Solute]\n",
    "    new_table['IDAC_expt'] = [x for x in ref_table.Measured]\n",
    "    new_table['Error'] = [x for x in ref_table.Uncertain]\n",
    "    new_table['solute_SMILES'] = [x for x in ref_table.SMILES]\n",
    "    \n",
    "    #Generate a random conformer of each molecule to initialize the object with coordinates\n",
    "    mols = []\n",
    "    for i in range(len(new_table)):\n",
    "        mol = new_table.Molecule[i]\n",
    "        OETriposAtomNames(mol)\n",
    "        mol = normalize_molecule(mol)\n",
    "        mol = generate_conformers(mol, max_confs=1, strictStereo=False, strictTypes=False)\n",
    "        for j, conf in enumerate(mol.GetConfs()):\n",
    "            if j > 0:\n",
    "                mol.DeleteConf(conf)\n",
    "        mols.append(mol)\n",
    "    new_table['Molecule'] = mols\n",
    "    return new_table"
   ]
  },
  {
   "cell_type": "code",
   "execution_count": 28,
   "metadata": {},
   "outputs": [],
   "source": [
    "solv_list = ['[H]O[H]' for x in final_table.Solute]\n",
    "ssolv_list = [x for x in final_table.SMILES]"
   ]
  },
  {
   "cell_type": "code",
   "execution_count": 29,
   "metadata": {},
   "outputs": [
    {
     "name": "stdout",
     "output_type": "stream",
     "text": [
      "Warning: No principle axes found during inertial alignment\n",
      "Warning: No principle axes found during inertial alignment\n",
      "Warning: No principle axes found during inertial alignment\n",
      "Warning: No principle axes found during inertial alignment\n"
     ]
    }
   ],
   "source": [
    "#Create solvation and self-solvation tables to export as oeb files\n",
    "IDAC_solv = pd.DataFrame()\n",
    "IDAC_ssolv = pd.DataFrame()\n",
    "final_solv = make_tables(IDAC_solv, solv_list, final_table)\n",
    "final_ssolv = make_tables(IDAC_ssolv, ssolv_list, final_table)"
   ]
  },
  {
   "cell_type": "code",
   "execution_count": 31,
   "metadata": {},
   "outputs": [
    {
     "data": {
      "text/html": [
       "<div>\n",
       "<style scoped>\n",
       "    .dataframe tbody tr th:only-of-type {\n",
       "        vertical-align: middle;\n",
       "    }\n",
       "\n",
       "    .dataframe tbody tr th {\n",
       "        vertical-align: top;\n",
       "    }\n",
       "\n",
       "    .dataframe thead th {\n",
       "        text-align: right;\n",
       "    }\n",
       "</style>\n",
       "<table border=\"1\" class=\"dataframe\">\n",
       "  <thead>\n",
       "    <tr style=\"text-align: right;\">\n",
       "      <th></th>\n",
       "      <th>Molecule</th>\n",
       "      <th>solute_name</th>\n",
       "      <th>solvents</th>\n",
       "      <th>temperature</th>\n",
       "      <th>density</th>\n",
       "      <th>molar_fractions</th>\n",
       "      <th>pressure</th>\n",
       "      <th>IDAC_expt</th>\n",
       "      <th>Error</th>\n",
       "      <th>solute_SMILES</th>\n",
       "    </tr>\n",
       "  </thead>\n",
       "  <tbody>\n",
       "    <tr>\n",
       "      <th>0</th>\n",
       "      <td>&lt;oechem.OEMol; proxy of &lt;Swig Object of type '...</td>\n",
       "      <td>1,2,4-trimethylbenzene</td>\n",
       "      <td>Cc1ccc(c(c1)C)C</td>\n",
       "      <td>288.15</td>\n",
       "      <td>1.0</td>\n",
       "      <td>1.0</td>\n",
       "      <td>1.0</td>\n",
       "      <td>127600.0</td>\n",
       "      <td>0.0</td>\n",
       "      <td>Cc1ccc(c(c1)C)C</td>\n",
       "    </tr>\n",
       "    <tr>\n",
       "      <th>1</th>\n",
       "      <td>&lt;oechem.OEMol; proxy of &lt;Swig Object of type '...</td>\n",
       "      <td>1,2,4-trimethylbenzene</td>\n",
       "      <td>Cc1ccc(c(c1)C)C</td>\n",
       "      <td>298.15</td>\n",
       "      <td>1.0</td>\n",
       "      <td>1.0</td>\n",
       "      <td>1.0</td>\n",
       "      <td>115000.0</td>\n",
       "      <td>0.0</td>\n",
       "      <td>Cc1ccc(c(c1)C)C</td>\n",
       "    </tr>\n",
       "    <tr>\n",
       "      <th>2</th>\n",
       "      <td>&lt;oechem.OEMol; proxy of &lt;Swig Object of type '...</td>\n",
       "      <td>1,2,4-trimethylbenzene</td>\n",
       "      <td>Cc1ccc(c(c1)C)C</td>\n",
       "      <td>308.15</td>\n",
       "      <td>1.0</td>\n",
       "      <td>1.0</td>\n",
       "      <td>1.0</td>\n",
       "      <td>107400.0</td>\n",
       "      <td>0.0</td>\n",
       "      <td>Cc1ccc(c(c1)C)C</td>\n",
       "    </tr>\n",
       "    <tr>\n",
       "      <th>3</th>\n",
       "      <td>&lt;oechem.OEMol; proxy of &lt;Swig Object of type '...</td>\n",
       "      <td>1,2,4-trimethylbenzene</td>\n",
       "      <td>Cc1ccc(c(c1)C)C</td>\n",
       "      <td>318.15</td>\n",
       "      <td>1.0</td>\n",
       "      <td>1.0</td>\n",
       "      <td>1.0</td>\n",
       "      <td>96340.0</td>\n",
       "      <td>0.0</td>\n",
       "      <td>Cc1ccc(c(c1)C)C</td>\n",
       "    </tr>\n",
       "    <tr>\n",
       "      <th>4</th>\n",
       "      <td>&lt;oechem.OEMol; proxy of &lt;Swig Object of type '...</td>\n",
       "      <td>1,2-butanediol</td>\n",
       "      <td>CCC(CO)O</td>\n",
       "      <td>299.15</td>\n",
       "      <td>1.0</td>\n",
       "      <td>1.0</td>\n",
       "      <td>1.0</td>\n",
       "      <td>2.0</td>\n",
       "      <td>0.2</td>\n",
       "      <td>CCC(CO)O</td>\n",
       "    </tr>\n",
       "  </tbody>\n",
       "</table>\n",
       "</div>"
      ],
      "text/plain": [
       "                                            Molecule             solute_name  \\\n",
       "0  <oechem.OEMol; proxy of <Swig Object of type '...  1,2,4-trimethylbenzene   \n",
       "1  <oechem.OEMol; proxy of <Swig Object of type '...  1,2,4-trimethylbenzene   \n",
       "2  <oechem.OEMol; proxy of <Swig Object of type '...  1,2,4-trimethylbenzene   \n",
       "3  <oechem.OEMol; proxy of <Swig Object of type '...  1,2,4-trimethylbenzene   \n",
       "4  <oechem.OEMol; proxy of <Swig Object of type '...          1,2-butanediol   \n",
       "\n",
       "          solvents  temperature density molar_fractions pressure  IDAC_expt  \\\n",
       "0  Cc1ccc(c(c1)C)C       288.15     1.0             1.0      1.0   127600.0   \n",
       "1  Cc1ccc(c(c1)C)C       298.15     1.0             1.0      1.0   115000.0   \n",
       "2  Cc1ccc(c(c1)C)C       308.15     1.0             1.0      1.0   107400.0   \n",
       "3  Cc1ccc(c(c1)C)C       318.15     1.0             1.0      1.0    96340.0   \n",
       "4         CCC(CO)O       299.15     1.0             1.0      1.0        2.0   \n",
       "\n",
       "  Error    solute_SMILES  \n",
       "0   0.0  Cc1ccc(c(c1)C)C  \n",
       "1   0.0  Cc1ccc(c(c1)C)C  \n",
       "2   0.0  Cc1ccc(c(c1)C)C  \n",
       "3   0.0  Cc1ccc(c(c1)C)C  \n",
       "4   0.2         CCC(CO)O  "
      ]
     },
     "execution_count": 31,
     "metadata": {},
     "output_type": "execute_result"
    }
   ],
   "source": [
    "final_ssolv.head()"
   ]
  },
  {
   "cell_type": "code",
   "execution_count": 32,
   "metadata": {},
   "outputs": [
    {
     "data": {
      "text/html": [
       "<div>\n",
       "<style scoped>\n",
       "    .dataframe tbody tr th:only-of-type {\n",
       "        vertical-align: middle;\n",
       "    }\n",
       "\n",
       "    .dataframe tbody tr th {\n",
       "        vertical-align: top;\n",
       "    }\n",
       "\n",
       "    .dataframe thead th {\n",
       "        text-align: right;\n",
       "    }\n",
       "</style>\n",
       "<table border=\"1\" class=\"dataframe\">\n",
       "  <thead>\n",
       "    <tr style=\"text-align: right;\">\n",
       "      <th></th>\n",
       "      <th>Molecule</th>\n",
       "      <th>solute_name</th>\n",
       "      <th>solvents</th>\n",
       "      <th>temperature</th>\n",
       "      <th>density</th>\n",
       "      <th>molar_fractions</th>\n",
       "      <th>pressure</th>\n",
       "      <th>IDAC_expt</th>\n",
       "      <th>Error</th>\n",
       "      <th>solute_SMILES</th>\n",
       "    </tr>\n",
       "  </thead>\n",
       "  <tbody>\n",
       "    <tr>\n",
       "      <th>0</th>\n",
       "      <td>&lt;oechem.OEMol; proxy of &lt;Swig Object of type '...</td>\n",
       "      <td>1,2,4-trimethylbenzene</td>\n",
       "      <td>[H]O[H]</td>\n",
       "      <td>288.15</td>\n",
       "      <td>1.0</td>\n",
       "      <td>1.0</td>\n",
       "      <td>1.0</td>\n",
       "      <td>127600.0</td>\n",
       "      <td>0.0</td>\n",
       "      <td>Cc1ccc(c(c1)C)C</td>\n",
       "    </tr>\n",
       "    <tr>\n",
       "      <th>1</th>\n",
       "      <td>&lt;oechem.OEMol; proxy of &lt;Swig Object of type '...</td>\n",
       "      <td>1,2,4-trimethylbenzene</td>\n",
       "      <td>[H]O[H]</td>\n",
       "      <td>298.15</td>\n",
       "      <td>1.0</td>\n",
       "      <td>1.0</td>\n",
       "      <td>1.0</td>\n",
       "      <td>115000.0</td>\n",
       "      <td>0.0</td>\n",
       "      <td>Cc1ccc(c(c1)C)C</td>\n",
       "    </tr>\n",
       "    <tr>\n",
       "      <th>2</th>\n",
       "      <td>&lt;oechem.OEMol; proxy of &lt;Swig Object of type '...</td>\n",
       "      <td>1,2,4-trimethylbenzene</td>\n",
       "      <td>[H]O[H]</td>\n",
       "      <td>308.15</td>\n",
       "      <td>1.0</td>\n",
       "      <td>1.0</td>\n",
       "      <td>1.0</td>\n",
       "      <td>107400.0</td>\n",
       "      <td>0.0</td>\n",
       "      <td>Cc1ccc(c(c1)C)C</td>\n",
       "    </tr>\n",
       "    <tr>\n",
       "      <th>3</th>\n",
       "      <td>&lt;oechem.OEMol; proxy of &lt;Swig Object of type '...</td>\n",
       "      <td>1,2,4-trimethylbenzene</td>\n",
       "      <td>[H]O[H]</td>\n",
       "      <td>318.15</td>\n",
       "      <td>1.0</td>\n",
       "      <td>1.0</td>\n",
       "      <td>1.0</td>\n",
       "      <td>96340.0</td>\n",
       "      <td>0.0</td>\n",
       "      <td>Cc1ccc(c(c1)C)C</td>\n",
       "    </tr>\n",
       "    <tr>\n",
       "      <th>4</th>\n",
       "      <td>&lt;oechem.OEMol; proxy of &lt;Swig Object of type '...</td>\n",
       "      <td>1,2-butanediol</td>\n",
       "      <td>[H]O[H]</td>\n",
       "      <td>299.15</td>\n",
       "      <td>1.0</td>\n",
       "      <td>1.0</td>\n",
       "      <td>1.0</td>\n",
       "      <td>2.0</td>\n",
       "      <td>0.2</td>\n",
       "      <td>CCC(CO)O</td>\n",
       "    </tr>\n",
       "  </tbody>\n",
       "</table>\n",
       "</div>"
      ],
      "text/plain": [
       "                                            Molecule             solute_name  \\\n",
       "0  <oechem.OEMol; proxy of <Swig Object of type '...  1,2,4-trimethylbenzene   \n",
       "1  <oechem.OEMol; proxy of <Swig Object of type '...  1,2,4-trimethylbenzene   \n",
       "2  <oechem.OEMol; proxy of <Swig Object of type '...  1,2,4-trimethylbenzene   \n",
       "3  <oechem.OEMol; proxy of <Swig Object of type '...  1,2,4-trimethylbenzene   \n",
       "4  <oechem.OEMol; proxy of <Swig Object of type '...          1,2-butanediol   \n",
       "\n",
       "  solvents  temperature density molar_fractions pressure  IDAC_expt Error  \\\n",
       "0  [H]O[H]       288.15     1.0             1.0      1.0   127600.0   0.0   \n",
       "1  [H]O[H]       298.15     1.0             1.0      1.0   115000.0   0.0   \n",
       "2  [H]O[H]       308.15     1.0             1.0      1.0   107400.0   0.0   \n",
       "3  [H]O[H]       318.15     1.0             1.0      1.0    96340.0   0.0   \n",
       "4  [H]O[H]       299.15     1.0             1.0      1.0        2.0   0.2   \n",
       "\n",
       "     solute_SMILES  \n",
       "0  Cc1ccc(c(c1)C)C  \n",
       "1  Cc1ccc(c(c1)C)C  \n",
       "2  Cc1ccc(c(c1)C)C  \n",
       "3  Cc1ccc(c(c1)C)C  \n",
       "4         CCC(CO)O  "
      ]
     },
     "execution_count": 32,
     "metadata": {},
     "output_type": "execute_result"
    }
   ],
   "source": [
    "final_solv.head()"
   ]
  },
  {
   "cell_type": "code",
   "execution_count": 31,
   "metadata": {},
   "outputs": [
    {
     "data": {
      "text/plain": [
       "('1,2,4-trimethylbenzene', 'test/but_ssolv.mol2')"
      ]
     },
     "execution_count": 31,
     "metadata": {},
     "output_type": "execute_result"
    }
   ],
   "source": [
    "##Tests to save molecule as .mol2 file and confirm it has coordinates attached to it\n",
    "solv_molecule = final_solv['Molecule'][0]\n",
    "ssolv_molecule = final_ssolv['Molecule'][0]\n",
    "\n",
    "#molecule_to_mol2(solv_molecule, tripos_mol2_filename='test/but_solv.mol2')\n",
    "#molecule_to_mol2(ssolv_molecule, tripos_mol2_filename='test/but_ssolv.mol2')"
   ]
  },
  {
   "cell_type": "code",
   "execution_count": 33,
   "metadata": {},
   "outputs": [],
   "source": [
    "#Output dataframe as .oeb file for input into Orion workfloe\n",
    "oenb.write_dataframe_to_file(final_solv, \"input/IDAC_complete_solv.oeb\")\n",
    "oenb.write_dataframe_to_file(final_ssolv, \"input/IDAC_complete_ssolv.oeb\")"
   ]
  },
  {
   "cell_type": "markdown",
   "metadata": {},
   "source": [
    "### Creating Test Subset from Complete List"
   ]
  },
  {
   "cell_type": "code",
   "execution_count": 73,
   "metadata": {},
   "outputs": [
    {
     "data": {
      "text/html": [
       "<div>\n",
       "<style scoped>\n",
       "    .dataframe tbody tr th:only-of-type {\n",
       "        vertical-align: middle;\n",
       "    }\n",
       "\n",
       "    .dataframe tbody tr th {\n",
       "        vertical-align: top;\n",
       "    }\n",
       "\n",
       "    .dataframe thead th {\n",
       "        text-align: right;\n",
       "    }\n",
       "</style>\n",
       "<table border=\"1\" class=\"dataframe\">\n",
       "  <thead>\n",
       "    <tr style=\"text-align: right;\">\n",
       "      <th></th>\n",
       "      <th>IDAC_expt</th>\n",
       "      <th>Molecule</th>\n",
       "      <th>density</th>\n",
       "      <th>molar_fractions</th>\n",
       "      <th>name</th>\n",
       "      <th>pressure</th>\n",
       "      <th>solvents</th>\n",
       "      <th>temperature</th>\n",
       "    </tr>\n",
       "  </thead>\n",
       "  <tbody>\n",
       "    <tr>\n",
       "      <th>0</th>\n",
       "      <td>127600.00</td>\n",
       "      <td>&lt;oechem.OEMol; proxy of &lt;Swig Object of type '...</td>\n",
       "      <td>1.0</td>\n",
       "      <td>1.0</td>\n",
       "      <td>1,2,4-trimethylbenzene</td>\n",
       "      <td>1.0</td>\n",
       "      <td>[H]O[H]</td>\n",
       "      <td>288.15</td>\n",
       "    </tr>\n",
       "    <tr>\n",
       "      <th>1</th>\n",
       "      <td>115000.00</td>\n",
       "      <td>&lt;oechem.OEMol; proxy of &lt;Swig Object of type '...</td>\n",
       "      <td>1.0</td>\n",
       "      <td>1.0</td>\n",
       "      <td>1,2,4-trimethylbenzene</td>\n",
       "      <td>1.0</td>\n",
       "      <td>[H]O[H]</td>\n",
       "      <td>298.15</td>\n",
       "    </tr>\n",
       "    <tr>\n",
       "      <th>121</th>\n",
       "      <td>0.17</td>\n",
       "      <td>&lt;oechem.OEMol; proxy of &lt;Swig Object of type '...</td>\n",
       "      <td>1.0</td>\n",
       "      <td>1.0</td>\n",
       "      <td>dimethylsulfoxide</td>\n",
       "      <td>1.0</td>\n",
       "      <td>[H]O[H]</td>\n",
       "      <td>337.85</td>\n",
       "    </tr>\n",
       "  </tbody>\n",
       "</table>\n",
       "</div>"
      ],
      "text/plain": [
       "     IDAC_expt                                           Molecule density  \\\n",
       "0    127600.00  <oechem.OEMol; proxy of <Swig Object of type '...     1.0   \n",
       "1    115000.00  <oechem.OEMol; proxy of <Swig Object of type '...     1.0   \n",
       "121       0.17  <oechem.OEMol; proxy of <Swig Object of type '...     1.0   \n",
       "\n",
       "    molar_fractions                    name pressure solvents  temperature  \n",
       "0               1.0  1,2,4-trimethylbenzene      1.0  [H]O[H]       288.15  \n",
       "1               1.0  1,2,4-trimethylbenzene      1.0  [H]O[H]       298.15  \n",
       "121             1.0       dimethylsulfoxide      1.0  [H]O[H]       337.85  "
      ]
     },
     "execution_count": 73,
     "metadata": {},
     "output_type": "execute_result"
    }
   ],
   "source": [
    "test_set_solv = pd.DataFrame()\n",
    "test_set_solv = test_set_solv.append(final_solv.loc[0])\n",
    "test_set_solv = test_set_solv.append(final_solv.loc[1:240:120], sort=False)\n",
    "test_set_solv"
   ]
  },
  {
   "cell_type": "code",
   "execution_count": 74,
   "metadata": {},
   "outputs": [
    {
     "data": {
      "text/html": [
       "<div>\n",
       "<style scoped>\n",
       "    .dataframe tbody tr th:only-of-type {\n",
       "        vertical-align: middle;\n",
       "    }\n",
       "\n",
       "    .dataframe tbody tr th {\n",
       "        vertical-align: top;\n",
       "    }\n",
       "\n",
       "    .dataframe thead th {\n",
       "        text-align: right;\n",
       "    }\n",
       "</style>\n",
       "<table border=\"1\" class=\"dataframe\">\n",
       "  <thead>\n",
       "    <tr style=\"text-align: right;\">\n",
       "      <th></th>\n",
       "      <th>IDAC_expt</th>\n",
       "      <th>Molecule</th>\n",
       "      <th>density</th>\n",
       "      <th>molar_fractions</th>\n",
       "      <th>name</th>\n",
       "      <th>pressure</th>\n",
       "      <th>solvents</th>\n",
       "      <th>temperature</th>\n",
       "    </tr>\n",
       "  </thead>\n",
       "  <tbody>\n",
       "    <tr>\n",
       "      <th>0</th>\n",
       "      <td>127600.00</td>\n",
       "      <td>&lt;oechem.OEMol; proxy of &lt;Swig Object of type '...</td>\n",
       "      <td>1.0</td>\n",
       "      <td>1.0</td>\n",
       "      <td>1,2,4-trimethylbenzene</td>\n",
       "      <td>1.0</td>\n",
       "      <td>Cc1ccc(c(c1)C)C</td>\n",
       "      <td>288.15</td>\n",
       "    </tr>\n",
       "    <tr>\n",
       "      <th>1</th>\n",
       "      <td>115000.00</td>\n",
       "      <td>&lt;oechem.OEMol; proxy of &lt;Swig Object of type '...</td>\n",
       "      <td>1.0</td>\n",
       "      <td>1.0</td>\n",
       "      <td>1,2,4-trimethylbenzene</td>\n",
       "      <td>1.0</td>\n",
       "      <td>Cc1ccc(c(c1)C)C</td>\n",
       "      <td>298.15</td>\n",
       "    </tr>\n",
       "    <tr>\n",
       "      <th>121</th>\n",
       "      <td>0.17</td>\n",
       "      <td>&lt;oechem.OEMol; proxy of &lt;Swig Object of type '...</td>\n",
       "      <td>1.0</td>\n",
       "      <td>1.0</td>\n",
       "      <td>dimethylsulfoxide</td>\n",
       "      <td>1.0</td>\n",
       "      <td>CS(=O)C</td>\n",
       "      <td>337.85</td>\n",
       "    </tr>\n",
       "  </tbody>\n",
       "</table>\n",
       "</div>"
      ],
      "text/plain": [
       "     IDAC_expt                                           Molecule density  \\\n",
       "0    127600.00  <oechem.OEMol; proxy of <Swig Object of type '...     1.0   \n",
       "1    115000.00  <oechem.OEMol; proxy of <Swig Object of type '...     1.0   \n",
       "121       0.17  <oechem.OEMol; proxy of <Swig Object of type '...     1.0   \n",
       "\n",
       "    molar_fractions                    name pressure         solvents  \\\n",
       "0               1.0  1,2,4-trimethylbenzene      1.0  Cc1ccc(c(c1)C)C   \n",
       "1               1.0  1,2,4-trimethylbenzene      1.0  Cc1ccc(c(c1)C)C   \n",
       "121             1.0       dimethylsulfoxide      1.0          CS(=O)C   \n",
       "\n",
       "     temperature  \n",
       "0         288.15  \n",
       "1         298.15  \n",
       "121       337.85  "
      ]
     },
     "execution_count": 74,
     "metadata": {},
     "output_type": "execute_result"
    }
   ],
   "source": [
    "test_set_ssolv = pd.DataFrame()\n",
    "test_set_ssolv = test_set_ssolv.append(final_ssolv.loc[0])\n",
    "test_set_ssolv = test_set_ssolv.append(final_ssolv.loc[1:240:120], sort=False)\n",
    "test_set_ssolv"
   ]
  },
  {
   "cell_type": "code",
   "execution_count": 35,
   "metadata": {},
   "outputs": [],
   "source": [
    "#Save DataFrames\n",
    "pd.DataFrame.to_pickle(final_solv, 'input/final_solv.pkl')\n",
    "pd.DataFrame.to_pickle(final_ssolv, 'input/final_ssolv.pkl')"
   ]
  },
  {
   "cell_type": "code",
   "execution_count": 75,
   "metadata": {},
   "outputs": [],
   "source": [
    "#Output dataframe as .oeb file for input into Orion workfloe\n",
    "oenb.write_dataframe_to_file(test_set_solv, \"input/testset_solv.oeb\")\n",
    "oenb.write_dataframe_to_file(test_set_ssolv, \"input/testset_ssolv.oeb\")"
   ]
  },
  {
   "cell_type": "code",
   "execution_count": null,
   "metadata": {},
   "outputs": [],
   "source": []
  }
 ],
 "metadata": {
  "kernelspec": {
   "display_name": "Python 3",
   "language": "python",
   "name": "python3"
  },
  "language_info": {
   "codemirror_mode": {
    "name": "ipython",
    "version": 3
   },
   "file_extension": ".py",
   "mimetype": "text/x-python",
   "name": "python",
   "nbconvert_exporter": "python",
   "pygments_lexer": "ipython3",
   "version": "3.6.8"
  }
 },
 "nbformat": 4,
 "nbformat_minor": 2
}
