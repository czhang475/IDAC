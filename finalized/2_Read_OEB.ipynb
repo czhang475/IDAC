{
 "cells": [
  {
   "cell_type": "code",
   "execution_count": 2,
   "metadata": {},
   "outputs": [],
   "source": [
    "import numpy as np\n",
    "import pandas as pd\n",
    "import oenotebook as oenb\n",
    "from openeye.oechem import *\n",
    "from openmoltools.openeye import *\n",
    "from openeye.oeiupac import *\n",
    "\n",
    "#from extraction import main\n",
    "from test_extract import main"
   ]
  },
  {
   "cell_type": "markdown",
   "metadata": {},
   "source": [
    "### Part 1: Checking SD Tags of Orion Output Data"
   ]
  },
  {
   "cell_type": "code",
   "execution_count": 3,
   "metadata": {},
   "outputs": [
    {
     "data": {
      "text/plain": [
       "'dimethylsulfoxide'"
      ]
     },
     "execution_count": 3,
     "metadata": {},
     "output_type": "execute_result"
    }
   ],
   "source": [
    "#Use output .oeb file and the following lines to create OEMol object with SD Tags\n",
    "input_file = 'output/testset_solv.oeb'\n",
    "its = oechem.oemolistream(input_file)\n",
    "molecule = oechem.OEMol()\n",
    "oechem.OEReadMolecule(its, molecule)\n",
    "\n",
    "tag_name = 'name'\n",
    "#Check if a Certain SD Tag exists and its value\n",
    "oechem.OEGetSDData(molecule, tag_name)"
   ]
  },
  {
   "cell_type": "code",
   "execution_count": 4,
   "metadata": {},
   "outputs": [
    {
     "name": "stdout",
     "output_type": "stream",
     "text": [
      "SD data of methylsulfinylmethane:\n",
      "Floe_report_URL_OPLMD\n",
      "Floe_report_label_OPLMD\n",
      "Floe_report_lig_svg_OPLMD\n",
      "Floe_report_OPLMD\n",
      "Title_OPLMD\n",
      "Ligand_name_OPLMD\n",
      "name\n",
      "solvents\n",
      "Final_State_Density_Std_OPLMD\n",
      "Final_State_Density_OPLMD\n",
      "Start_State_Density_Std_OPLMD\n",
      "Start_State_Density_OPLMD\n",
      "FE_Error_OPLMD\n",
      "FE_OPLMD\n",
      "IDAC_expt\n",
      "density\n",
      "molar_fractions\n",
      "pressure\n",
      "temperature\n",
      "iterations_per_cube\n",
      "current_iterations\n",
      "Structure_Parmed_OPLMD\n",
      "Collection_ID_OPLMD\n",
      "ConfID_OPLMD\n",
      "WellID_OPLMD\n",
      "LigID_OPLMD\n"
     ]
    }
   ],
   "source": [
    "def DumpSDData(mol):\n",
    "    print(\"SD data of {}:\".format(mol.GetTitle()))\n",
    "    #Loop over SD Data\n",
    "    for dp in oechem.OEGetSDDataPairs(mol):\n",
    "        print(dp.GetTag())\n",
    "\n",
    "DumpSDData(molecule)"
   ]
  },
  {
   "cell_type": "code",
   "execution_count": 5,
   "metadata": {},
   "outputs": [],
   "source": [
    "#Use imported function to convert .oeb input into a .csv\n",
    "main('output/testset_solv.oeb', 'output/testset_solv.csv')"
   ]
  },
  {
   "cell_type": "code",
   "execution_count": 6,
   "metadata": {},
   "outputs": [
    {
     "data": {
      "text/html": [
       "<div>\n",
       "<style scoped>\n",
       "    .dataframe tbody tr th:only-of-type {\n",
       "        vertical-align: middle;\n",
       "    }\n",
       "\n",
       "    .dataframe tbody tr th {\n",
       "        vertical-align: top;\n",
       "    }\n",
       "\n",
       "    .dataframe thead th {\n",
       "        text-align: right;\n",
       "    }\n",
       "</style>\n",
       "<table border=\"1\" class=\"dataframe\">\n",
       "  <thead>\n",
       "    <tr style=\"text-align: right;\">\n",
       "      <th></th>\n",
       "      <th>Molecule</th>\n",
       "      <th>Temperature(K)</th>\n",
       "      <th>Pressure(atm)</th>\n",
       "      <th>Solvents(smiles)</th>\n",
       "      <th>Molar_fractions</th>\n",
       "      <th>FE(kcal/mol)</th>\n",
       "      <th>DFE(kcal/mol)</th>\n",
       "      <th>Density_Start(g/ml)</th>\n",
       "      <th>DDensity_Start(g/ml)</th>\n",
       "      <th>Density_Final(g/ml)</th>\n",
       "      <th>DDensity_Final(g/ml)</th>\n",
       "      <th>IDAC_expt</th>\n",
       "    </tr>\n",
       "  </thead>\n",
       "  <tbody>\n",
       "    <tr>\n",
       "      <th>0</th>\n",
       "      <td>methylsulfinylmethane</td>\n",
       "      <td>337.85</td>\n",
       "      <td>1.0</td>\n",
       "      <td>CS(=O)C</td>\n",
       "      <td>1.0</td>\n",
       "      <td>-6.667071</td>\n",
       "      <td>0.125674</td>\n",
       "      <td>1.049733</td>\n",
       "      <td>0.017803</td>\n",
       "      <td>1.045612</td>\n",
       "      <td>0.013655</td>\n",
       "      <td>0.17</td>\n",
       "    </tr>\n",
       "    <tr>\n",
       "      <th>1</th>\n",
       "      <td>1,2,4-trimethylbenzene</td>\n",
       "      <td>288.15</td>\n",
       "      <td>1.0</td>\n",
       "      <td>Cc1ccc(c(c1)C)C</td>\n",
       "      <td>1.0</td>\n",
       "      <td>-6.858908</td>\n",
       "      <td>0.154936</td>\n",
       "      <td>0.857648</td>\n",
       "      <td>0.006995</td>\n",
       "      <td>0.845297</td>\n",
       "      <td>0.008087</td>\n",
       "      <td>127600.00</td>\n",
       "    </tr>\n",
       "    <tr>\n",
       "      <th>2</th>\n",
       "      <td>1,2,4-trimethylbenzene</td>\n",
       "      <td>298.15</td>\n",
       "      <td>1.0</td>\n",
       "      <td>Cc1ccc(c(c1)C)C</td>\n",
       "      <td>1.0</td>\n",
       "      <td>-6.864855</td>\n",
       "      <td>0.156568</td>\n",
       "      <td>0.842775</td>\n",
       "      <td>0.008959</td>\n",
       "      <td>0.839253</td>\n",
       "      <td>0.008442</td>\n",
       "      <td>115000.00</td>\n",
       "    </tr>\n",
       "  </tbody>\n",
       "</table>\n",
       "</div>"
      ],
      "text/plain": [
       "                 Molecule   Temperature(K)   Pressure(atm)  Solvents(smiles)  \\\n",
       "0   methylsulfinylmethane           337.85             1.0           CS(=O)C   \n",
       "1  1,2,4-trimethylbenzene           288.15             1.0   Cc1ccc(c(c1)C)C   \n",
       "2  1,2,4-trimethylbenzene           298.15             1.0   Cc1ccc(c(c1)C)C   \n",
       "\n",
       "    Molar_fractions  FE(kcal/mol)   DFE(kcal/mol)   Density_Start(g/ml)  \\\n",
       "0               1.0     -6.667071        0.125674              1.049733   \n",
       "1               1.0     -6.858908        0.154936              0.857648   \n",
       "2               1.0     -6.864855        0.156568              0.842775   \n",
       "\n",
       "    DDensity_Start(g/ml)  Density_Final(g/ml)   DDensity_Final(g/ml)  \\\n",
       "0               0.017803             1.045612               0.013655   \n",
       "1               0.006995             0.845297               0.008087   \n",
       "2               0.008959             0.839253               0.008442   \n",
       "\n",
       "    IDAC_expt  \n",
       "0        0.17  \n",
       "1   127600.00  \n",
       "2   115000.00  "
      ]
     },
     "execution_count": 6,
     "metadata": {},
     "output_type": "execute_result"
    }
   ],
   "source": [
    "selfsolv = pd.read_csv('output/testset_ssolv.csv')\n",
    "#selfsolv.columns = [x.lstrip() for x in selfsolv.columns]\n",
    "selfsolv"
   ]
  },
  {
   "cell_type": "code",
   "execution_count": 7,
   "metadata": {},
   "outputs": [
    {
     "data": {
      "text/html": [
       "<div>\n",
       "<style scoped>\n",
       "    .dataframe tbody tr th:only-of-type {\n",
       "        vertical-align: middle;\n",
       "    }\n",
       "\n",
       "    .dataframe tbody tr th {\n",
       "        vertical-align: top;\n",
       "    }\n",
       "\n",
       "    .dataframe thead th {\n",
       "        text-align: right;\n",
       "    }\n",
       "</style>\n",
       "<table border=\"1\" class=\"dataframe\">\n",
       "  <thead>\n",
       "    <tr style=\"text-align: right;\">\n",
       "      <th></th>\n",
       "      <th>Molecule</th>\n",
       "      <th>Temperature(K)</th>\n",
       "      <th>Pressure(atm)</th>\n",
       "      <th>Solvents(smiles)</th>\n",
       "      <th>Molar_fractions</th>\n",
       "      <th>FE(kcal/mol)</th>\n",
       "      <th>DFE(kcal/mol)</th>\n",
       "      <th>Density_Start(g/ml)</th>\n",
       "      <th>DDensity_Start(g/ml)</th>\n",
       "      <th>Density_Final(g/ml)</th>\n",
       "      <th>DDensity_Final(g/ml)</th>\n",
       "      <th>IDAC_expt</th>\n",
       "    </tr>\n",
       "  </thead>\n",
       "  <tbody>\n",
       "    <tr>\n",
       "      <th>0</th>\n",
       "      <td>methylsulfinylmethane</td>\n",
       "      <td>337.85</td>\n",
       "      <td>1.0</td>\n",
       "      <td>[H]O[H]</td>\n",
       "      <td>1.0</td>\n",
       "      <td>-7.462691</td>\n",
       "      <td>0.106989</td>\n",
       "      <td>0.950628</td>\n",
       "      <td>0.013329</td>\n",
       "      <td>0.941492</td>\n",
       "      <td>0.012258</td>\n",
       "      <td>0.17</td>\n",
       "    </tr>\n",
       "    <tr>\n",
       "      <th>1</th>\n",
       "      <td>1,2,4-trimethylbenzene</td>\n",
       "      <td>288.15</td>\n",
       "      <td>1.0</td>\n",
       "      <td>[H]O[H]</td>\n",
       "      <td>1.0</td>\n",
       "      <td>-1.834387</td>\n",
       "      <td>0.093468</td>\n",
       "      <td>0.999114</td>\n",
       "      <td>0.011820</td>\n",
       "      <td>0.987008</td>\n",
       "      <td>0.010178</td>\n",
       "      <td>127600.00</td>\n",
       "    </tr>\n",
       "    <tr>\n",
       "      <th>2</th>\n",
       "      <td>1,2,4-trimethylbenzene</td>\n",
       "      <td>298.15</td>\n",
       "      <td>1.0</td>\n",
       "      <td>[H]O[H]</td>\n",
       "      <td>1.0</td>\n",
       "      <td>-1.502976</td>\n",
       "      <td>0.095626</td>\n",
       "      <td>0.987265</td>\n",
       "      <td>0.011227</td>\n",
       "      <td>0.980543</td>\n",
       "      <td>0.008545</td>\n",
       "      <td>115000.00</td>\n",
       "    </tr>\n",
       "  </tbody>\n",
       "</table>\n",
       "</div>"
      ],
      "text/plain": [
       "                 Molecule   Temperature(K)   Pressure(atm)  Solvents(smiles)  \\\n",
       "0   methylsulfinylmethane           337.85             1.0           [H]O[H]   \n",
       "1  1,2,4-trimethylbenzene           288.15             1.0           [H]O[H]   \n",
       "2  1,2,4-trimethylbenzene           298.15             1.0           [H]O[H]   \n",
       "\n",
       "    Molar_fractions  FE(kcal/mol)   DFE(kcal/mol)   Density_Start(g/ml)  \\\n",
       "0               1.0     -7.462691        0.106989              0.950628   \n",
       "1               1.0     -1.834387        0.093468              0.999114   \n",
       "2               1.0     -1.502976        0.095626              0.987265   \n",
       "\n",
       "    DDensity_Start(g/ml)  Density_Final(g/ml)   DDensity_Final(g/ml)  \\\n",
       "0               0.013329             0.941492               0.012258   \n",
       "1               0.011820             0.987008               0.010178   \n",
       "2               0.011227             0.980543               0.008545   \n",
       "\n",
       "    IDAC_expt  \n",
       "0        0.17  \n",
       "1   127600.00  \n",
       "2   115000.00  "
      ]
     },
     "execution_count": 7,
     "metadata": {},
     "output_type": "execute_result"
    }
   ],
   "source": [
    "solv = pd.read_csv('output/testset_solv.csv')\n",
    "solv"
   ]
  },
  {
   "cell_type": "code",
   "execution_count": 8,
   "metadata": {},
   "outputs": [
    {
     "name": "stdout",
     "output_type": "stream",
     "text": [
      "methylsulfinylmethane: 2.9425067606550988\n",
      "1,2,4-trimethylbenzene: 7562.03787488704\n",
      "1,2,4-trimethylbenzene: 9960.48842068008\n"
     ]
    }
   ],
   "source": [
    "print('methylsulfinylmethane:', np.exp((-6.667 + 7.462)/(0.0019872041 * 337.85)) * (0.9415/1.0456))\n",
    "print('1,2,4-trimethylbenzene:', np.exp((-1.834 + 6.859)/(0.0019872041 * 288.15)) * (0.987/0.845))\n",
    "print('1,2,4-trimethylbenzene:', np.exp((-1.503 + 6.865)/(0.0019872041 * 298.15)) * (0.981/0.839))"
   ]
  },
  {
   "cell_type": "markdown",
   "metadata": {},
   "source": [
    "### Part 2: Calculating IDAC from Orion Output Data"
   ]
  },
  {
   "cell_type": "markdown",
   "metadata": {},
   "source": [
    "Using the following formula: $$\\gamma_{i}^{\\infty} = exp\\bigg(\\frac{\\Delta G_{i}^{solv} - \\Delta G_{i}^{self-solv}}{k_{B}T} \\bigg) \\cdot \\frac{\\rho_{molar}^{solvent}}{\\rho_{molar}^{pure-solute}} $$"
   ]
  },
  {
   "cell_type": "code",
   "execution_count": 36,
   "metadata": {},
   "outputs": [],
   "source": [
    "def calculate_IDAC(solvation, self_solvation):\n",
    "    table = pd.DataFrame(columns = ['Name', 'Temp', 'IDAC_calc', 'IDAC_expt'])\n",
    "    table['Name'] = solvation['Molecule']\n",
    "    table['Temp'] = solvation[' Temperature(K)']\n",
    "    table['IDAC_calc'] = calc_idac([x for x in table['Temp']],\n",
    "                                   [x for x in solvation['FE(kcal/mol)']],\n",
    "                                   [x for x in self_solvation['FE(kcal/mol)']], \n",
    "                                   [x for x in solvation['Density_Final(g/ml)']],\n",
    "                                   [x for x in self_solvation['Density_Final(g/ml)']])\n",
    "    table['IDAC_expt'] = solvation[' IDAC_expt']\n",
    "    \n",
    "    return table"
   ]
  },
  {
   "cell_type": "code",
   "execution_count": 37,
   "metadata": {},
   "outputs": [],
   "source": [
    "def calc_idac(temperature, G_solvation, G_self_solvation, top_density, bottom_density):\n",
    "    '''\n",
    "    top_density: final density in solvation\n",
    "    bottom_density: final density in self-solvation\n",
    "    '''\n",
    "    IDAC_calc = []\n",
    "    k = 0.0019872041 #units in kcal/mol*K\n",
    "    for i in range(len(temperature)):\n",
    "        IDAC_calc.append(np.exp((G_solvation[i] - G_self_solvation[i])/(k*temperature[i])) * (top_density[i]/bottom_density[i]))\n",
    "    return IDAC_calc"
   ]
  },
  {
   "cell_type": "code",
   "execution_count": 38,
   "metadata": {},
   "outputs": [],
   "source": [
    "final = calculate_IDAC(solv, selfsolv)"
   ]
  },
  {
   "cell_type": "code",
   "execution_count": 39,
   "metadata": {},
   "outputs": [
    {
     "data": {
      "text/html": [
       "<div>\n",
       "<style scoped>\n",
       "    .dataframe tbody tr th:only-of-type {\n",
       "        vertical-align: middle;\n",
       "    }\n",
       "\n",
       "    .dataframe tbody tr th {\n",
       "        vertical-align: top;\n",
       "    }\n",
       "\n",
       "    .dataframe thead th {\n",
       "        text-align: right;\n",
       "    }\n",
       "</style>\n",
       "<table border=\"1\" class=\"dataframe\">\n",
       "  <thead>\n",
       "    <tr style=\"text-align: right;\">\n",
       "      <th></th>\n",
       "      <th>Name</th>\n",
       "      <th>Temp</th>\n",
       "      <th>IDAC_calc</th>\n",
       "      <th>IDAC_expt</th>\n",
       "    </tr>\n",
       "  </thead>\n",
       "  <tbody>\n",
       "    <tr>\n",
       "      <th>0</th>\n",
       "      <td>methylsulfinylmethane</td>\n",
       "      <td>337.85</td>\n",
       "      <td>0.275285</td>\n",
       "      <td>0.17</td>\n",
       "    </tr>\n",
       "    <tr>\n",
       "      <th>1</th>\n",
       "      <td>1,2,4-trimethylbenzene</td>\n",
       "      <td>288.15</td>\n",
       "      <td>7553.112060</td>\n",
       "      <td>127600.00</td>\n",
       "    </tr>\n",
       "    <tr>\n",
       "      <th>2</th>\n",
       "      <td>1,2,4-trimethylbenzene</td>\n",
       "      <td>298.15</td>\n",
       "      <td>9950.820347</td>\n",
       "      <td>115000.00</td>\n",
       "    </tr>\n",
       "  </tbody>\n",
       "</table>\n",
       "</div>"
      ],
      "text/plain": [
       "                     Name    Temp    IDAC_calc  IDAC_expt\n",
       "0   methylsulfinylmethane  337.85     0.275285       0.17\n",
       "1  1,2,4-trimethylbenzene  288.15  7553.112060  127600.00\n",
       "2  1,2,4-trimethylbenzene  298.15  9950.820347  115000.00"
      ]
     },
     "execution_count": 39,
     "metadata": {},
     "output_type": "execute_result"
    }
   ],
   "source": [
    "final"
   ]
  },
  {
   "cell_type": "code",
   "execution_count": 36,
   "metadata": {},
   "outputs": [],
   "source": [
    "results = oenb.read_file_to_dataframe(\"output/results_final.oeb.gz\")"
   ]
  },
  {
   "cell_type": "code",
   "execution_count": 37,
   "metadata": {},
   "outputs": [],
   "source": [
    "smile = 'CCCCOC(=O)C'\n",
    "sub_group = results[results['Solute SMILES'] == smile]"
   ]
  },
  {
   "cell_type": "code",
   "execution_count": 39,
   "metadata": {},
   "outputs": [
    {
     "data": {
      "text/html": [
       "<div>\n",
       "<style scoped>\n",
       "    .dataframe tbody tr th:only-of-type {\n",
       "        vertical-align: middle;\n",
       "    }\n",
       "\n",
       "    .dataframe tbody tr th {\n",
       "        vertical-align: top;\n",
       "    }\n",
       "\n",
       "    .dataframe thead th {\n",
       "        text-align: right;\n",
       "    }\n",
       "</style>\n",
       "<table border=\"1\" class=\"dataframe\">\n",
       "  <thead>\n",
       "    <tr style=\"text-align: right;\">\n",
       "      <th></th>\n",
       "      <th>Molecule</th>\n",
       "      <th>expt IDAC</th>\n",
       "      <th>expt IDAC, error</th>\n",
       "      <th>DG_solv (kcal/mol)</th>\n",
       "      <th>dDG_solv (kcal/mol)</th>\n",
       "      <th>kT log(gamma)_calc (kcal/mol)</th>\n",
       "      <th>Solvent name</th>\n",
       "      <th>Temperature (K)</th>\n",
       "      <th>dDG_self_solv (kcal/mol)</th>\n",
       "      <th>kT log(gamma)_calc, error (kcal/mol)</th>\n",
       "      <th>kT log(gamma)_expt, error (kcal/mol)</th>\n",
       "      <th>Solvent SMILES</th>\n",
       "      <th>kT log(gamma)_expt (kcal/mol)</th>\n",
       "      <th>Solute SMILES</th>\n",
       "      <th>DG_self_solv (kcal/mol)</th>\n",
       "    </tr>\n",
       "  </thead>\n",
       "  <tbody>\n",
       "    <tr>\n",
       "      <th>211</th>\n",
       "      <td>&lt;oechem.OEMol; proxy of &lt;Swig Object of type '...</td>\n",
       "      <td>613.0</td>\n",
       "      <td>3</td>\n",
       "      <td>-3.929219</td>\n",
       "      <td>0.12814</td>\n",
       "      <td>2.913815</td>\n",
       "      <td>water</td>\n",
       "      <td>273.35</td>\n",
       "      <td>0.19023</td>\n",
       "      <td>0.222547</td>\n",
       "      <td>0.004894</td>\n",
       "      <td>[H]O[H]</td>\n",
       "      <td>3.48414</td>\n",
       "      <td>CCCCOC(=O)C</td>\n",
       "      <td>-6.93106</td>\n",
       "    </tr>\n",
       "  </tbody>\n",
       "</table>\n",
       "</div>"
      ],
      "text/plain": [
       "                                              Molecule  expt IDAC  \\\n",
       "211  <oechem.OEMol; proxy of <Swig Object of type '...      613.0   \n",
       "\n",
       "    expt IDAC, error  DG_solv (kcal/mol)  dDG_solv (kcal/mol)  \\\n",
       "211                3           -3.929219              0.12814   \n",
       "\n",
       "     kT log(gamma)_calc (kcal/mol) Solvent name  Temperature (K)  \\\n",
       "211                       2.913815        water           273.35   \n",
       "\n",
       "     dDG_self_solv (kcal/mol)  kT log(gamma)_calc, error (kcal/mol)  \\\n",
       "211                   0.19023                              0.222547   \n",
       "\n",
       "     kT log(gamma)_expt, error (kcal/mol) Solvent SMILES  \\\n",
       "211                              0.004894        [H]O[H]   \n",
       "\n",
       "     kT log(gamma)_expt (kcal/mol) Solute SMILES  DG_self_solv (kcal/mol)  \n",
       "211                        3.48414   CCCCOC(=O)C                 -6.93106  "
      ]
     },
     "execution_count": 39,
     "metadata": {},
     "output_type": "execute_result"
    }
   ],
   "source": [
    "sub_group[sub_group['Solvent name'] == 'water']"
   ]
  },
  {
   "cell_type": "code",
   "execution_count": 53,
   "metadata": {},
   "outputs": [],
   "source": [
    "calc_idac = np.exp((2.913815)/(0.0019872041*273.35))"
   ]
  },
  {
   "cell_type": "code",
   "execution_count": 54,
   "metadata": {},
   "outputs": [
    {
     "data": {
      "text/html": [
       "<div>\n",
       "<style scoped>\n",
       "    .dataframe tbody tr th:only-of-type {\n",
       "        vertical-align: middle;\n",
       "    }\n",
       "\n",
       "    .dataframe tbody tr th {\n",
       "        vertical-align: top;\n",
       "    }\n",
       "\n",
       "    .dataframe thead th {\n",
       "        text-align: right;\n",
       "    }\n",
       "</style>\n",
       "<table border=\"1\" class=\"dataframe\">\n",
       "  <thead>\n",
       "    <tr style=\"text-align: right;\">\n",
       "      <th></th>\n",
       "      <th>Name</th>\n",
       "      <th>Temperature (K)</th>\n",
       "      <th>$\\Delta G_{sol}$ (kcal/mol)</th>\n",
       "      <th>$\\Delta G_{selfsolv}$ (kcal/mol)</th>\n",
       "      <th>IDAC_calc</th>\n",
       "      <th>IDAC_exp</th>\n",
       "    </tr>\n",
       "  </thead>\n",
       "  <tbody>\n",
       "    <tr>\n",
       "      <th>0</th>\n",
       "      <td>Chris</td>\n",
       "      <td>298.15</td>\n",
       "      <td>-3.293</td>\n",
       "      <td>-6.239</td>\n",
       "      <td>161.2</td>\n",
       "      <td>814.0</td>\n",
       "    </tr>\n",
       "    <tr>\n",
       "      <th>1</th>\n",
       "      <td>Guilherme</td>\n",
       "      <td>273.35</td>\n",
       "      <td>-3.929</td>\n",
       "      <td>-6.931</td>\n",
       "      <td>213.6</td>\n",
       "      <td>613.0</td>\n",
       "    </tr>\n",
       "  </tbody>\n",
       "</table>\n",
       "</div>"
      ],
      "text/plain": [
       "        Name  Temperature (K)  $\\Delta G_{sol}$ (kcal/mol)  \\\n",
       "0      Chris           298.15                       -3.293   \n",
       "1  Guilherme           273.35                       -3.929   \n",
       "\n",
       "   $\\Delta G_{selfsolv}$ (kcal/mol)  IDAC_calc  IDAC_exp  \n",
       "0                            -6.239      161.2     814.0  \n",
       "1                            -6.931      213.6     613.0  "
      ]
     },
     "execution_count": 54,
     "metadata": {},
     "output_type": "execute_result"
    }
   ],
   "source": [
    "col = ['Name', 'Temperature (K)', '$\\Delta G_{sol}$ (kcal/mol)', '$\\Delta G_{selfsolv}$ (kcal/mol)', 'IDAC_calc', 'IDAC_exp']\n",
    "compare = pd.DataFrame(columns = col)\n",
    "compare.append(pd.DataFrame([['Chris', 298.15, -3.293, -6.239, 161.2, 814.00], ['Guilherme', 273.35, -3.929, -6.931, 213.6, 613]], columns = col))"
   ]
  }
 ],
 "metadata": {
  "kernelspec": {
   "display_name": "Python 3",
   "language": "python",
   "name": "python3"
  },
  "language_info": {
   "codemirror_mode": {
    "name": "ipython",
    "version": 3
   },
   "file_extension": ".py",
   "mimetype": "text/x-python",
   "name": "python",
   "nbconvert_exporter": "python",
   "pygments_lexer": "ipython3",
   "version": "3.6.8"
  }
 },
 "nbformat": 4,
 "nbformat_minor": 2
}
