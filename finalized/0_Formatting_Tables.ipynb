{
 "cells": [
  {
   "cell_type": "code",
   "execution_count": 1,
   "metadata": {},
   "outputs": [],
   "source": [
    "import numpy as np\n",
    "import pandas as pd\n",
    "import oenotebook as oenb\n",
    "from openeye.oechem import *\n",
    "from openmoltools.openeye import *\n",
    "from openeye.oeiupac import *"
   ]
  },
  {
   "cell_type": "markdown",
   "metadata": {},
   "source": [
    "### Part 1: Cleaning Table from Paper"
   ]
  },
  {
   "cell_type": "code",
   "execution_count": 2,
   "metadata": {},
   "outputs": [],
   "source": [
    "#Upload all three tables from Kojima et al, 1997 paper\n",
    "table_1 = pd.read_excel('tables/table1_cleaned.xlsx')\n",
    "table_2 = pd.read_excel('tables/table2_cleaned.xlsx')\n",
    "table_3 = pd.read_excel('tables/table3_cleaned.xlsx')"
   ]
  },
  {
   "cell_type": "code",
   "execution_count": 3,
   "metadata": {},
   "outputs": [],
   "source": [
    "#Reformat tables to have the same column headings so they can be concatentated\n",
    "table_2 = table_2.rename(columns={'Solvent': 'Solute'})\n",
    "table_2 = table_2.rename(columns={'Ref': 'Ref.'})\n",
    "table_2['Method'] = ['NaN' for x in table_2.Solute]\n",
    "table_2['Uncertain'] = ['0.0' for x in table_2.Solute]\n",
    "table_3 = table_3.rename(columns={'Solvent': 'Solute'})\n",
    "cols = table_2.columns.tolist()\n",
    "cols = cols[:3] + [cols[5]] + [cols[3]] + [cols[4]] + [cols[6]]\n",
    "table_2 = table_2[cols]"
   ]
  },
  {
   "cell_type": "code",
   "execution_count": 4,
   "metadata": {},
   "outputs": [],
   "source": [
    "#Create the fully concatenated data table\n",
    "merged = [table_1, table_2, table_3]\n",
    "table = pd.concat(merged)\n",
    "\n",
    "#Reset index values \n",
    "table = table.reset_index(drop=True)"
   ]
  },
  {
   "cell_type": "code",
   "execution_count": 5,
   "metadata": {},
   "outputs": [],
   "source": [
    "#Fix formatting of certain compound names\n",
    "def fix_names(name):\n",
    "    if name[-1] == \" \":\n",
    "        name = name.rstrip() #removes any spaces at the end of string\n",
    "    return name\n",
    "\n",
    "table.Solute = table.Solute.apply(fix_names)"
   ]
  },
  {
   "cell_type": "code",
   "execution_count": 6,
   "metadata": {},
   "outputs": [
    {
     "data": {
      "text/html": [
       "<div>\n",
       "<style scoped>\n",
       "    .dataframe tbody tr th:only-of-type {\n",
       "        vertical-align: middle;\n",
       "    }\n",
       "\n",
       "    .dataframe tbody tr th {\n",
       "        vertical-align: top;\n",
       "    }\n",
       "\n",
       "    .dataframe thead th {\n",
       "        text-align: right;\n",
       "    }\n",
       "</style>\n",
       "<table border=\"1\" class=\"dataframe\">\n",
       "  <thead>\n",
       "    <tr style=\"text-align: right;\">\n",
       "      <th></th>\n",
       "      <th>Solute</th>\n",
       "      <th>Temp</th>\n",
       "      <th>Measured</th>\n",
       "      <th>Method</th>\n",
       "      <th>Ref.</th>\n",
       "      <th>Notes</th>\n",
       "      <th>Uncertain</th>\n",
       "    </tr>\n",
       "  </thead>\n",
       "  <tbody>\n",
       "    <tr>\n",
       "      <th>0</th>\n",
       "      <td>Pentane</td>\n",
       "      <td>293.15</td>\n",
       "      <td>945.0</td>\n",
       "      <td>GC</td>\n",
       "      <td>47</td>\n",
       "      <td>NaN</td>\n",
       "      <td>0</td>\n",
       "    </tr>\n",
       "    <tr>\n",
       "      <th>1</th>\n",
       "      <td>Pentane</td>\n",
       "      <td>303.15</td>\n",
       "      <td>796.0</td>\n",
       "      <td>GC</td>\n",
       "      <td>47</td>\n",
       "      <td>NaN</td>\n",
       "      <td>0</td>\n",
       "    </tr>\n",
       "    <tr>\n",
       "      <th>2</th>\n",
       "      <td>Pentane</td>\n",
       "      <td>313.15</td>\n",
       "      <td>517.0</td>\n",
       "      <td>GC</td>\n",
       "      <td>47</td>\n",
       "      <td>NaN</td>\n",
       "      <td>0</td>\n",
       "    </tr>\n",
       "    <tr>\n",
       "      <th>3</th>\n",
       "      <td>Hexane</td>\n",
       "      <td>293.15</td>\n",
       "      <td>2940.0</td>\n",
       "      <td>GC</td>\n",
       "      <td>47</td>\n",
       "      <td>NaN</td>\n",
       "      <td>0</td>\n",
       "    </tr>\n",
       "    <tr>\n",
       "      <th>4</th>\n",
       "      <td>Hexane</td>\n",
       "      <td>298.15</td>\n",
       "      <td>40000.0</td>\n",
       "      <td>--</td>\n",
       "      <td>10</td>\n",
       "      <td>NaN</td>\n",
       "      <td>0</td>\n",
       "    </tr>\n",
       "  </tbody>\n",
       "</table>\n",
       "</div>"
      ],
      "text/plain": [
       "    Solute    Temp  Measured Method Ref. Notes Uncertain\n",
       "0  Pentane  293.15     945.0     GC   47   NaN         0\n",
       "1  Pentane  303.15     796.0     GC   47   NaN         0\n",
       "2  Pentane  313.15     517.0     GC   47   NaN         0\n",
       "3   Hexane  293.15    2940.0     GC   47   NaN         0\n",
       "4   Hexane  298.15   40000.0     --   10   NaN         0"
      ]
     },
     "execution_count": 6,
     "metadata": {},
     "output_type": "execute_result"
    }
   ],
   "source": [
    "table.head()"
   ]
  },
  {
   "cell_type": "code",
   "execution_count": 6,
   "metadata": {},
   "outputs": [
    {
     "name": "stdout",
     "output_type": "stream",
     "text": [
      "Warning: Failed to parse name: PROPIONIC ACID, 2-METHYL, -METHYL\n",
      "Warning: Failed to parse name: 1,8-NONANEDIYNE\n",
      "Warning: Failed to parse name: 1,2-BENZANTHRACENE\n",
      "Warning: Failed to parse name: 3,4-BENZOPYRENE\n",
      "Warning: Failed to parse name: BENZO[GHI]PERYLENE\n",
      "Warning: Failed to parse name: SEC-BUTYL METHYL, 2-METHYL ETHER\n",
      "Warning: Failed to parse name: PEG 400\n",
      "Warning: Failed to parse name: PEG 600\n",
      "Warning: Failed to parse name: PEG 1000\n",
      "Warning: Failed to parse name: PEG 1500\n",
      "Warning: Failed to parse name: PEG 7500\n",
      "Warning: Failed to parse name: TETRAETHYLENE GLYCOL-DIMETHYL ETHER\n",
      "Warning: Failed to parse name: TRIPROPYLENE GLYCOL-DIMETHYL ETHER\n",
      "Warning: Failed to parse name: TRIETHYLENE GLYCOL-DIBUTYL ETHER\n",
      "Warning: Failed to parse name: DIETHYLENE GLYCOL-DIBUTYL ETHER\n",
      "Warning: Failed to parse name: TRIPROPYLENE GLYCOL-DIBUTYL ETHER\n",
      "Warning: Failed to parse name: PHOSPHORIC ACID, TRI-(2-BUTOXYETHYL) ESTER\n"
     ]
    }
   ],
   "source": [
    "#Find solute names that cannot be converted into SMILES\n",
    "smiles = {}\n",
    "for name in table.Solute.unique():\n",
    "    mol_from_name = OEMol()\n",
    "    OEParseIUPACName(mol_from_name, name)\n",
    "    smiles[name] = OECreateCanSmiString(mol_from_name)"
   ]
  },
  {
   "cell_type": "code",
   "execution_count": 7,
   "metadata": {},
   "outputs": [],
   "source": [
    "#Collects all indices for compounds with the following names \n",
    "##Maybe find a way to collect the above error names without hardcoding\n",
    "trouble_names = ['Propionic Acid, 2-Methyl, -Methyl', '1,8-Nonanediyne', '1,2-Benzanthracene', '3,4-Benzopyrene',\n",
    "            'Benzo[ghi]perylene', 'Sec-butyl methyl, 2-methyl ether', 'PEG 400', 'PEG 600', 'PEG 1000',\n",
    "            'PEG 1500', 'PEG 7500', 'Tetraethylene Glycol-Dimethyl Ether', 'Tripropylene Glycol-Dimethyl Ether',\n",
    "            'Triethylene Glycol-Dibutyl Ether', 'Diethylene Glycol-Dibutyl Ether', 'Tripropylene Glycol-Dibutyl Ether',\n",
    "            'Phosphoric Acid, Tri-(2-Butoxyethyl) Ester']\n",
    "total = []\n",
    "for name in trouble_names:\n",
    "    indices = list(table[table.Solute == name].index)\n",
    "    total.append(indices)\n",
    "final_indices = [val for sublist in total for val in sublist]"
   ]
  },
  {
   "cell_type": "code",
   "execution_count": 8,
   "metadata": {},
   "outputs": [
    {
     "name": "stdout",
     "output_type": "stream",
     "text": [
      "Original Table: 1464\n",
      "New Table: 1374\n"
     ]
    }
   ],
   "source": [
    "print('Original Table:', len(table))\n",
    "\n",
    "#Create a new table without any of the compounds with no discerable IUPAC name\n",
    "table2 = table.drop(table.index[final_indices])\n",
    "print('New Table:', len(table2))"
   ]
  },
  {
   "cell_type": "code",
   "execution_count": 9,
   "metadata": {},
   "outputs": [
    {
     "data": {
      "text/html": [
       "<div>\n",
       "<style scoped>\n",
       "    .dataframe tbody tr th:only-of-type {\n",
       "        vertical-align: middle;\n",
       "    }\n",
       "\n",
       "    .dataframe tbody tr th {\n",
       "        vertical-align: top;\n",
       "    }\n",
       "\n",
       "    .dataframe thead th {\n",
       "        text-align: right;\n",
       "    }\n",
       "</style>\n",
       "<table border=\"1\" class=\"dataframe\">\n",
       "  <thead>\n",
       "    <tr style=\"text-align: right;\">\n",
       "      <th></th>\n",
       "      <th>Solute</th>\n",
       "      <th>Temp</th>\n",
       "      <th>Measured</th>\n",
       "      <th>Method</th>\n",
       "      <th>Ref.</th>\n",
       "      <th>Notes</th>\n",
       "      <th>Uncertain</th>\n",
       "    </tr>\n",
       "  </thead>\n",
       "  <tbody>\n",
       "    <tr>\n",
       "      <th>0</th>\n",
       "      <td>Pentane</td>\n",
       "      <td>293.15</td>\n",
       "      <td>945.0</td>\n",
       "      <td>GC</td>\n",
       "      <td>47</td>\n",
       "      <td>NaN</td>\n",
       "      <td>0</td>\n",
       "    </tr>\n",
       "    <tr>\n",
       "      <th>1</th>\n",
       "      <td>Pentane</td>\n",
       "      <td>303.15</td>\n",
       "      <td>796.0</td>\n",
       "      <td>GC</td>\n",
       "      <td>47</td>\n",
       "      <td>NaN</td>\n",
       "      <td>0</td>\n",
       "    </tr>\n",
       "    <tr>\n",
       "      <th>2</th>\n",
       "      <td>Pentane</td>\n",
       "      <td>313.15</td>\n",
       "      <td>517.0</td>\n",
       "      <td>GC</td>\n",
       "      <td>47</td>\n",
       "      <td>NaN</td>\n",
       "      <td>0</td>\n",
       "    </tr>\n",
       "    <tr>\n",
       "      <th>3</th>\n",
       "      <td>Hexane</td>\n",
       "      <td>293.15</td>\n",
       "      <td>2940.0</td>\n",
       "      <td>GC</td>\n",
       "      <td>47</td>\n",
       "      <td>NaN</td>\n",
       "      <td>0</td>\n",
       "    </tr>\n",
       "    <tr>\n",
       "      <th>4</th>\n",
       "      <td>Hexane</td>\n",
       "      <td>298.15</td>\n",
       "      <td>40000.0</td>\n",
       "      <td>--</td>\n",
       "      <td>10</td>\n",
       "      <td>NaN</td>\n",
       "      <td>0</td>\n",
       "    </tr>\n",
       "  </tbody>\n",
       "</table>\n",
       "</div>"
      ],
      "text/plain": [
       "    Solute    Temp  Measured Method Ref. Notes Uncertain\n",
       "0  Pentane  293.15     945.0     GC   47   NaN         0\n",
       "1  Pentane  303.15     796.0     GC   47   NaN         0\n",
       "2  Pentane  313.15     517.0     GC   47   NaN         0\n",
       "3   Hexane  293.15    2940.0     GC   47   NaN         0\n",
       "4   Hexane  298.15   40000.0     --   10   NaN         0"
      ]
     },
     "execution_count": 9,
     "metadata": {},
     "output_type": "execute_result"
    }
   ],
   "source": [
    "table2.head()"
   ]
  },
  {
   "cell_type": "code",
   "execution_count": 10,
   "metadata": {},
   "outputs": [],
   "source": [
    "table2['SMILES'] = [smiles[name] for name in table2.Solute]\n",
    "cols = table2.columns.tolist()\n",
    "cols = [cols[0]] + [cols[-1]] + cols[1:3] + [cols[-2]] + cols[3:-2]\n",
    "table2 = table2[cols]"
   ]
  },
  {
   "cell_type": "code",
   "execution_count": 11,
   "metadata": {},
   "outputs": [
    {
     "name": "stdout",
     "output_type": "stream",
     "text": [
      "435\n"
     ]
    }
   ],
   "source": [
    "table2.head()\n",
    "print(len(table2.Solute.unique()))"
   ]
  },
  {
   "cell_type": "code",
   "execution_count": 12,
   "metadata": {},
   "outputs": [
    {
     "name": "stdout",
     "output_type": "stream",
     "text": [
      "427\n"
     ]
    }
   ],
   "source": [
    "#Change all solute names to be lower case for consistency\n",
    "table2.Solute = [name.lower() for name in table2.Solute]\n",
    "table2.head()\n",
    "print(len(table2.Solute.unique()))"
   ]
  },
  {
   "cell_type": "code",
   "execution_count": 13,
   "metadata": {},
   "outputs": [
    {
     "name": "stdout",
     "output_type": "stream",
     "text": [
      "11\n"
     ]
    }
   ],
   "source": [
    "#Find compounds with different names but same SMILES sequence\n",
    "bad = []\n",
    "for smile in table2.SMILES.unique():\n",
    "    group = table2[table2.SMILES == smile]\n",
    "    if len(group['Solute'].unique()) > 1:\n",
    "        bad.append(smile)\n",
    "print(len(bad))"
   ]
  },
  {
   "cell_type": "code",
   "execution_count": 14,
   "metadata": {},
   "outputs": [],
   "source": [
    "#Change compound names to be consistent\n",
    "table2.at[65:67, 'Solute'] = '1,3,5-trimethylbenzene'\n",
    "table2.at[1187:1189, 'Solute'] = 'bromoform'\n",
    "table2.at[249:251, 'Solute'] = 'bromoethane'\n",
    "table2.at[278:279, 'Solute'] = '1-bromobutane'\n",
    "table2.at[1047, 'Solute'] = '1,2-dichlorobenzene'\n",
    "table2.at[463:467, 'Solute'] = '2-butoxyethanol'\n",
    "table2.at[659, 'Solute'] = '3-methylbutyl acetate'\n",
    "table2.at[670:673, 'Solute'] = 'dipropyl ether'\n",
    "table2.at[1160, 'Solute'] = 'dimethyl sulfide'\n",
    "table2.at[1161, 'Solute'] = 'diethyl sulfide'"
   ]
  },
  {
   "cell_type": "code",
   "execution_count": 15,
   "metadata": {},
   "outputs": [],
   "source": [
    "table2.to_pickle(\"./table_cleaned.pkl\")"
   ]
  },
  {
   "cell_type": "markdown",
   "metadata": {},
   "source": [
    "Save `table2` as the final raw output table"
   ]
  }
 ],
 "metadata": {
  "kernelspec": {
   "display_name": "Python 3",
   "language": "python",
   "name": "python3"
  },
  "language_info": {
   "codemirror_mode": {
    "name": "ipython",
    "version": 3
   },
   "file_extension": ".py",
   "mimetype": "text/x-python",
   "name": "python",
   "nbconvert_exporter": "python",
   "pygments_lexer": "ipython3",
   "version": "3.7.6"
  }
 },
 "nbformat": 4,
 "nbformat_minor": 2
}
