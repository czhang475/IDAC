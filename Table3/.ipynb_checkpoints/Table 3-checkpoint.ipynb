{
 "cells": [
  {
   "cell_type": "code",
   "execution_count": 43,
   "metadata": {},
   "outputs": [],
   "source": [
    "import numpy as np\n",
    "import pandas as pd\n",
    "from pandas import DataFrame as df\n",
    "from openeye.oechem import *\n",
    "from openeye.oeiupac import *"
   ]
  },
  {
   "cell_type": "code",
   "execution_count": 44,
   "metadata": {},
   "outputs": [],
   "source": [
    "#Returns True if inputted function is a float\n",
    "def is_number(s):\n",
    "    if type(s) == tuple:\n",
    "        return False\n",
    "    try:\n",
    "        float(s)\n",
    "        return True\n",
    "    except ValueError:\n",
    "        return False\n",
    "    \n",
    "#Returns index of any values that are not floats\n",
    "def check_value(column):\n",
    "    problem_index = []\n",
    "    for i,entry in enumerate(column):\n",
    "        if is_number(entry) == False:\n",
    "            problem_index.append(i)\n",
    "    return problem_index\n",
    "\n",
    "\n",
    "#Cleans a column of temperature values \n",
    "#operations in the function are made by inspection\n",
    "def clean_temp(value):\n",
    "    if value[0].isdigit() == False: #fixes terms with characters out in front (i.e. .373.15)\n",
    "        value = value[1:]\n",
    "    value = value.replace(',','.')\n",
    "    value = value.replace('l','1')\n",
    "    value = value.replace('I','1')\n",
    "    value = value.replace('i','1')\n",
    "    value = value.replace(' ', '')\n",
    "    value = value.replace('A', '.1')\n",
    "    return value\n",
    "\n",
    "#Cleans a column of measured values. Again, operations are done by inspection\n",
    "def clean_measure(value):\n",
    "    value = value.replace(\" \", \"\")\n",
    "    value = value.replace(\",\", \".\")\n",
    "    value = value.replace('l', \"1\")\n",
    "    value = value.replace('I', \"1\")\n",
    "    value = value.replace(\"x10\",\"e\")\n",
    "    value = value.replace(\"×10\", \"e\")\n",
    "    value = value.replace(\"s10\", \"e\")\n",
    "    value = value.replace(\"10s\", \"5\")\n",
    "    value = value.replace('es', \"e5\")\n",
    "    value = value.replace('i', '1')\n",
    "    value = value.replace('>', \"\")\n",
    "    value = value.replace('¢', \"c\")\n",
    "    value = value.replace('-.', \"\")\n",
    "    value = value.replace('O', '0')\n",
    "    return value\n",
    "\n",
    "#Finds where a symbol occurs within a string\n",
    "def findOccur(s, ch):\n",
    "    return [i for i, letter in enumerate(s) if letter == ch]\n",
    "\n",
    "#Finds the maximum value of a list of lists\n",
    "def max_value(inputlist):\n",
    "    maxs = []\n",
    "    for sublist in inputlist:\n",
    "        maxs.append(max(sublist))\n",
    "    return max(maxs)\n",
    "\n",
    "#Finds the minimum value of a list of lists\n",
    "def min_value(inputlist):\n",
    "    mins = []\n",
    "    for sublist in inputlist:\n",
    "        mins.append(min(sublist))\n",
    "    return min(mins)\n",
    "\n",
    "\n",
    "#For an entry with a measured and uncertainty value, turns the two into a tuple\n",
    "def split_uncertain(value):\n",
    "    chars = set('+-_±')\n",
    "    all_index = []\n",
    "    \n",
    "    for c in chars:\n",
    "        if len(findOccur(value,c)) == 0:\n",
    "            pass\n",
    "        else:\n",
    "            all_index.append(findOccur(value,c))\n",
    "            \n",
    "    if len(all_index) == 0:\n",
    "        return value\n",
    "    \n",
    "    else:   \n",
    "        max_i = max_value(all_index)\n",
    "        min_i = min_value(all_index)\n",
    "    \n",
    "        return value[:min_i], value[(max_i+1):]\n",
    "\n",
    "#Get the measured value from the measured and uncertainty tuple\n",
    "def extractvalue(measured):\n",
    "    if type(measured) == str:\n",
    "        return measured\n",
    "    else:\n",
    "        return measured[0]\n",
    "    \n",
    "#Get the uncertainty value from the measured and uncertainty tuple\n",
    "def extractuncertain(measured):\n",
    "    if type(measured) == str:\n",
    "        return '0'\n",
    "    else:\n",
    "        return measured[1]\n",
    "\n",
    "#Used to flag entries that have footnote\n",
    "def endswithb(value):\n",
    "    if value[-1] == 'b':\n",
    "        return True\n",
    "    else:\n",
    "        return False\n",
    "    \n",
    "#Used to flag entries that have footnote\n",
    "def endswithc(value):\n",
    "    if value[-1] == 'c':\n",
    "        return True\n",
    "    else:\n",
    "        return False\n",
    "    \n",
    "def removeend(string):\n",
    "    return string[:-1]\n",
    "\n",
    "#Checks compound name to determine if it is a valid IUPAC name; \n",
    "#returns list of unrecognized compound names\n",
    "def check_names(names):\n",
    "    #Code adapted from Pharmsci 175/275\n",
    "    bad_names = []\n",
    "    for name in names:\n",
    "    #Create a new OEMol\n",
    "        mol_from_name = OEMol()\n",
    "        if OEParseIUPACName(mol_from_name, name) == True:\n",
    "            pass\n",
    "        else:\n",
    "            bad_names.append(name)\n",
    "    return bad_names\n",
    "\n",
    "#Type in help(method) to see the method abbreviations\n",
    "def method():\n",
    "    '''\n",
    "    GCR: Gas-liquid chromatography with gas phase correction\n",
    "    GC: Gas-liquid chromatography with no gas phase correction\n",
    "    EBUL: Differential ebulliometry\n",
    "    DP: Dew-point method\n",
    "    NSGC: Non-steady-state gas chromatography\n",
    "    RGC: Relative gas-liquid chromatography\n",
    "    HS: Headspace chromatography\n",
    "    GS: Gas-stripping\n",
    "    STAT: Differential static cell equilibrium\n",
    "    LLC: Liquid-liquid chromatography\n",
    "    KHW: Hexadecane-water partition cofficient indirect method\n",
    "    KGW: Estimation from gas-water partition coefficients from solubility measurements\n",
    "    EXT: Extrapolated VLE\n",
    "    '''\n",
    "    return "
   ]
  },
  {
   "cell_type": "code",
   "execution_count": 45,
   "metadata": {},
   "outputs": [],
   "source": [
    "table = pd.read_csv('rawtable3.csv', delimiter = ',')\n",
    "table = table[pd.notnull(table['Solvent'])]\n",
    "table = table[pd.notnull(table['Temp'])]\n",
    "table = table.reset_index(drop = True)"
   ]
  },
  {
   "cell_type": "code",
   "execution_count": 48,
   "metadata": {},
   "outputs": [],
   "source": [
    "bad_names = check_names(table.Solvent.unique())\n",
    "#table.loc[table.Solvent == bad_names[0]] #use this line to view all rows of a given solvent\n",
    "#Change to IUPAC Name, if possible\n",
    "table.Solvent = table.Solvent.replace({\n",
    "    bad_names[0]: '1,1,2,2-Tetrachloroethane',\n",
    "    bad_names[1]: '1,1-Dichloroethane',\n",
    "    bad_names[2]: '4-(Chloromethyl)-1,3-dioxolan-2-one',#replaced with IUPAC Name\n",
    "    bad_names[3]: '4-(Chloromethyl)-1,3-dioxolan-2-one',\n",
    "    bad_names[4]: 'Ethanol',\n",
    "    bad_names[5]: '1-Propanol',\n",
    "    bad_names[6]: '2-Propen-1-ol',\n",
    "    bad_names[7]: 'Isobutyl alcohol',\n",
    "    bad_names[8]: 'Tert-butyl alcohol',\n",
    "    bad_names[9]: 'Triethylene glycol',\n",
    "    bad_names[14]: 'PEG 7500',\n",
    "    bad_names[15]: 'Tetrahydrofuran',\n",
    "    bad_names[21]: 'Butyl phosphate',\n",
    "    bad_names[22]: 'Dibutyl phosphate',\n",
    "    bad_names[23]: 'Tributyl phosphate',\n",
    "    bad_names[24]: 'Methyl diphenyl phosphate',\n",
    "    bad_names[26]: 'Dinonyl benzene-1,2-dicarboxylate',\n",
    "    bad_names[27]: 'N,N-Dimethylformamide'\n",
    "})"
   ]
  },
  {
   "cell_type": "code",
   "execution_count": 49,
   "metadata": {},
   "outputs": [
    {
     "data": {
      "text/plain": [
       "['PEG 400',\n",
       " 'PEG 600',\n",
       " 'PEG 1000',\n",
       " 'PEG 1500',\n",
       " 'PEG 7500',\n",
       " 'Tetraethylene Glycol-Dimethyl Ether',\n",
       " 'Tripropylene Glycol-Dimethyl Ether',\n",
       " 'Triethylene Glycol-Dibutyl Ether',\n",
       " 'Diethylene Glycol-Dibutyl Ether',\n",
       " 'Tripropylene Glycol-Dibutyl Ether',\n",
       " 'Phosphoric Acid, Tri-(2-Butoxyethyl) Ester']"
      ]
     },
     "execution_count": 49,
     "metadata": {},
     "output_type": "execute_result"
    }
   ],
   "source": [
    "bad_names = check_names(table.Solvent.unique())\n",
    "bad_names #unclear what the proper IUPAC name for these compounds is"
   ]
  },
  {
   "cell_type": "code",
   "execution_count": 50,
   "metadata": {},
   "outputs": [
    {
     "data": {
      "text/plain": [
       "['nan', ';2!', '3:}', ',34', '2,8']"
      ]
     },
     "execution_count": 50,
     "metadata": {},
     "output_type": "execute_result"
    }
   ],
   "source": [
    "#Looks through all the reference numbers and returns ones that aren't proper numbers\n",
    "table['Ref.'] = table['Ref.'].astype(str)\n",
    "bad_ref = []\n",
    "for entry in table['Ref.']:\n",
    "    if entry.isnumeric() == True:\n",
    "        pass\n",
    "    else:\n",
    "        bad_ref.append(entry)\n",
    "bad_ref"
   ]
  },
  {
   "cell_type": "code",
   "execution_count": 51,
   "metadata": {},
   "outputs": [],
   "source": [
    "#Fix the reference numbers by inspection\n",
    "table['Ref.'] = table['Ref.'].replace({\n",
    "    bad_ref[0]: '7',\n",
    "    bad_ref[1]: '22',\n",
    "    bad_ref[2]: '33',\n",
    "    bad_ref[3]: '34',\n",
    "    bad_ref[4]: '28'\n",
    "})"
   ]
  },
  {
   "cell_type": "code",
   "execution_count": 52,
   "metadata": {},
   "outputs": [],
   "source": [
    "def most(series):\n",
    "    lst = list(series)\n",
    "    return max(lst,key=lst.count)\n",
    "\n",
    "#Values from the same reference use the same method. However, the method string is parsed incorrectly\n",
    "#for some entries. By taking the most common entry, we typically get the correct method string.\n",
    "\n",
    "reference_dict = {}\n",
    "for entry in table['Ref.'].unique():\n",
    "    series = table.loc[table['Ref.'] == entry].Method\n",
    "    reference_dict[entry] = most(series)\n",
    "\n",
    "#Fix manually\n",
    "reference_dict['10'] = 'EXT'    \n",
    "\n",
    "#Matches all reference numbers with the correct method for every row\n",
    "for key in reference_dict:\n",
    "    table.loc[table['Ref.'] == key, 'Method'] = reference_dict[key]\n",
    "\n",
    "#For values with a footnote\n",
    "table.loc[table.Method.apply(endswithb) == True, 'Notes'] = 'In the original paper, the experimental method was not clearly indicated. The experimental method indicated is guess from the context.' \n"
   ]
  },
  {
   "cell_type": "markdown",
   "metadata": {},
   "source": [
    "### Fixing Temperature Values"
   ]
  },
  {
   "cell_type": "code",
   "execution_count": 53,
   "metadata": {},
   "outputs": [
    {
     "data": {
      "text/html": [
       "<div>\n",
       "<style scoped>\n",
       "    .dataframe tbody tr th:only-of-type {\n",
       "        vertical-align: middle;\n",
       "    }\n",
       "\n",
       "    .dataframe tbody tr th {\n",
       "        vertical-align: top;\n",
       "    }\n",
       "\n",
       "    .dataframe thead th {\n",
       "        text-align: right;\n",
       "    }\n",
       "</style>\n",
       "<table border=\"1\" class=\"dataframe\">\n",
       "  <thead>\n",
       "    <tr style=\"text-align: right;\">\n",
       "      <th></th>\n",
       "      <th>Solvent</th>\n",
       "      <th>Temp</th>\n",
       "      <th>Measured</th>\n",
       "      <th>Method</th>\n",
       "      <th>Ref.</th>\n",
       "      <th>Notes</th>\n",
       "    </tr>\n",
       "  </thead>\n",
       "  <tbody>\n",
       "    <tr>\n",
       "      <th>119</th>\n",
       "      <td>Triethylene glycol</td>\n",
       "      <td>331,45</td>\n",
       "      <td>0,66</td>\n",
       "      <td>GC</td>\n",
       "      <td>19</td>\n",
       "      <td>NaN</td>\n",
       "    </tr>\n",
       "    <tr>\n",
       "      <th>132</th>\n",
       "      <td>Triethylene glycol</td>\n",
       "      <td>378,15</td>\n",
       "      <td>0.807</td>\n",
       "      <td>GC</td>\n",
       "      <td>9</td>\n",
       "      <td>NaN</td>\n",
       "    </tr>\n",
       "    <tr>\n",
       "      <th>149</th>\n",
       "      <td>PEG 600</td>\n",
       "      <td>.348.15</td>\n",
       "      <td>0.428</td>\n",
       "      <td>GC</td>\n",
       "      <td>9</td>\n",
       "      <td>NaN</td>\n",
       "    </tr>\n",
       "    <tr>\n",
       "      <th>177</th>\n",
       "      <td>PEG 1500</td>\n",
       "      <td>.343.15</td>\n",
       "      <td>0.222</td>\n",
       "      <td>GC</td>\n",
       "      <td>9</td>\n",
       "      <td>NaN</td>\n",
       "    </tr>\n",
       "    <tr>\n",
       "      <th>178</th>\n",
       "      <td>PEG 1500</td>\n",
       "      <td>.348.15</td>\n",
       "      <td>0.238</td>\n",
       "      <td>GC</td>\n",
       "      <td>9</td>\n",
       "      <td>NaN</td>\n",
       "    </tr>\n",
       "    <tr>\n",
       "      <th>225</th>\n",
       "      <td>Tetrahydrofuran</td>\n",
       "      <td>.7,43.15</td>\n",
       "      <td>7.77</td>\n",
       "      <td>EXT</td>\n",
       "      <td>28</td>\n",
       "      <td>NaN</td>\n",
       "    </tr>\n",
       "    <tr>\n",
       "      <th>282</th>\n",
       "      <td>Nitromethane</td>\n",
       "      <td>.343.35</td>\n",
       "      <td>8.6 + 0.4</td>\n",
       "      <td>EBUL</td>\n",
       "      <td>8</td>\n",
       "      <td>NaN</td>\n",
       "    </tr>\n",
       "    <tr>\n",
       "      <th>299</th>\n",
       "      <td>Aniline</td>\n",
       "      <td>323,15</td>\n",
       "      <td>2,55</td>\n",
       "      <td>EXT</td>\n",
       "      <td>14</td>\n",
       "      <td>NaN</td>\n",
       "    </tr>\n",
       "    <tr>\n",
       "      <th>300</th>\n",
       "      <td>Aniline</td>\n",
       "      <td>373,15</td>\n",
       "      <td>5.81</td>\n",
       "      <td>EXT</td>\n",
       "      <td>28</td>\n",
       "      <td>NaN</td>\n",
       "    </tr>\n",
       "  </tbody>\n",
       "</table>\n",
       "</div>"
      ],
      "text/plain": [
       "                Solvent      Temp   Measured Method Ref. Notes\n",
       "119  Triethylene glycol    331,45       0,66     GC   19   NaN\n",
       "132  Triethylene glycol    378,15      0.807     GC    9   NaN\n",
       "149             PEG 600   .348.15      0.428     GC    9   NaN\n",
       "177            PEG 1500   .343.15      0.222     GC    9   NaN\n",
       "178            PEG 1500   .348.15      0.238     GC    9   NaN\n",
       "225     Tetrahydrofuran  .7,43.15       7.77    EXT   28   NaN\n",
       "282        Nitromethane   .343.35  8.6 + 0.4   EBUL    8   NaN\n",
       "299             Aniline    323,15       2,55    EXT   14   NaN\n",
       "300             Aniline    373,15       5.81    EXT   28   NaN"
      ]
     },
     "execution_count": 53,
     "metadata": {},
     "output_type": "execute_result"
    }
   ],
   "source": [
    "temp_probs = check_value(table['Temp'])\n",
    "table.iloc[temp_probs, :]"
   ]
  },
  {
   "cell_type": "code",
   "execution_count": 54,
   "metadata": {},
   "outputs": [],
   "source": [
    "#Apply temperature cleaning function on all rows with bad temperature values\n",
    "table.loc[table.Temp.apply(is_number) == False, 'Temp'] = table.Temp.apply(clean_temp)\n",
    "temp_probs = check_value(table['Temp'])\n",
    "table.iloc[225,:].Temp = '343.15'"
   ]
  },
  {
   "cell_type": "markdown",
   "metadata": {},
   "source": [
    "### Fixing Measured Values"
   ]
  },
  {
   "cell_type": "code",
   "execution_count": 55,
   "metadata": {},
   "outputs": [
    {
     "data": {
      "text/plain": [
       "45"
      ]
     },
     "execution_count": 55,
     "metadata": {},
     "output_type": "execute_result"
    }
   ],
   "source": [
    "#Saves index of all rows with messed up measured values\n",
    "measure_probs = check_value(table['Measured'])\n",
    "\n",
    "#Display list of problematic measured values\n",
    "len(table.iloc[measure_probs,:])"
   ]
  },
  {
   "cell_type": "code",
   "execution_count": 56,
   "metadata": {},
   "outputs": [
    {
     "name": "stdout",
     "output_type": "stream",
     "text": [
      "36\n"
     ]
    }
   ],
   "source": [
    "#Apply cleaning function to all rows with value not recognized as a number\n",
    "table.loc[table.Measured.apply(is_number) == False, 'Measured'] = table.Measured.apply(clean_measure)\n",
    "measure_probs = check_value(table['Measured'])\n",
    "print(len(measure_probs))\n"
   ]
  },
  {
   "cell_type": "code",
   "execution_count": 57,
   "metadata": {},
   "outputs": [
    {
     "name": "stdout",
     "output_type": "stream",
     "text": [
      "5\n"
     ]
    }
   ],
   "source": [
    "#Splits entries with an uncertainty into two\n",
    "table['Measured'] = table.Measured.apply(split_uncertain)\n",
    "\n",
    "#Creates an uncertainty column with uncertainty if applicable\n",
    "table['Uncertain'] = table.Measured.apply(extractuncertain)\n",
    "\n",
    "#Replaces measured column with a single value if it was previously split\n",
    "table['Measured'] = table.Measured.apply(extractvalue)\n",
    "\n",
    "measure_probs = check_value(table['Measured'])\n",
    "print(len(measure_probs)) #Still have some values we can't read well"
   ]
  },
  {
   "cell_type": "code",
   "execution_count": 58,
   "metadata": {},
   "outputs": [
    {
     "data": {
      "text/html": [
       "<div>\n",
       "<style scoped>\n",
       "    .dataframe tbody tr th:only-of-type {\n",
       "        vertical-align: middle;\n",
       "    }\n",
       "\n",
       "    .dataframe tbody tr th {\n",
       "        vertical-align: top;\n",
       "    }\n",
       "\n",
       "    .dataframe thead th {\n",
       "        text-align: right;\n",
       "    }\n",
       "</style>\n",
       "<table border=\"1\" class=\"dataframe\">\n",
       "  <thead>\n",
       "    <tr style=\"text-align: right;\">\n",
       "      <th></th>\n",
       "      <th>Solvent</th>\n",
       "      <th>Temp</th>\n",
       "      <th>Measured</th>\n",
       "      <th>Method</th>\n",
       "      <th>Ref.</th>\n",
       "      <th>Notes</th>\n",
       "      <th>Uncertain</th>\n",
       "    </tr>\n",
       "  </thead>\n",
       "  <tbody>\n",
       "    <tr>\n",
       "      <th>147</th>\n",
       "      <td>PEG 600</td>\n",
       "      <td>333.15</td>\n",
       "      <td>0..343</td>\n",
       "      <td>GC</td>\n",
       "      <td>9</td>\n",
       "      <td>NaN</td>\n",
       "      <td>0</td>\n",
       "    </tr>\n",
       "    <tr>\n",
       "      <th>183</th>\n",
       "      <td>PEG 1500</td>\n",
       "      <td>373.15</td>\n",
       "      <td>0..7.48</td>\n",
       "      <td>GC</td>\n",
       "      <td>9</td>\n",
       "      <td>NaN</td>\n",
       "      <td>0</td>\n",
       "    </tr>\n",
       "    <tr>\n",
       "      <th>242</th>\n",
       "      <td>Ethyl Acetate</td>\n",
       "      <td>288.15</td>\n",
       "      <td>18.1~0.17</td>\n",
       "      <td>STAT</td>\n",
       "      <td>37</td>\n",
       "      <td>NaN</td>\n",
       "      <td>0</td>\n",
       "    </tr>\n",
       "    <tr>\n",
       "      <th>263</th>\n",
       "      <td>Tributyl phosphate</td>\n",
       "      <td>298.15</td>\n",
       "      <td>2..34</td>\n",
       "      <td>GC</td>\n",
       "      <td>6</td>\n",
       "      <td>NaN</td>\n",
       "      <td>0</td>\n",
       "    </tr>\n",
       "    <tr>\n",
       "      <th>291</th>\n",
       "      <td>N,N-Dimethylformamide</td>\n",
       "      <td>382.95</td>\n",
       "      <td>1.33e0.07</td>\n",
       "      <td>EBUL</td>\n",
       "      <td>8</td>\n",
       "      <td>NaN</td>\n",
       "      <td>0</td>\n",
       "    </tr>\n",
       "  </tbody>\n",
       "</table>\n",
       "</div>"
      ],
      "text/plain": [
       "                   Solvent    Temp   Measured Method Ref. Notes Uncertain\n",
       "147                PEG 600  333.15     0..343     GC    9   NaN         0\n",
       "183               PEG 1500  373.15    0..7.48     GC    9   NaN         0\n",
       "242          Ethyl Acetate  288.15  18.1~0.17   STAT   37   NaN         0\n",
       "263     Tributyl phosphate  298.15      2..34     GC    6   NaN         0\n",
       "291  N,N-Dimethylformamide  382.95  1.33e0.07   EBUL    8   NaN         0"
      ]
     },
     "execution_count": 58,
     "metadata": {},
     "output_type": "execute_result"
    }
   ],
   "source": [
    "table.iloc[measure_probs,:]"
   ]
  },
  {
   "cell_type": "code",
   "execution_count": 59,
   "metadata": {},
   "outputs": [],
   "source": [
    "#Remaining values we can't fix can just be manually fixed\n",
    "table.iloc[147,:].Measured = '0.343'\n",
    "table.iloc[183,:].Measured = '0.348'\n",
    "table.iloc[242,:].Measured = '18.1'\n",
    "table.iloc[242,:].Uncertain = '0.17'\n",
    "table.iloc[263,:].Measured = '2.34'\n",
    "table.iloc[291,:].Measured = '1.33'\n",
    "table.iloc[291,:].Uncertain = '0.07'"
   ]
  },
  {
   "cell_type": "markdown",
   "metadata": {},
   "source": [
    "#### Checking Uncertainty Values"
   ]
  },
  {
   "cell_type": "code",
   "execution_count": 60,
   "metadata": {},
   "outputs": [],
   "source": [
    "#Same for checking uncertainty values are all correct\n",
    "uncertain_probs = check_value(table['Uncertain'])\n",
    "table.iloc[uncertain_probs,:]\n",
    "table.iloc[223,:].Uncertain = '0.3'"
   ]
  },
  {
   "cell_type": "markdown",
   "metadata": {},
   "source": [
    "### Check Values"
   ]
  },
  {
   "cell_type": "code",
   "execution_count": 68,
   "metadata": {},
   "outputs": [],
   "source": [
    "#Set a threshold condition to ensure that values that were considered 'correct' did not\n",
    "#slip under the cracks. \n",
    "error_names = []\n",
    "compounds = table.Solvent.unique()\n",
    "for compound in compounds:\n",
    "    values = table.loc[table.Solvent == compound].Measured\n",
    "    values = values.tolist()\n",
    "    values = [float(x) for x in values]\n",
    "    if max(values) > 5*min(values): #threshold condition\n",
    "        error_names.append(compound)"
   ]
  },
  {
   "cell_type": "code",
   "execution_count": 69,
   "metadata": {},
   "outputs": [],
   "source": [
    "error_names = []\n",
    "compounds = table.Solvent.unique()\n",
    "for compound in compounds:\n",
    "    values = table.loc[table.Solvent == compound].Uncertain\n",
    "    values = values.tolist()\n",
    "    values = [float(x) for x in values if x!= '0']\n",
    "    if values == []:\n",
    "        pass\n",
    "    else:\n",
    "        if max(values) > 10*min(values): #threshold condition for uncertainty\n",
    "            error_names.append(compound)"
   ]
  },
  {
   "cell_type": "code",
   "execution_count": 70,
   "metadata": {},
   "outputs": [],
   "source": [
    "#Mistakes found while going through the finalized table\n",
    "table.iloc[68,:].Uncertain = '0.07'\n",
    "table.iloc[163,:].Measured = '0.324'"
   ]
  },
  {
   "cell_type": "code",
   "execution_count": 67,
   "metadata": {},
   "outputs": [],
   "source": [
    "#Export finalized table as an Excel file\n",
    "#table.to_excel(\"table3.xlsx\")"
   ]
  }
 ],
 "metadata": {
  "kernelspec": {
   "display_name": "Python 3",
   "language": "python",
   "name": "python3"
  },
  "language_info": {
   "codemirror_mode": {
    "name": "ipython",
    "version": 3
   },
   "file_extension": ".py",
   "mimetype": "text/x-python",
   "name": "python",
   "nbconvert_exporter": "python",
   "pygments_lexer": "ipython3",
   "version": "3.6.4"
  }
 },
 "nbformat": 4,
 "nbformat_minor": 2
}
